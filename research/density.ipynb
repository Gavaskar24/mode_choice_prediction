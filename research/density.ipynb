{
 "cells": [
  {
   "cell_type": "code",
   "execution_count": 41,
   "metadata": {},
   "outputs": [],
   "source": [
    "import numpy as np\n",
    "import pandas as pd\n",
    "import matplotlib.pyplot as plt\n"
   ]
  },
  {
   "cell_type": "code",
   "execution_count": 42,
   "metadata": {},
   "outputs": [],
   "source": [
    "path = r\"E:\\Metro1\\artifacts\\\\\"\n",
    "\n",
    "df=pd.read_csv(path+\"Population group 1km origin.csv\",encoding='latin1')"
   ]
  },
  {
   "cell_type": "code",
   "execution_count": 43,
   "metadata": {},
   "outputs": [
    {
     "data": {
      "text/plain": [
       "Index(['FID', 'Pop_2015', 'Pop_M_2015', 'Pop_F_2015', 'Emp_2015', 'Z_Area_m2',\n",
       "       'PDn_pe/km2', 'Area_cal'],\n",
       "      dtype='object')"
      ]
     },
     "execution_count": 43,
     "metadata": {},
     "output_type": "execute_result"
    }
   ],
   "source": [
    "# remove some columns\n",
    "df.drop(['Name','Jurisdictn','Zone','Ward','Reference'],axis=1,inplace=True)\n",
    "df.columns"
   ]
  },
  {
   "cell_type": "code",
   "execution_count": 44,
   "metadata": {},
   "outputs": [],
   "source": [
    "# lets compute a factor column\n",
    "df['factor']=df['Area_cal']/df['Z_Area_m2']\n",
    "# if factor of any entry is greater than 1 then make it 1\n",
    "df['factor']=df['factor'].apply(lambda x: 1 if x>1 else x)"
   ]
  },
  {
   "cell_type": "code",
   "execution_count": 45,
   "metadata": {},
   "outputs": [],
   "source": [
    "# multiply the columns 'Pop_2015', 'Pop_M_2015', 'Pop_F_2015', 'Emp_2015' with factor column and update them\n",
    "df['Pop_2015']=df['Pop_2015']*df['factor']\n",
    "df['Pop_M_2015']=df['Pop_M_2015']*df['factor']\n",
    "df['Pop_F_2015']=df['Pop_F_2015']*df['factor']\n",
    "df['Emp_2015']=df['Emp_2015']*df['factor']\n",
    "\n",
    "df.drop(['factor','Z_Area_m2', 'PDn_pe/km2'],axis=1,inplace=True)"
   ]
  },
  {
   "cell_type": "code",
   "execution_count": 46,
   "metadata": {},
   "outputs": [],
   "source": [
    "# take FID as reference column and add all other columns together for similar entry of column 'FID'\n",
    "df=df.groupby('FID').sum().reset_index()"
   ]
  },
  {
   "cell_type": "code",
   "execution_count": 47,
   "metadata": {},
   "outputs": [],
   "source": [
    "df['population_density']=1000000*df['Pop_2015']/df['Area_cal']\n",
    "df['employment_density']=1000000*df['Emp_2015']/df['Area_cal']"
   ]
  },
  {
   "cell_type": "code",
   "execution_count": 48,
   "metadata": {},
   "outputs": [],
   "source": [
    "df.to_csv(path+\"Population group 1km origin output.csv\",index=False)"
   ]
  }
 ],
 "metadata": {
  "kernelspec": {
   "display_name": "Python 3",
   "language": "python",
   "name": "python3"
  },
  "language_info": {
   "codemirror_mode": {
    "name": "ipython",
    "version": 3
   },
   "file_extension": ".py",
   "mimetype": "text/x-python",
   "name": "python",
   "nbconvert_exporter": "python",
   "pygments_lexer": "ipython3",
   "version": "3.11.2"
  }
 },
 "nbformat": 4,
 "nbformat_minor": 2
}
