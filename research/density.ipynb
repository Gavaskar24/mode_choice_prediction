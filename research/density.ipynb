{
 "cells": [
  {
   "cell_type": "code",
   "execution_count": 29,
   "metadata": {},
   "outputs": [],
   "source": [
    "import numpy as np\n",
    "import pandas as pd\n",
    "import matplotlib.pyplot as plt\n"
   ]
  },
  {
   "cell_type": "code",
   "execution_count": 30,
   "metadata": {},
   "outputs": [],
   "source": [
    "path = r\"E:\\Metro1\\artifacts\\\\\"\n",
    "\n",
    "df=pd.read_csv(path+\"Metro_destination_1km_radius.csv\",encoding='latin1')"
   ]
  },
  {
   "cell_type": "code",
   "execution_count": 31,
   "metadata": {},
   "outputs": [
    {
     "data": {
      "text/plain": [
       "Index(['ï»¿FID', 'Zone', 'Pop_2015', 'Pop_M_2015', 'Pop_F_2015', 'Emp_2015',\n",
       "       'Ward', 'Z_Area_m2', 'PDn_pe/km2', 'Cal_area'],\n",
       "      dtype='object')"
      ]
     },
     "execution_count": 31,
     "metadata": {},
     "output_type": "execute_result"
    }
   ],
   "source": [
    "df.columns"
   ]
  },
  {
   "cell_type": "code",
   "execution_count": 32,
   "metadata": {},
   "outputs": [],
   "source": [
    "# lets compute a factor column\n",
    "df['factor']=df[ 'Cal_area']/df['Z_Area_m2']\n",
    "# if factor of any entry is greater than 1 then make it 1\n",
    "df['factor']=df['factor'].apply(lambda x: 1 if x>1 else x)"
   ]
  },
  {
   "cell_type": "code",
   "execution_count": 33,
   "metadata": {},
   "outputs": [],
   "source": [
    "# multiply the columns 'Pop_2015', 'Pop_M_2015', 'Pop_F_2015', 'Emp_2015' with factor column and update them\n",
    "df['Pop_2015']=df['Pop_2015']*df['factor']\n",
    "df['Pop_M_2015']=df['Pop_M_2015']*df['factor']\n",
    "df['Pop_F_2015']=df['Pop_F_2015']*df['factor']\n",
    "df['Emp_2015']=df['Emp_2015']*df['factor']\n",
    "\n",
    "\n",
    "df.drop(['factor','Z_Area_m2', 'PDn_pe/km2','Cal_area'],axis=1,inplace=True)"
   ]
  },
  {
   "cell_type": "code",
   "execution_count": 34,
   "metadata": {},
   "outputs": [],
   "source": [
    "# take FID as reference column and add all other columns together for similar entry of column 'FID'\n",
    "df=df.groupby('ï»¿FID').sum().reset_index()\n",
    "\n",
    "# divide the above 4 columns by PI\n",
    "df['Pop_2015']=df['Pop_2015']/np.pi\n",
    "df['Pop_M_2015']=df['Pop_M_2015']/np.pi\n",
    "df['Pop_F_2015']=df['Pop_F_2015']/np.pi\n",
    "df['Emp_2015']=df['Emp_2015']/np.pi\n"
   ]
  },
  {
   "cell_type": "code",
   "execution_count": 35,
   "metadata": {},
   "outputs": [],
   "source": [
    "df.to_csv(path+\"Metro_destination_population_1km_radius.csv\",index=False)"
   ]
  }
 ],
 "metadata": {
  "kernelspec": {
   "display_name": "Python 3",
   "language": "python",
   "name": "python3"
  },
  "language_info": {
   "codemirror_mode": {
    "name": "ipython",
    "version": 3
   },
   "file_extension": ".py",
   "mimetype": "text/x-python",
   "name": "python",
   "nbconvert_exporter": "python",
   "pygments_lexer": "ipython3",
   "version": "3.11.2"
  }
 },
 "nbformat": 4,
 "nbformat_minor": 2
}
