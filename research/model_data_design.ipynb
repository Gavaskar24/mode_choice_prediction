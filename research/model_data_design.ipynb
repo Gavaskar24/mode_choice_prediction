{
 "cells": [
  {
   "cell_type": "code",
   "execution_count": 50,
   "metadata": {},
   "outputs": [],
   "source": [
    "import numpy as np\n",
    "import pandas as pd\n",
    "import seaborn as sns"
   ]
  },
  {
   "cell_type": "code",
   "execution_count": 51,
   "metadata": {},
   "outputs": [],
   "source": [
    "path = r\"E:\\Metro1\\raw_data\\\\\"\n",
    "\n",
    "egress_df=pd.read_csv(path+\"egress_data.csv\")\n",
    "\n",
    "df=pd.read_csv(path+\"egress_data.csv\")\n",
    "\n"
   ]
  },
  {
   "cell_type": "code",
   "execution_count": 52,
   "metadata": {},
   "outputs": [
    {
     "data": {
      "text/plain": [
       "Index(['ID', 'E_SLOPE_TYPE', '25a', '25b', '26', '27', '28a', '28b', '28c',\n",
       "       '28d', '29a', '29b', '29c', '29d', '2c', '2d', '3', '4', '5', '6', '7',\n",
       "       '8', '9', '10', '10a', '10b', '10c', '30a', '30b', '31', '32', '33a',\n",
       "       '33b', '33c', '33d', '33e', '34a', '34b', '34c', '34d', '34e', '11',\n",
       "       '11a', '11b', '11c', '12', '13a', '13b', '14', '15', '16', '17', '17a',\n",
       "       '17b', '17c', '18', '19', '20', '21', '22a', '22b', '22c', '22d', '23',\n",
       "       '24', '35a', '35b', '36a', '36b', '37', '38', '39', '40', '41', '42',\n",
       "       '43', '44', '45', '46', 'O_LEVEL', 'OM_LEVEL', 'A_LEVEL_DIFF',\n",
       "       'A_SLOPE_TYPE', 'DM_LEVEL', 'D_LEVEL', 'E_LEVEL_DIFF'],\n",
       "      dtype='object')"
      ]
     },
     "execution_count": 52,
     "metadata": {},
     "output_type": "execute_result"
    }
   ],
   "source": [
    "df.columns"
   ]
  },
  {
   "cell_type": "code",
   "execution_count": 53,
   "metadata": {},
   "outputs": [],
   "source": [
    "df.shape[0]\n",
    "\n",
    "# drop duplicate entries with same ID\n",
    "df.drop_duplicates(subset=['ID'], inplace=True)"
   ]
  },
  {
   "cell_type": "code",
   "execution_count": 54,
   "metadata": {},
   "outputs": [],
   "source": [
    "trip_types = {\n",
    "    'Home based work': [('Home', 'Work'), ('Work', 'Home')],\n",
    "    'Home based education': [('Home', 'School'), ('School', 'Home')],\n",
    "    'Home based other': [('Home', 'Other'), ('Other', 'Home'),('Home',  'Restaurant'), ( 'Restaurant', 'Home'),\n",
    "                         ('Home', 'Shopping'), ('Shopping', 'Home'),('Home', 'Social'), ('Social', 'Home'),\n",
    "                         ('Home', 'Friend'), ('Friend', 'Home'),],\n",
    "}\n"
   ]
  },
  {
   "cell_type": "code",
   "execution_count": 55,
   "metadata": {},
   "outputs": [],
   "source": [
    "# df=df.copy()\n",
    "# all_trips = set((row['O_TYPE'], row['D_TYPE']) for _, row in df.iterrows())\n",
    "# categorized_trips = set(trip for trips in trip_types.values() for trip in trips)\n",
    "# non_home_based_trips = all_trips - categorized_trips\n",
    "# trip_types['Non home based'] = list(non_home_based_trips)\n",
    "\n",
    "# # Calculate the number of trips and percentages\n",
    "# results = []\n",
    "# trip_totals = {}\n",
    "# trip_percentages = {}\n",
    "\n",
    "# for trip_type, pairs in trip_types.items():\n",
    "#     if trip_type == 'Non home based':\n",
    "#         total_trips = sum(len(df[(df['O_TYPE'] == origin) & (df['D_TYPE'] == destination)]) for origin, destination in non_home_based_trips)\n",
    "#         trip_totals[trip_type] = total_trips\n",
    "#         trip_percentage = total_trips / len(df) * 100 if len(df) > 0 else 0\n",
    "#         trip_percentages[trip_type] = round(trip_percentage,2)\n",
    "#         results.append([trip_type, 'Non home', 'Non home', total_trips])\n",
    "#     else:\n",
    "#         total_trips = sum(len(df[(df['O_TYPE'] == origin) & (df['D_TYPE'] == destination)]) for origin, destination in pairs)\n",
    "#         trip_totals[trip_type] = total_trips\n",
    "#         trip_percentage = total_trips / len(df) * 100 if len(df) > 0 else 0\n",
    "#         trip_percentages[trip_type] = trip_percentage\n",
    "#         for origin, destination in pairs:\n",
    "#             trip_count = len(df[(df['O_TYPE'] == origin) & (df['D_TYPE'] == destination)])\n",
    "#             results.append([trip_type, origin, destination, trip_count])\n",
    "\n",
    "# # Convert results to DataFrame\n",
    "# results_df = pd.DataFrame(results, columns=['Type of trip', 'Origin', 'Destination', 'No of trips'])\n",
    "\n",
    "# # Calculate %OD based\n",
    "# total_trips = len(df)\n",
    "# results_df['%OD based'] = round(results_df['No of trips'] / total_trips * 100,2)\n",
    "\n",
    "# # Adding Sl No\n",
    "# results_df.insert(0, 'Sl No', range(1, len(results_df) + 1))\n",
    "\n",
    "# # Grouping by 'Type of trip'\n",
    "# grouped_df = results_df.groupby('Type of trip')\n",
    "\n",
    "# # Function to create a table with solid lines and centered text\n",
    "# def print_solid_table(df, trip_totals, trip_percentages):\n",
    "#     header = [\"Sl No\", \"Type of trip\", \"Origin\", \"Destination\", \"No of trips\", \"%(type of trips)\", \"%OD based\"]\n",
    "#     max_len = {col: max(df[col].astype(str).map(len).max(), len(col)) if col in df else len(col) for col in header}\n",
    "    \n",
    "#     def draw_line():\n",
    "#         line = \"+\"\n",
    "#         for col in header:\n",
    "#             line += \"-\" * (max_len[col] + 2) + \"+\"\n",
    "#         print(line)\n",
    "\n",
    "#     def draw_row(row, show_type, show_sl_no, show_percentage):\n",
    "#         line = \"|\"\n",
    "#         for col in header:\n",
    "#             if col == \"Type of trip\" and not show_type:\n",
    "#                 line += \" \" * (max_len[col] + 2) + \"|\"\n",
    "#             elif col == \"Sl No\" and not show_sl_no:\n",
    "#                 line += \" \" * (max_len[col] + 2) + \"|\"\n",
    "#             elif col == \"%(type of trips)\" and not show_percentage:\n",
    "#                 line += \" \" * (max_len[col] + 2) + \"|\"\n",
    "#             else:\n",
    "#                 line += \" \" + str(row[col]).center(max_len[col]) + \" |\"\n",
    "#         print(line)\n",
    "\n",
    "#     def draw_merged_row(index, label, count, percentage):\n",
    "#         sl_no = str(index)\n",
    "#         line = \"| \" + sl_no.center(max_len[\"Sl No\"]) + \" | \" + label.center(max_len[\"Type of trip\"]) + \" |\"\n",
    "#         line += \" \" * (max_len[\"Origin\"] + 2) + \"|\"\n",
    "#         line += \" \" * (max_len[\"Destination\"] + 2) + \"|\"\n",
    "#         line += str(count).center(max_len[\"No of trips\"] + 2) + \"|\"\n",
    "#         line += str(round(percentage, 2)).center(max_len[\"%(type of trips)\"] + 2) + \"|\"\n",
    "#         line += \" \" * (max_len[\"%OD based\"] + 2) + \"|\"\n",
    "#         print(line)\n",
    "\n",
    "#     draw_line()\n",
    "#     draw_row({col: col for col in header}, True, True, True)\n",
    "#     draw_line()\n",
    "    \n",
    "#     sl_no = 1\n",
    "#     for trip_type, group in grouped_df:\n",
    "#         draw_merged_row(sl_no, trip_type, trip_totals[trip_type], trip_percentages[trip_type])\n",
    "#         type_trip_count = len(group)\n",
    "#         for i, (_, row) in enumerate(group.iterrows()):\n",
    "#             show_type = i < 0\n",
    "#             show_sl_no = i == -1\n",
    "#             draw_row(row, show_type, show_sl_no, False)\n",
    "#             type_trip_count -= 1\n",
    "#         draw_line()\n",
    "#         sl_no += 1\n",
    "\n",
    "# # Print the final table\n",
    "# print_solid_table(results_df, trip_totals, trip_percentages)\n",
    "\n",
    "# # Print the total number of samples\n",
    "# # print(f\"\\nTotal number of samples: {total_trips}\")"
   ]
  },
  {
   "cell_type": "code",
   "execution_count": 56,
   "metadata": {},
   "outputs": [
    {
     "data": {
      "text/plain": [
       "12\n",
       "For neither access nor egress trips     347\n",
       "For both access and egress trips        190\n",
       "For egress trip only                    108\n",
       "For access trip only                     66\n",
       "Name: count, dtype: int64"
      ]
     },
     "execution_count": 56,
     "metadata": {},
     "output_type": "execute_result"
    }
   ],
   "source": [
    "df['12'].value_counts()"
   ]
  },
  {
   "cell_type": "code",
   "execution_count": 57,
   "metadata": {},
   "outputs": [],
   "source": [
    "df['12'].unique()\n",
    "\n",
    "choice_mapper={'For neither access nor egress trips ':2, 'For egress trip only ':1,\n",
    "       'For both access and egress trips ':1, 'For access trip only ':2}\n",
    "\n",
    "df['12']=df['12'].map(choice_mapper)\n"
   ]
  },
  {
   "cell_type": "code",
   "execution_count": 58,
   "metadata": {},
   "outputs": [
    {
     "name": "stdout",
     "output_type": "stream",
     "text": [
      "12\n",
      "2    413\n",
      "1    298\n",
      "Name: count, dtype: int64\n"
     ]
    }
   ],
   "source": [
    "# remove duplicate rows with same id column from dataframe\n",
    "# df.drop_duplicates(subset =\"ID\",inplace = True)\n",
    "\n",
    "# print(df.shape)\n",
    "\n",
    "# # print(access_df.shape,egress_df.shape)\n",
    "# old_counts=df['12'].value_counts()\n",
    "# print(old_counts)\n",
    "\n",
    "# replacement_mapping = {4: 2, 3: 1}\n",
    "# df['12'] = df['12'].replace(replacement_mapping)\n",
    "new_counts = df['12'].value_counts()\n",
    "print(new_counts)\n",
    "\n"
   ]
  },
  {
   "cell_type": "code",
   "execution_count": 59,
   "metadata": {},
   "outputs": [],
   "source": [
    "dict={'Walk ':'Walk', 'Auto Rickshaw ':'Ride hire', 'Dropped-off by friends/others ':'Ride hire',\n",
    "       'Two-Wheeler ':'Personal vehicle', 'Ola/Uber car ':'Personal vehicle', 'Bicycle ':'Personal vehicle', 'Car ':'Personal vehicle',\n",
    "       'Rapido/Uber moto/Ola App two-wheeler ':'Ride hire', 'Shuttle':'Ride hire',\n",
    "       'Rapido/uber moto/Ola App two-wheeler ':'Ride hire', 'Uber auto ':'Ride hire',\n",
    "       'Company shuttle':'Ride hire', 'Office metro feeder':'Ride hire',\n",
    "       'Dropped-off by friends/family members/others ':'Ride hire',\n",
    "       'Drove and parked a two-Wheeler ':'Personal vehicle', 'Drove and parked a car ':'Personal vehicle',\n",
    "       'Friends two wheeler':'Personal vehicle'}\n",
    "\n",
    "df['10']=df['10'].map(dict)"
   ]
  },
  {
   "cell_type": "code",
   "execution_count": 60,
   "metadata": {},
   "outputs": [
    {
     "name": "stdout",
     "output_type": "stream",
     "text": [
      "AGE_C\n",
      "1    574\n",
      "2     80\n",
      "3     57\n",
      "Name: count, dtype: int64\n"
     ]
    }
   ],
   "source": [
    "df['18'].unique()\n",
    "\n",
    "age_mapper={'> 60 yrs ':3, '18-25 yrs ':1, '26-35 yrs ':1, '18-25yrs ':1, '26-35yrs ':1,\n",
    "       '46-60 yrs ':3, '36-45 yrs ':2, '36-45yrs ':2,'46-60yrs ':3,'> 60 yrs ':3, '18-25 yrs ':1, '26-35 yrs ':1, '26-35yrs ':1, '18-25yrs ':1,\n",
    "       '46-60 yrs ':3, '36-45 yrs ':2, '36-45yrs ':2, '46-60yrs ':3}\n",
    "df['AGE_C']=df['18'].map(age_mapper)\n",
    "\n",
    "\n",
    "print(df['AGE_C'].value_counts())\n",
    "\n",
    "df['AGE1']=0\n",
    "df['AGE2']=0\n",
    "df['AGE3']=0\n",
    "\n",
    "# if AGE_C is 1 then AGE1 is 1\n",
    "df.loc[df['AGE_C']==1,'AGE1']=1\n",
    "# if AGE_C is 2 then AGE2 is 1\n",
    "df.loc[df['AGE_C']==2,'AGE2']=1\n",
    "# if AGE_C is 3 then AGE3 is 1\n",
    "df.loc[df['AGE_C']==3,'AGE3']=1"
   ]
  },
  {
   "cell_type": "code",
   "execution_count": 61,
   "metadata": {},
   "outputs": [
    {
     "name": "stdout",
     "output_type": "stream",
     "text": [
      "0 0 0 0 0\n",
      "0 0 0 0 0\n"
     ]
    }
   ],
   "source": [
    "print(df['33a'].isna().sum(),df['33b'].isna().sum(),df['33c'].isna().sum(),df['33d'].isna().sum(),df['33e'].isna().sum())\n",
    "print(df['34a'].isna().sum(),df['34b'].isna().sum(),df['34c'].isna().sum(),df['34d'].isna().sum(),df['34e'].isna().sum())"
   ]
  },
  {
   "cell_type": "code",
   "execution_count": 62,
   "metadata": {},
   "outputs": [
    {
     "data": {
      "text/plain": [
       "count    711.000000\n",
       "mean       1.822616\n",
       "std        2.679411\n",
       "min        0.110000\n",
       "25%        0.500000\n",
       "50%        0.950000\n",
       "75%        2.000000\n",
       "max       27.600000\n",
       "Name: 33_sum, dtype: float64"
      ]
     },
     "execution_count": 62,
     "metadata": {},
     "output_type": "execute_result"
    }
   ],
   "source": [
    "# lets check if sum of 34a to 34e and print if it is \n",
    "\n",
    "df['33_sum']=df['33a']+df['33b']+df['33c']+df['33d']+df['33e']\n",
    "\n",
    "df['33_sum'].describe()"
   ]
  },
  {
   "cell_type": "code",
   "execution_count": 63,
   "metadata": {},
   "outputs": [
    {
     "name": "stderr",
     "output_type": "stream",
     "text": [
      "C:\\Users\\PC\\AppData\\Local\\Temp\\ipykernel_165956\\3481916299.py:5: FutureWarning: Setting an item of incompatible dtype is deprecated and will raise an error in a future version of pandas. Value '0.982' has dtype incompatible with int64, please explicitly cast to a compatible dtype first.\n",
      "  df.loc[i,'MAX_SLOPE']=max(df.loc[i,'34a'],df.loc[i,'34b'],df.loc[i,'34c'],df.loc[i,'34d'],df.loc[i,'34e'])\n"
     ]
    },
    {
     "data": {
      "text/plain": [
       "count    711.000000\n",
       "mean       0.799720\n",
       "std        1.344971\n",
       "min        0.000000\n",
       "25%        0.000000\n",
       "50%        0.000000\n",
       "75%        1.200000\n",
       "max       13.334000\n",
       "Name: MAX_SLOPE, dtype: float64"
      ]
     },
     "execution_count": 63,
     "metadata": {},
     "output_type": "execute_result"
    }
   ],
   "source": [
    "df['MAX_SLOPE']=0\n",
    "\n",
    "# scan through the data frame and compute the max value from 34a to 34e and store it in MAX_SLOPE\n",
    "for i in range(df.shape[0]):\n",
    "    df.loc[i,'MAX_SLOPE']=max(df.loc[i,'34a'],df.loc[i,'34b'],df.loc[i,'34c'],df.loc[i,'34d'],df.loc[i,'34e'])\n",
    "\n",
    "df['MAX_SLOPE'].describe()"
   ]
  },
  {
   "cell_type": "code",
   "execution_count": 64,
   "metadata": {},
   "outputs": [
    {
     "name": "stdout",
     "output_type": "stream",
     "text": [
      "     AVG_SLOPE  MAX_SLOPE  SEGMENT\n",
      "0       -1.923      0.000      0.0\n",
      "1        0.982      0.982      7.1\n",
      "2       -1.553      0.000      0.0\n",
      "3       -0.619      0.000      0.0\n",
      "4       -0.096      0.000      0.0\n",
      "..         ...        ...      ...\n",
      "706      0.000      0.000     11.4\n",
      "707      0.000      0.000     11.7\n",
      "708      0.000      0.000     16.3\n",
      "709      0.000      0.000     25.7\n",
      "710      0.000      0.000     27.6\n",
      "\n",
      "[711 rows x 3 columns]\n"
     ]
    }
   ],
   "source": [
    "# Assuming 'df' is your DataFrame and it has the necessary columns\n",
    "\n",
    "# Calculate AVG_SLOPE as a weighted average\n",
    "values = df[['34a', '34b', '34c', '34d', '34e']].to_numpy()\n",
    "weights = df[['33a', '33b', '33c', '33d', '33e']].to_numpy()\n",
    "\n",
    "df['AVG_SLOPE'] = np.average(values, axis=1, weights=weights)\n",
    "\n",
    "# Calculate MAX_SLOPE\n",
    "df['MAX_SLOPE'] = values.max(axis=1)\n",
    "\n",
    "# Create a 2D array of the slopes and their corresponding segments\n",
    "slopes = df[['34a', '34b', '34c', '34d', '34e']].to_numpy()\n",
    "segments = df[['33a', '33b', '33c', '33d', '33e']].to_numpy()\n",
    "\n",
    "# Get the index of the maximum slope for each row\n",
    "max_slope_indices = slopes.argmax(axis=1)\n",
    "\n",
    "# Get the corresponding segment for each maximum slope\n",
    "df['SEGMENT'] = segments[np.arange(len(df)), max_slope_indices]\n",
    "\n",
    "# Verify the result\n",
    "print(df[['AVG_SLOPE', 'MAX_SLOPE', 'SEGMENT']])"
   ]
  },
  {
   "cell_type": "code",
   "execution_count": 65,
   "metadata": {},
   "outputs": [
    {
     "name": "stdout",
     "output_type": "stream",
     "text": [
      "count    711.000000\n",
      "mean       0.134140\n",
      "std        1.393555\n",
      "min       -6.340000\n",
      "25%       -0.714000\n",
      "50%        0.000000\n",
      "75%        0.843000\n",
      "max       10.000000\n",
      "Name: AVG_SLOPE, dtype: float64 count    711.000000\n",
      "mean       0.799720\n",
      "std        1.344971\n",
      "min        0.000000\n",
      "25%        0.000000\n",
      "50%        0.000000\n",
      "75%        1.200000\n",
      "max       13.334000\n",
      "Name: MAX_SLOPE, dtype: float64\n"
     ]
    }
   ],
   "source": [
    "print(df['AVG_SLOPE'].describe(),df['MAX_SLOPE'].describe())"
   ]
  },
  {
   "cell_type": "code",
   "execution_count": 66,
   "metadata": {},
   "outputs": [],
   "source": [
    "df.rename(columns = {'31':'DISTANCE', '32':'TIME','34a':'SLOPE','37':'INTERSECTIONS','39':'D_POP_DEN','43':'D_EMP_DEN','41':'M_POP_DEN',\n",
    "                            '45':'M_EMP_DEN'}, inplace = True)"
   ]
  },
  {
   "cell_type": "code",
   "execution_count": 67,
   "metadata": {},
   "outputs": [
    {
     "data": {
      "text/plain": [
       "count    711.000000\n",
       "mean       0.193722\n",
       "std        1.566893\n",
       "min       -6.340000\n",
       "25%       -0.809000\n",
       "50%        0.000000\n",
       "75%        1.091000\n",
       "max       10.000000\n",
       "Name: SLOPE, dtype: float64"
      ]
     },
     "execution_count": 67,
     "metadata": {},
     "output_type": "execute_result"
    }
   ],
   "source": [
    "df['SLOPE'].describe()"
   ]
  },
  {
   "cell_type": "code",
   "execution_count": 68,
   "metadata": {},
   "outputs": [],
   "source": [
    "df['UP']=0\n",
    "df['DOWN']=0\n",
    "df['FLAT']=0\n",
    "\n",
    "\n",
    "# if SLOPE is positive then make POS as 1 else 0\n",
    "df.loc[df['SLOPE']>1,'UP']=1\n",
    "df.loc[df['SLOPE']<-1,'DOWN']=1\n",
    "df.loc[(df['SLOPE']>=-1) & (df['SLOPE']<=1),'FLAT']=1\n",
    "\n",
    "\n",
    "df['VEH']=0\n",
    "\n",
    "\n",
    "# if CARS or TWO_WHEELER is greater than 1 then mark VEH as 1 else 0\n",
    "df.loc[(df['22a']>1) | (df['22b']>1),'VEH']=1\n",
    "\n",
    "\n",
    "df['SHORT']=0\n",
    "df['MEDIUM']=0\n",
    "df['LONG']=0\n",
    "\n",
    "# if DISTANCE_MAP is less than 1 then make LOW as 1\n",
    "df.loc[df['DISTANCE']<1,'SHORT']=1\n",
    "# if DISTANCE_MAP is greater than 1 and less than 3 then make MEDIUM 1\n",
    "df.loc[(df['DISTANCE']>=1) & (df['DISTANCE']<3),'MEDIUM']=1\n",
    "\n",
    "# if DISTANCE_MAP is greater than 3 then make HIGH as 1\n",
    "df.loc[df['DISTANCE']>=3,'LONG']=1\n",
    "\n",
    "\n",
    "\n"
   ]
  },
  {
   "cell_type": "code",
   "execution_count": 69,
   "metadata": {},
   "outputs": [],
   "source": [
    "# rename few columns\n",
    "df.rename(columns = {'31':'DISTANCE', '32':'TIME','34a':'SLOPE','37':'INTERSECTIONS','39':'D_POP_DEN','43':'D_EMP_DEN','41':'M_POP_DEN',\n",
    "                            '45':'M_EMP_DEN','12':'RENT_BICYCLE','17':'MALE','12':'RENT_BICYCLE','24':'RENT'}, inplace = True)"
   ]
  },
  {
   "cell_type": "code",
   "execution_count": 70,
   "metadata": {},
   "outputs": [
    {
     "name": "stdout",
     "output_type": "stream",
     "text": [
      "186\n",
      "139\n",
      "386\n"
     ]
    }
   ],
   "source": [
    "print(df[df['SLOPE']>1].shape[0])\n",
    "print(df[df['SLOPE']<-1].shape[0])\n",
    "print(df.shape[0]-186-139)"
   ]
  },
  {
   "cell_type": "code",
   "execution_count": 71,
   "metadata": {},
   "outputs": [],
   "source": [
    "df['MAX_UP']=0\n",
    "df['MAX_DOWN']=0\n",
    "df['MAX_FLAT']=0    \n",
    "\n",
    "df.loc[df['MAX_SLOPE']>1,'MAX_UP']=1\n",
    "df.loc[df['MAX_SLOPE']<-1,'MAX_DOWN']=1\n",
    "df.loc[(df['MAX_SLOPE']>=-1) & (df['MAX_SLOPE']<=1),'MAX_FLAT']=1\n",
    "\n",
    "df['AVG_UP']=0\n",
    "df['AVG_DOWN']=0\n",
    "df['AVG_FLAT']=0\n",
    "\n",
    "df.loc[df['AVG_SLOPE']>1,'AVG_UP']=1\n",
    "df.loc[df['AVG_SLOPE']<-1,'AVG_DOWN']=1\n",
    "df.loc[(df['AVG_SLOPE']>=-1) & (df['AVG_SLOPE']<=1),'AVG_FLAT']=1\n",
    "\n"
   ]
  },
  {
   "cell_type": "code",
   "execution_count": 72,
   "metadata": {},
   "outputs": [],
   "source": [
    "df['UP']=0\n",
    "df['DOWN']=0\n",
    "df['FLAT']=0\n",
    "\n",
    "# if SLOPE is positive then make POS as 1 else 0\n",
    "df.loc[df['SLOPE']>1,'UP']=1\n",
    "df.loc[df['SLOPE']<-1,'DOWN']=1\n",
    "df.loc[(df['SLOPE']>=-1) & (df['SLOPE']<=1),'FLAT']=1\n",
    "\n",
    "df['VEH']=0\n",
    "\n",
    "df['POS']=0\n",
    "\n",
    "# if slope is greater than 0 then POS is 1 else 0\n",
    "df.loc[df['SLOPE']>0,'POS']=1\n",
    "\n",
    "# if CARS or TWO_WHEELER is greater than 1 then mark VEH as 1 else 0\n",
    "df.loc[(df['22a']>1) | (df['22b']>1),'VEH']=1\n",
    "\n",
    "\n",
    "df['SHORT']=0\n",
    "df['MEDIUM']=0\n",
    "df['LONG']=0\n",
    "\n",
    "# if DISTANCE_MAP is less than 1 then make LOW as 1\n",
    "df.loc[df['DISTANCE']<1,'SHORT']=1\n",
    "# if DISTANCE_MAP is greater than 1 and less than 3 then make MEDIUM 1\n",
    "df.loc[(df['DISTANCE']>=1) & (df['DISTANCE']<3),'MEDIUM']=1\n",
    "# if DISTANCE_MAP is greater than 3 then make HIGH as 1\n",
    "df.loc[df['DISTANCE']>=3,'LONG']=1\n",
    "\n",
    "\n",
    "df['AGE1']=0\n",
    "df['AGE2']=0\n",
    "df['AGE3']=0 \n",
    "\n",
    "# if AGE_C is 1 then AGE1 is 1\n",
    "df.loc[df['AGE_C']==1,'AGE1']=1\n",
    "df.loc[df['AGE_C']==2,'AGE2']=1\n",
    "df.loc[df['AGE_C']==3,'AGE3']=1\n",
    "\n",
    "df['D_POP_DEN']=df['D_POP_DEN']/10000\n",
    "df['D_EMP_DEN']=df['D_EMP_DEN']/10000\n",
    "df['M_POP_DEN']=df['M_POP_DEN']/10000\n",
    "df['M_EMP_DEN']=df['M_EMP_DEN']/10000\n",
    "\n",
    "\n",
    "df['d_pop_low']=0\n",
    "df['d_pop_med']=0\n",
    "df['d_pop_high']=0\n",
    "\n",
    "df['d_emp_high']=0\n",
    "df['d_emp_med']=0\n",
    "df['d_emp_low']=0\n",
    "\n",
    "df['m_pop_low']=0\n",
    "df['m_pop_med']=0\n",
    "df['m_pop_high']=0\n",
    "\n",
    "df['m_emp_low']=0\n",
    "df['m_emp_med']=0\n",
    "df['m_emp_high']=0\n",
    "\n",
    "df.loc[df['D_POP_DEN']>df['D_POP_DEN'].quantile(0.66),'d_pop_high']=1\n",
    "df.loc[(df['D_POP_DEN']<=df['D_POP_DEN'].quantile(0.66)) & (df['D_POP_DEN']>df['D_POP_DEN'].quantile(0.33)),'d_pop_med']=1\n",
    "df.loc[df['D_POP_DEN']<=df['D_POP_DEN'].quantile(0.33),'d_pop_low']=1\n",
    "\n",
    "df.loc[df['D_EMP_DEN']>df['D_EMP_DEN'].quantile(0.66),'d_emp_high']=1\n",
    "df.loc[(df['D_EMP_DEN']<=df['D_EMP_DEN'].quantile(0.66)) & (df['D_EMP_DEN']>df['D_EMP_DEN'].quantile(0.33)),'d_emp_med']=1\n",
    "df.loc[df['D_EMP_DEN']<=df['D_EMP_DEN'].quantile(0.33),'d_emp_low']=1\n",
    "\n",
    "df.loc[df['M_POP_DEN']>df['M_POP_DEN'].quantile(0.66),'m_pop_high']=1\n",
    "df.loc[(df['M_POP_DEN']<=df['M_POP_DEN'].quantile(0.66)) & (df['M_POP_DEN']>df['M_POP_DEN'].quantile(0.33)),'m_pop_med']=1\n",
    "df.loc[df['M_POP_DEN']<=df['M_POP_DEN'].quantile(0.33),'m_pop_low']=1\n",
    "\n",
    "df.loc[df['M_EMP_DEN']>df['M_EMP_DEN'].quantile(0.66),'m_emp_high']=1\n",
    "df.loc[(df['M_EMP_DEN']<=df['M_EMP_DEN'].quantile(0.66)) & (df['M_EMP_DEN']>df['M_EMP_DEN'].quantile(0.33)),'m_emp_med']=1\n",
    "df.loc[df['M_EMP_DEN']<=df['M_EMP_DEN'].quantile(0.33),'m_emp_low']=1\n",
    "\n",
    "\n",
    "\n"
   ]
  },
  {
   "cell_type": "code",
   "execution_count": 73,
   "metadata": {},
   "outputs": [
    {
     "data": {
      "text/plain": [
       "array(['Male', 'Female'], dtype=object)"
      ]
     },
     "execution_count": 73,
     "metadata": {},
     "output_type": "execute_result"
    }
   ],
   "source": [
    "df['MALE'].unique()"
   ]
  },
  {
   "cell_type": "code",
   "execution_count": 74,
   "metadata": {},
   "outputs": [],
   "source": [
    "gender_map= {'Male': 1, 'Female': 0}\n",
    "df['MALE'] = df['MALE'].map(gender_map)"
   ]
  },
  {
   "cell_type": "code",
   "execution_count": null,
   "metadata": {},
   "outputs": [],
   "source": []
  },
  {
   "cell_type": "code",
   "execution_count": 75,
   "metadata": {},
   "outputs": [],
   "source": [
    "df['WORK']=0\n",
    "df.loc[(df['6']=='Work') | (df['6']=='Work'),'WORK']=1\n",
    "\n",
    "df['DEN']=0\n",
    "df['DEN']=df['38']/egress_df['31']\n",
    "\n",
    "df=df[df['DEN']<30]\n",
    "\n",
    "df['HIGH']=0\n",
    "df['MED']=0\n",
    "\n",
    "# if DEN is greater than 66 percentile of data of DEN then HIGH is 1 for that entry\n",
    "# if DEN is between 33 and 66 percentiles of data of DEN then MED is 1 for that entry\n",
    "df.loc[df['DEN']>df['DEN'].quantile(0.66),'HIGH']=1\n",
    "df.loc[(df['DEN']<=df['DEN'].quantile(0.66)) & (df['DEN']>df['DEN'].quantile(0.33)),'MED']=1\n",
    "\n",
    "\n",
    "\n",
    "df['UNO']=1\n",
    "\n",
    "df['DIST1']=0\n",
    "df['DIST2']=0\n",
    "df['DIST3']=0\n",
    "df['DIST4']=0\n",
    "df['DIST5']=0\n",
    "\n",
    "df.loc[df['DISTANCE']<1,'DIST1']=1\n",
    "df.loc[(df['DISTANCE']>=1) & (df['DISTANCE']<2),'DIST2']=1\n",
    "df.loc[(df['DISTANCE']>=2) & (df['DISTANCE']<3),'DIST3']=1\n",
    "df.loc[(df['DISTANCE']>=3) & (df['DISTANCE']<4),'DIST4']=1\n",
    "df.loc[df['DISTANCE']>=4,'DIST5']=1\n",
    "\n",
    "\n",
    "# drop the rows where DIST1 equals 1\n",
    "# df.drop(df[df['DIST1']==1].index, inplace=True)\n",
    "\n",
    "df[['ID', 'RENT_BICYCLE','MALE', 'SLOPE', 'DISTANCE', 'AGE1','AGE2','AGE3','AVG_SLOPE','MAX_SLOPE','SEGMENT',\n",
    "           'TIME','VEH','INTERSECTIONS','WORK','UNO','D_POP_DEN','D_EMP_DEN','M_POP_DEN','M_EMP_DEN','d_pop_med','d_pop_high','d_emp_med','d_emp_high','d_pop_low','m_pop_low',\n",
    "           'm_pop_low','m_pop_high','m_pop_med','m_emp_low','m_emp_med','m_emp_high','DEN','RENT','MAX_UP','MAX_DOWN','MAX_FLAT','AVG_UP','AVG_DOWN','AVG_FLAT',\n",
    "           'UP','DOWN','FLAT','LONG','SHORT','MEDIUM','DIST1','DIST2','DIST3','DIST4','DIST5']].to_csv(path+\"new_egress_data_analysis.csv\",index=True)"
   ]
  },
  {
   "cell_type": "code",
   "execution_count": 76,
   "metadata": {},
   "outputs": [
    {
     "name": "stdout",
     "output_type": "stream",
     "text": [
      "493\n",
      "83\n",
      "36\n",
      "10\n",
      "5\n"
     ]
    }
   ],
   "source": [
    "print(df.loc[df['SEGMENT']<=1].shape[0])\n",
    "print(df.loc[(df['SEGMENT']>1) & (df['SEGMENT']<=2)].shape[0])\n",
    "print(df.loc[(df['SEGMENT']>2) & (df['SEGMENT']<=3)].shape[0])\n",
    "print(df.loc[(df['SEGMENT']>3) & (df['SEGMENT']<=4)].shape[0])\n",
    "print(df.loc[(df['SEGMENT']>4) & (df['SEGMENT']<=5)].shape[0])"
   ]
  },
  {
   "cell_type": "code",
   "execution_count": 77,
   "metadata": {},
   "outputs": [
    {
     "data": {
      "text/plain": [
       "count    651.000000\n",
       "mean       0.562904\n",
       "std        0.474785\n",
       "min        0.000000\n",
       "25%        0.000000\n",
       "50%        1.000000\n",
       "75%        1.000000\n",
       "max        1.000000\n",
       "Name: NEW, dtype: float64"
      ]
     },
     "execution_count": 77,
     "metadata": {},
     "output_type": "execute_result"
    }
   ],
   "source": [
    "df['NEW']=df['SEGMENT']/df['DISTANCE']\n",
    "df['NEW'].describe()"
   ]
  },
  {
   "cell_type": "code",
   "execution_count": 78,
   "metadata": {},
   "outputs": [
    {
     "ename": "KeyError",
     "evalue": "'DISTANCE'",
     "output_type": "error",
     "traceback": [
      "\u001b[1;31m---------------------------------------------------------------------------\u001b[0m",
      "\u001b[1;31mKeyError\u001b[0m                                  Traceback (most recent call last)",
      "File \u001b[1;32md:\\Projects\\mode_choice_prediction\\venv\\Lib\\site-packages\\pandas\\core\\indexes\\base.py:3805\u001b[0m, in \u001b[0;36mIndex.get_loc\u001b[1;34m(self, key)\u001b[0m\n\u001b[0;32m   3804\u001b[0m \u001b[38;5;28;01mtry\u001b[39;00m:\n\u001b[1;32m-> 3805\u001b[0m     \u001b[38;5;28;01mreturn\u001b[39;00m \u001b[38;5;28;43mself\u001b[39;49m\u001b[38;5;241;43m.\u001b[39;49m\u001b[43m_engine\u001b[49m\u001b[38;5;241;43m.\u001b[39;49m\u001b[43mget_loc\u001b[49m\u001b[43m(\u001b[49m\u001b[43mcasted_key\u001b[49m\u001b[43m)\u001b[49m\n\u001b[0;32m   3806\u001b[0m \u001b[38;5;28;01mexcept\u001b[39;00m \u001b[38;5;167;01mKeyError\u001b[39;00m \u001b[38;5;28;01mas\u001b[39;00m err:\n",
      "File \u001b[1;32mindex.pyx:167\u001b[0m, in \u001b[0;36mpandas._libs.index.IndexEngine.get_loc\u001b[1;34m()\u001b[0m\n",
      "File \u001b[1;32mindex.pyx:196\u001b[0m, in \u001b[0;36mpandas._libs.index.IndexEngine.get_loc\u001b[1;34m()\u001b[0m\n",
      "File \u001b[1;32mpandas\\\\_libs\\\\hashtable_class_helper.pxi:7081\u001b[0m, in \u001b[0;36mpandas._libs.hashtable.PyObjectHashTable.get_item\u001b[1;34m()\u001b[0m\n",
      "File \u001b[1;32mpandas\\\\_libs\\\\hashtable_class_helper.pxi:7089\u001b[0m, in \u001b[0;36mpandas._libs.hashtable.PyObjectHashTable.get_item\u001b[1;34m()\u001b[0m\n",
      "\u001b[1;31mKeyError\u001b[0m: 'DISTANCE'",
      "\nThe above exception was the direct cause of the following exception:\n",
      "\u001b[1;31mKeyError\u001b[0m                                  Traceback (most recent call last)",
      "Cell \u001b[1;32mIn[78], line 1\u001b[0m\n\u001b[1;32m----> 1\u001b[0m \u001b[38;5;28mprint\u001b[39m(egress_df[\u001b[43megress_df\u001b[49m\u001b[43m[\u001b[49m\u001b[38;5;124;43m'\u001b[39;49m\u001b[38;5;124;43mDISTANCE\u001b[39;49m\u001b[38;5;124;43m'\u001b[39;49m\u001b[43m]\u001b[49m\u001b[38;5;241m<\u001b[39m\u001b[38;5;241m1\u001b[39m]\u001b[38;5;241m.\u001b[39mshape[\u001b[38;5;241m0\u001b[39m])\n\u001b[0;32m      2\u001b[0m \u001b[38;5;28mprint\u001b[39m(egress_df[(egress_df[\u001b[38;5;124m'\u001b[39m\u001b[38;5;124mDISTANCE\u001b[39m\u001b[38;5;124m'\u001b[39m]\u001b[38;5;241m>\u001b[39m\u001b[38;5;241m=\u001b[39m\u001b[38;5;241m1\u001b[39m) \u001b[38;5;241m&\u001b[39m (egress_df[\u001b[38;5;124m'\u001b[39m\u001b[38;5;124mDISTANCE\u001b[39m\u001b[38;5;124m'\u001b[39m]\u001b[38;5;241m<\u001b[39m\u001b[38;5;241m2\u001b[39m)]\u001b[38;5;241m.\u001b[39mshape[\u001b[38;5;241m0\u001b[39m])\n\u001b[0;32m      3\u001b[0m \u001b[38;5;28mprint\u001b[39m(egress_df[(egress_df[\u001b[38;5;124m'\u001b[39m\u001b[38;5;124mDISTANCE\u001b[39m\u001b[38;5;124m'\u001b[39m]\u001b[38;5;241m>\u001b[39m\u001b[38;5;241m=\u001b[39m\u001b[38;5;241m2\u001b[39m) \u001b[38;5;241m&\u001b[39m (egress_df[\u001b[38;5;124m'\u001b[39m\u001b[38;5;124mDISTANCE\u001b[39m\u001b[38;5;124m'\u001b[39m]\u001b[38;5;241m<\u001b[39m\u001b[38;5;241m3\u001b[39m)]\u001b[38;5;241m.\u001b[39mshape[\u001b[38;5;241m0\u001b[39m])\n",
      "File \u001b[1;32md:\\Projects\\mode_choice_prediction\\venv\\Lib\\site-packages\\pandas\\core\\frame.py:4102\u001b[0m, in \u001b[0;36mDataFrame.__getitem__\u001b[1;34m(self, key)\u001b[0m\n\u001b[0;32m   4100\u001b[0m \u001b[38;5;28;01mif\u001b[39;00m \u001b[38;5;28mself\u001b[39m\u001b[38;5;241m.\u001b[39mcolumns\u001b[38;5;241m.\u001b[39mnlevels \u001b[38;5;241m>\u001b[39m \u001b[38;5;241m1\u001b[39m:\n\u001b[0;32m   4101\u001b[0m     \u001b[38;5;28;01mreturn\u001b[39;00m \u001b[38;5;28mself\u001b[39m\u001b[38;5;241m.\u001b[39m_getitem_multilevel(key)\n\u001b[1;32m-> 4102\u001b[0m indexer \u001b[38;5;241m=\u001b[39m \u001b[38;5;28;43mself\u001b[39;49m\u001b[38;5;241;43m.\u001b[39;49m\u001b[43mcolumns\u001b[49m\u001b[38;5;241;43m.\u001b[39;49m\u001b[43mget_loc\u001b[49m\u001b[43m(\u001b[49m\u001b[43mkey\u001b[49m\u001b[43m)\u001b[49m\n\u001b[0;32m   4103\u001b[0m \u001b[38;5;28;01mif\u001b[39;00m is_integer(indexer):\n\u001b[0;32m   4104\u001b[0m     indexer \u001b[38;5;241m=\u001b[39m [indexer]\n",
      "File \u001b[1;32md:\\Projects\\mode_choice_prediction\\venv\\Lib\\site-packages\\pandas\\core\\indexes\\base.py:3812\u001b[0m, in \u001b[0;36mIndex.get_loc\u001b[1;34m(self, key)\u001b[0m\n\u001b[0;32m   3807\u001b[0m     \u001b[38;5;28;01mif\u001b[39;00m \u001b[38;5;28misinstance\u001b[39m(casted_key, \u001b[38;5;28mslice\u001b[39m) \u001b[38;5;129;01mor\u001b[39;00m (\n\u001b[0;32m   3808\u001b[0m         \u001b[38;5;28misinstance\u001b[39m(casted_key, abc\u001b[38;5;241m.\u001b[39mIterable)\n\u001b[0;32m   3809\u001b[0m         \u001b[38;5;129;01mand\u001b[39;00m \u001b[38;5;28many\u001b[39m(\u001b[38;5;28misinstance\u001b[39m(x, \u001b[38;5;28mslice\u001b[39m) \u001b[38;5;28;01mfor\u001b[39;00m x \u001b[38;5;129;01min\u001b[39;00m casted_key)\n\u001b[0;32m   3810\u001b[0m     ):\n\u001b[0;32m   3811\u001b[0m         \u001b[38;5;28;01mraise\u001b[39;00m InvalidIndexError(key)\n\u001b[1;32m-> 3812\u001b[0m     \u001b[38;5;28;01mraise\u001b[39;00m \u001b[38;5;167;01mKeyError\u001b[39;00m(key) \u001b[38;5;28;01mfrom\u001b[39;00m \u001b[38;5;21;01merr\u001b[39;00m\n\u001b[0;32m   3813\u001b[0m \u001b[38;5;28;01mexcept\u001b[39;00m \u001b[38;5;167;01mTypeError\u001b[39;00m:\n\u001b[0;32m   3814\u001b[0m     \u001b[38;5;66;03m# If we have a listlike key, _check_indexing_error will raise\u001b[39;00m\n\u001b[0;32m   3815\u001b[0m     \u001b[38;5;66;03m#  InvalidIndexError. Otherwise we fall through and re-raise\u001b[39;00m\n\u001b[0;32m   3816\u001b[0m     \u001b[38;5;66;03m#  the TypeError.\u001b[39;00m\n\u001b[0;32m   3817\u001b[0m     \u001b[38;5;28mself\u001b[39m\u001b[38;5;241m.\u001b[39m_check_indexing_error(key)\n",
      "\u001b[1;31mKeyError\u001b[0m: 'DISTANCE'"
     ]
    }
   ],
   "source": [
    "print(egress_df[egress_df['DISTANCE']<1].shape[0])\n",
    "print(egress_df[(egress_df['DISTANCE']>=1) & (egress_df['DISTANCE']<2)].shape[0])\n",
    "print(egress_df[(egress_df['DISTANCE']>=2) & (egress_df['DISTANCE']<3)].shape[0])\n",
    "print(egress_df[(egress_df['DISTANCE']>=3) & (egress_df['DISTANCE']<4)].shape[0])\n",
    "print(egress_df[(egress_df['DISTANCE']>=4)].shape[0])"
   ]
  }
 ],
 "metadata": {
  "kernelspec": {
   "display_name": "Python 3",
   "language": "python",
   "name": "python3"
  },
  "language_info": {
   "codemirror_mode": {
    "name": "ipython",
    "version": 3
   },
   "file_extension": ".py",
   "mimetype": "text/x-python",
   "name": "python",
   "nbconvert_exporter": "python",
   "pygments_lexer": "ipython3",
   "version": "3.11.2"
  }
 },
 "nbformat": 4,
 "nbformat_minor": 2
}
