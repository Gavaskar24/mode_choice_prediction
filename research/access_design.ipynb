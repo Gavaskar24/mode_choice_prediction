{
 "cells": [
  {
   "cell_type": "code",
   "execution_count": 94,
   "metadata": {},
   "outputs": [],
   "source": [
    "import numpy as np\n",
    "import pandas as pd\n",
    "import seaborn as sns"
   ]
  },
  {
   "cell_type": "code",
   "execution_count": 95,
   "metadata": {},
   "outputs": [],
   "source": [
    "path = r\"E:\\Metro1\\raw_data\\\\\"\n",
    "\n",
    "egress_df=pd.read_csv(path+\"egress_data.csv\")\n",
    "\n",
    "df=pd.read_csv(path+\"access_data.csv\")\n",
    "\n"
   ]
  },
  {
   "cell_type": "code",
   "execution_count": 96,
   "metadata": {},
   "outputs": [
    {
     "data": {
      "text/plain": [
       "18\n",
       "18-25 yrs     409\n",
       "26-35 yrs     230\n",
       "36-45 yrs     105\n",
       "46-60 yrs      51\n",
       "> 60 yrs       11\n",
       "18-25yrs       10\n",
       "26-35yrs        8\n",
       "36-45yrs        3\n",
       "Name: count, dtype: int64"
      ]
     },
     "execution_count": 96,
     "metadata": {},
     "output_type": "execute_result"
    }
   ],
   "source": [
    "df['18'].value_counts()"
   ]
  },
  {
   "cell_type": "code",
   "execution_count": 97,
   "metadata": {},
   "outputs": [
    {
     "data": {
      "text/plain": [
       "18          4         \n",
       "18-25 yrs   Home          129\n",
       "            Work           83\n",
       "            School         70\n",
       "            Shopping       39\n",
       "            Friend         34\n",
       "            Other          31\n",
       "            Social         16\n",
       "            Restaurant      7\n",
       "18-25yrs    Home            5\n",
       "            Other           2\n",
       "            School          1\n",
       "            Social          1\n",
       "            Work            1\n",
       "26-35 yrs   Work          103\n",
       "            Home           61\n",
       "            Other          21\n",
       "            Shopping       17\n",
       "            Friend         16\n",
       "            Social          6\n",
       "            School          5\n",
       "            Restaurant      1\n",
       "26-35yrs    Work            6\n",
       "            Home            2\n",
       "36-45 yrs   Work           50\n",
       "            Home           21\n",
       "            Shopping       13\n",
       "            Other           9\n",
       "            Friend          5\n",
       "            Social          5\n",
       "            Restaurant      2\n",
       "36-45yrs    Home            2\n",
       "            Work            1\n",
       "46-60 yrs   Work           21\n",
       "            Home           12\n",
       "            Shopping        6\n",
       "            Other           4\n",
       "            Social          4\n",
       "            Friend          3\n",
       "            School          1\n",
       "> 60 yrs    Home            5\n",
       "            Shopping        2\n",
       "            Friend          1\n",
       "            Other           1\n",
       "            School          1\n",
       "            Work            1\n",
       "Name: count, dtype: int64"
      ]
     },
     "execution_count": 97,
     "metadata": {},
     "output_type": "execute_result"
    }
   ],
   "source": [
    "df.groupby('18')['4'].value_counts()"
   ]
  },
  {
   "cell_type": "code",
   "execution_count": 98,
   "metadata": {},
   "outputs": [],
   "source": [
    "df.shape[0]\n",
    "\n",
    "# drop duplicate entries with same ID\n",
    "df.drop_duplicates(subset=['ID'], inplace=True)"
   ]
  },
  {
   "cell_type": "code",
   "execution_count": 99,
   "metadata": {},
   "outputs": [],
   "source": [
    "trip_types = {\n",
    "    'Home based work': [('Home', 'Work'), ('Work', 'Home')],\n",
    "    'Home based education': [('Home', 'School'), ('School', 'Home')],\n",
    "    'Home based other': [('Home', 'Other'), ('Other', 'Home'),('Home',  'Restaurant'), ( 'Restaurant', 'Home'),\n",
    "                         ('Home', 'Shopping'), ('Shopping', 'Home'),('Home', 'Social'), ('Social', 'Home'),\n",
    "                         ('Home', 'Friend'), ('Friend', 'Home'),],\n",
    "}\n"
   ]
  },
  {
   "cell_type": "code",
   "execution_count": 100,
   "metadata": {},
   "outputs": [],
   "source": [
    "# df=df.copy()\n",
    "# all_trips = set((row['O_TYPE'], row['D_TYPE']) for _, row in df.iterrows())\n",
    "# categorized_trips = set(trip for trips in trip_types.values() for trip in trips)\n",
    "# non_home_based_trips = all_trips - categorized_trips\n",
    "# trip_types['Non home based'] = list(non_home_based_trips)\n",
    "\n",
    "# # Calculate the number of trips and percentages\n",
    "# results = []\n",
    "# trip_totals = {}\n",
    "# trip_percentages = {}\n",
    "\n",
    "# for trip_type, pairs in trip_types.items():\n",
    "#     if trip_type == 'Non home based':\n",
    "#         total_trips = sum(len(df[(df['O_TYPE'] == origin) & (df['D_TYPE'] == destination)]) for origin, destination in non_home_based_trips)\n",
    "#         trip_totals[trip_type] = total_trips\n",
    "#         trip_percentage = total_trips / len(df) * 100 if len(df) > 0 else 0\n",
    "#         trip_percentages[trip_type] = round(trip_percentage,2)\n",
    "#         results.append([trip_type, 'Non home', 'Non home', total_trips])\n",
    "#     else:\n",
    "#         total_trips = sum(len(df[(df['O_TYPE'] == origin) & (df['D_TYPE'] == destination)]) for origin, destination in pairs)\n",
    "#         trip_totals[trip_type] = total_trips\n",
    "#         trip_percentage = total_trips / len(df) * 100 if len(df) > 0 else 0\n",
    "#         trip_percentages[trip_type] = trip_percentage\n",
    "#         for origin, destination in pairs:\n",
    "#             trip_count = len(df[(df['O_TYPE'] == origin) & (df['D_TYPE'] == destination)])\n",
    "#             results.append([trip_type, origin, destination, trip_count])\n",
    "\n",
    "# # Convert results to DataFrame\n",
    "# results_df = pd.DataFrame(results, columns=['Type of trip', 'Origin', 'Destination', 'No of trips'])\n",
    "\n",
    "# # Calculate %OD based\n",
    "# total_trips = len(df)\n",
    "# results_df['%OD based'] = round(results_df['No of trips'] / total_trips * 100,2)\n",
    "\n",
    "# # Adding Sl No\n",
    "# results_df.insert(0, 'Sl No', range(1, len(results_df) + 1))\n",
    "\n",
    "# # Grouping by 'Type of trip'\n",
    "# grouped_df = results_df.groupby('Type of trip')\n",
    "\n",
    "# # Function to create a table with solid lines and centered text\n",
    "# def print_solid_table(df, trip_totals, trip_percentages):\n",
    "#     header = [\"Sl No\", \"Type of trip\", \"Origin\", \"Destination\", \"No of trips\", \"%(type of trips)\", \"%OD based\"]\n",
    "#     max_len = {col: max(df[col].astype(str).map(len).max(), len(col)) if col in df else len(col) for col in header}\n",
    "    \n",
    "#     def draw_line():\n",
    "#         line = \"+\"\n",
    "#         for col in header:\n",
    "#             line += \"-\" * (max_len[col] + 2) + \"+\"\n",
    "#         print(line)\n",
    "\n",
    "#     def draw_row(row, show_type, show_sl_no, show_percentage):\n",
    "#         line = \"|\"\n",
    "#         for col in header:\n",
    "#             if col == \"Type of trip\" and not show_type:\n",
    "#                 line += \" \" * (max_len[col] + 2) + \"|\"\n",
    "#             elif col == \"Sl No\" and not show_sl_no:\n",
    "#                 line += \" \" * (max_len[col] + 2) + \"|\"\n",
    "#             elif col == \"%(type of trips)\" and not show_percentage:\n",
    "#                 line += \" \" * (max_len[col] + 2) + \"|\"\n",
    "#             else:\n",
    "#                 line += \" \" + str(row[col]).center(max_len[col]) + \" |\"\n",
    "#         print(line)\n",
    "\n",
    "#     def draw_merged_row(index, label, count, percentage):\n",
    "#         sl_no = str(index)\n",
    "#         line = \"| \" + sl_no.center(max_len[\"Sl No\"]) + \" | \" + label.center(max_len[\"Type of trip\"]) + \" |\"\n",
    "#         line += \" \" * (max_len[\"Origin\"] + 2) + \"|\"\n",
    "#         line += \" \" * (max_len[\"Destination\"] + 2) + \"|\"\n",
    "#         line += str(count).center(max_len[\"No of trips\"] + 2) + \"|\"\n",
    "#         line += str(round(percentage, 2)).center(max_len[\"%(type of trips)\"] + 2) + \"|\"\n",
    "#         line += \" \" * (max_len[\"%OD based\"] + 2) + \"|\"\n",
    "#         print(line)\n",
    "\n",
    "#     draw_line()\n",
    "#     draw_row({col: col for col in header}, True, True, True)\n",
    "#     draw_line()\n",
    "    \n",
    "#     sl_no = 1\n",
    "#     for trip_type, group in grouped_df:\n",
    "#         draw_merged_row(sl_no, trip_type, trip_totals[trip_type], trip_percentages[trip_type])\n",
    "#         type_trip_count = len(group)\n",
    "#         for i, (_, row) in enumerate(group.iterrows()):\n",
    "#             show_type = i < 0\n",
    "#             show_sl_no = i == -1\n",
    "#             draw_row(row, show_type, show_sl_no, False)\n",
    "#             type_trip_count -= 1\n",
    "#         draw_line()\n",
    "#         sl_no += 1\n",
    "\n",
    "# # Print the final table\n",
    "# print_solid_table(results_df, trip_totals, trip_percentages)\n",
    "\n",
    "# # Print the total number of samples\n",
    "# # print(f\"\\nTotal number of samples: {total_trips}\")"
   ]
  },
  {
   "cell_type": "code",
   "execution_count": 101,
   "metadata": {},
   "outputs": [
    {
     "data": {
      "text/plain": [
       "12\n",
       "For neither access nor egress trips     387\n",
       "For both access and egress trips        231\n",
       "For access trip only                    160\n",
       "For egress trip only                     49\n",
       "Name: count, dtype: int64"
      ]
     },
     "execution_count": 101,
     "metadata": {},
     "output_type": "execute_result"
    }
   ],
   "source": [
    "df['12'].value_counts()"
   ]
  },
  {
   "cell_type": "code",
   "execution_count": 102,
   "metadata": {},
   "outputs": [],
   "source": [
    "df['12'].unique()\n",
    "\n",
    "choice_mapper={'For neither access nor egress trips ':2, 'For egress trip only ':1,\n",
    "       'For both access and egress trips ':1, 'For access trip only ':2}\n",
    "\n",
    "df['12']=df['12'].map(choice_mapper)\n"
   ]
  },
  {
   "cell_type": "code",
   "execution_count": 103,
   "metadata": {},
   "outputs": [
    {
     "name": "stdout",
     "output_type": "stream",
     "text": [
      "12\n",
      "2    547\n",
      "1    280\n",
      "Name: count, dtype: int64\n"
     ]
    }
   ],
   "source": [
    "# remove duplicate rows with same id column from dataframe\n",
    "# df.drop_duplicates(subset =\"ID\",inplace = True)\n",
    "\n",
    "# print(df.shape)\n",
    "\n",
    "# # print(access_df.shape,egress_df.shape)\n",
    "# old_counts=df['12'].value_counts()\n",
    "# print(old_counts)\n",
    "\n",
    "# replacement_mapping = {4: 2, 3: 1}\n",
    "# df['12'] = df['12'].replace(replacement_mapping)\n",
    "new_counts = df['12'].value_counts()\n",
    "print(new_counts)\n",
    "\n"
   ]
  },
  {
   "cell_type": "code",
   "execution_count": 104,
   "metadata": {},
   "outputs": [],
   "source": [
    "dict={'Walk ':'Walk', 'Auto Rickshaw ':'Ride hire', 'Dropped-off by friends/others ':'Ride hire',\n",
    "       'Two-Wheeler ':'Personal vehicle', 'Ola/Uber car ':'Personal vehicle', 'Bicycle ':'Personal vehicle', 'Car ':'Personal vehicle',\n",
    "       'Rapido/Uber moto/Ola App two-wheeler ':'Ride hire', 'Shuttle':'Ride hire',\n",
    "       'Rapido/uber moto/Ola App two-wheeler ':'Ride hire', 'Uber auto ':'Ride hire',\n",
    "       'Company shuttle':'Ride hire', 'Office metro feeder':'Ride hire',\n",
    "       'Dropped-off by friends/family members/others ':'Ride hire',\n",
    "       'Drove and parked a two-Wheeler ':'Personal vehicle', 'Drove and parked a car ':'Personal vehicle',\n",
    "       'Friends two wheeler':'Personal vehicle'}\n",
    "\n",
    "df['10']=df['10'].map(dict)"
   ]
  },
  {
   "cell_type": "code",
   "execution_count": 105,
   "metadata": {},
   "outputs": [
    {
     "name": "stdout",
     "output_type": "stream",
     "text": [
      "AGE_C\n",
      "1    657\n",
      "2    108\n",
      "3     62\n",
      "Name: count, dtype: int64\n"
     ]
    }
   ],
   "source": [
    "df['18'].unique()\n",
    "\n",
    "age_mapper={'> 60 yrs ':3, '18-25 yrs ':1, '26-35 yrs ':1, '18-25yrs ':1, '26-35yrs ':1,\n",
    "       '46-60 yrs ':3, '36-45 yrs ':2, '36-45yrs ':2,'46-60yrs ':3,'> 60 yrs ':3, '18-25 yrs ':1, '26-35 yrs ':1, '26-35yrs ':1, '18-25yrs ':1,\n",
    "       '46-60 yrs ':3, '36-45 yrs ':2, '36-45yrs ':2, '46-60yrs ':3}\n",
    "df['AGE_C']=df['18'].map(age_mapper)\n",
    "\n",
    "\n",
    "print(df['AGE_C'].value_counts())\n",
    "\n",
    "df['AGE1']=0\n",
    "df['AGE2']=0\n",
    "df['AGE3']=0\n",
    "\n",
    "# if AGE_C is 1 then AGE1 is 1\n",
    "df.loc[df['AGE_C']==1,'AGE1']=1\n",
    "# if AGE_C is 2 then AGE2 is 1\n",
    "df.loc[df['AGE_C']==2,'AGE2']=1\n",
    "# if AGE_C is 3 then AGE3 is 1\n",
    "df.loc[df['AGE_C']==3,'AGE3']=1"
   ]
  },
  {
   "cell_type": "code",
   "execution_count": 106,
   "metadata": {},
   "outputs": [
    {
     "name": "stdout",
     "output_type": "stream",
     "text": [
      "0 0 0 0 0\n",
      "0 0 0 0 0\n"
     ]
    }
   ],
   "source": [
    "\n",
    "\n",
    "print(df['28a'].isna().sum(),df['28b'].isna().sum(),df['28c'].isna().sum(),df['28d'].isna().sum(),df['28e'].isna().sum())\n",
    "print(df['29a'].isna().sum(),df['29b'].isna().sum(),df['29c'].isna().sum(),df['29d'].isna().sum(),df['29e'].isna().sum())"
   ]
  },
  {
   "cell_type": "code",
   "execution_count": 107,
   "metadata": {},
   "outputs": [
    {
     "data": {
      "text/plain": [
       "count    827.000000\n",
       "mean       1.963889\n",
       "std        1.733863\n",
       "min        0.100000\n",
       "25%        0.700000\n",
       "50%        1.500000\n",
       "75%        2.700000\n",
       "max       14.500000\n",
       "Name: 28_sum, dtype: float64"
      ]
     },
     "execution_count": 107,
     "metadata": {},
     "output_type": "execute_result"
    }
   ],
   "source": [
    "\n",
    "\n",
    "df['28_sum']=df['28a']+df['28b']+df['28c']+df['28d']+df['28e']  \n",
    "\n",
    "df['28_sum'].describe()"
   ]
  },
  {
   "cell_type": "code",
   "execution_count": 108,
   "metadata": {},
   "outputs": [
    {
     "name": "stderr",
     "output_type": "stream",
     "text": [
      "C:\\Users\\PC\\AppData\\Local\\Temp\\ipykernel_98968\\1508818740.py:6: FutureWarning: Setting an item of incompatible dtype is deprecated and will raise an error in a future version of pandas. Value '1.4' has dtype incompatible with int64, please explicitly cast to a compatible dtype first.\n",
      "  df.loc[i,'MAX_SLOPE']=max(df.loc[i,'28a'],df.loc[i,'28b'],df.loc[i,'28c'],df.loc[i,'28d'],df.loc[i,'28e'])\n"
     ]
    },
    {
     "data": {
      "text/plain": [
       "count    827.000000\n",
       "mean       1.780605\n",
       "std        1.651973\n",
       "min        0.100000\n",
       "25%        0.650000\n",
       "50%        1.300000\n",
       "75%        2.300000\n",
       "max       14.500000\n",
       "Name: MAX_SLOPE, dtype: float64"
      ]
     },
     "execution_count": 108,
     "metadata": {},
     "output_type": "execute_result"
    }
   ],
   "source": [
    "df['MAX_SLOPE']=0\n",
    "\n",
    "\n",
    "\n",
    "for i in range(df.shape[0]):\n",
    "    df.loc[i,'MAX_SLOPE']=max(df.loc[i,'28a'],df.loc[i,'28b'],df.loc[i,'28c'],df.loc[i,'28d'],df.loc[i,'28e'])\n",
    "\n",
    "df['MAX_SLOPE'].describe()"
   ]
  },
  {
   "cell_type": "code",
   "execution_count": 109,
   "metadata": {},
   "outputs": [
    {
     "name": "stdout",
     "output_type": "stream",
     "text": [
      "     AVG_SLOPE  MAX_SLOPE  SEGMENT\n",
      "0    -1.000000      0.000     0.00\n",
      "1     2.000000      2.000     0.10\n",
      "2     0.667033      8.000     0.10\n",
      "3    -0.096545      8.750     0.16\n",
      "4     0.000000      0.000     0.11\n",
      "..         ...        ...      ...\n",
      "822   0.577000      0.577     8.50\n",
      "823   1.278000      1.278     9.60\n",
      "824   1.396000      1.396    10.60\n",
      "825   0.423000      0.423    12.60\n",
      "826   1.116000      1.116    14.50\n",
      "\n",
      "[827 rows x 3 columns]\n"
     ]
    }
   ],
   "source": [
    "values = df[['29a', '29b', '29c', '29d', '29e']].to_numpy()\n",
    "weights = df[['28a', '28b', '28c', '28d', '28e']].to_numpy()\n",
    "\n",
    "df['AVG_SLOPE'] = np.average(values, axis=1, weights=weights)\n",
    "\n",
    "df['MAX_SLOPE'] = values.max(axis=1)\n",
    "\n",
    "# Create a 2D array of the slopes and their corresponding segments\n",
    "slopes = df[['29a', '29b', '29c', '29d', '29e']].to_numpy()\n",
    "segments = df[['28a', '28b', '28c', '28d', '28e']].to_numpy()\n",
    "\n",
    "# Get the index of the maximum slope for each row\n",
    "max_slope_indices = slopes.argmax(axis=1)\n",
    "\n",
    "# Get the corresponding segment for each maximum slope\n",
    "df['SEGMENT'] = segments[np.arange(len(df)), max_slope_indices]\n",
    "\n",
    "# Verify the result\n",
    "print(df[['AVG_SLOPE', 'MAX_SLOPE', 'SEGMENT']])"
   ]
  },
  {
   "cell_type": "code",
   "execution_count": 110,
   "metadata": {},
   "outputs": [
    {
     "name": "stdout",
     "output_type": "stream",
     "text": [
      "count    827.000000\n",
      "mean       0.144552\n",
      "std        1.453532\n",
      "min       -5.334000\n",
      "25%       -0.810250\n",
      "50%        0.125213\n",
      "75%        1.068360\n",
      "max        5.250000\n",
      "Name: AVG_SLOPE, dtype: float64 count    827.000000\n",
      "mean       0.968377\n",
      "std        1.296979\n",
      "min        0.000000\n",
      "25%        0.000000\n",
      "50%        0.588000\n",
      "75%        1.461000\n",
      "max       10.000000\n",
      "Name: MAX_SLOPE, dtype: float64\n"
     ]
    }
   ],
   "source": [
    "print(df['AVG_SLOPE'].describe(),df['MAX_SLOPE'].describe())"
   ]
  },
  {
   "cell_type": "code",
   "execution_count": 111,
   "metadata": {},
   "outputs": [],
   "source": [
    "df.rename(columns = {'26':'DISTANCE', '27':'TIME','29a':'SLOPE','37':'INTERSECTIONS','38':'O_POP_DEN','40':'M_POP_DEN','42':'O_EMP_DEN',\n",
    "                            '44':'M_EMP_DEN','12':'RENT_BICYCLE','17':'MALE','12':'RENT_BICYCLE','24':'RENT'}, inplace = True)"
   ]
  },
  {
   "cell_type": "code",
   "execution_count": 112,
   "metadata": {},
   "outputs": [
    {
     "data": {
      "text/plain": [
       "count    827.000000\n",
       "mean       0.131301\n",
       "std        1.795146\n",
       "min       -8.750000\n",
       "25%       -1.057500\n",
       "50%        0.182000\n",
       "75%        1.235000\n",
       "max        9.230000\n",
       "Name: SLOPE, dtype: float64"
      ]
     },
     "execution_count": 112,
     "metadata": {},
     "output_type": "execute_result"
    }
   ],
   "source": [
    "df['SLOPE'].describe()"
   ]
  },
  {
   "cell_type": "code",
   "execution_count": 113,
   "metadata": {},
   "outputs": [],
   "source": [
    "df['UP']=0\n",
    "df['DOWN']=0\n",
    "df['FLAT']=0\n",
    "\n",
    "\n",
    "# if SLOPE is positive then make POS as 1 else 0\n",
    "df.loc[df['SLOPE']>1,'UP']=1\n",
    "df.loc[df['SLOPE']<-1,'DOWN']=1\n",
    "df.loc[(df['SLOPE']>=-1) & (df['SLOPE']<=1),'FLAT']=1\n",
    "\n",
    "\n",
    "df['VEH']=0\n",
    "\n",
    "\n",
    "# if CARS or TWO_WHEELER is greater than 1 then mark VEH as 1 else 0\n",
    "df.loc[(df['22a']>1) | (df['22b']>1),'VEH']=1\n",
    "\n",
    "\n",
    "df['SHORT']=0\n",
    "df['MEDIUM']=0\n",
    "df['LONG']=0\n",
    "\n",
    "# if DISTANCE_MAP is less than 1 then make LOW as 1\n",
    "df.loc[df['DISTANCE']<1,'SHORT']=1\n",
    "# if DISTANCE_MAP is greater than 1 and less than 3 then make MEDIUM 1\n",
    "df.loc[(df['DISTANCE']>=1) & (df['DISTANCE']<3),'MEDIUM']=1\n",
    "\n",
    "# if DISTANCE_MAP is greater than 3 then make HIGH as 1\n",
    "df.loc[df['DISTANCE']>=3,'LONG']=1\n",
    "\n",
    "\n",
    "\n"
   ]
  },
  {
   "cell_type": "code",
   "execution_count": 114,
   "metadata": {},
   "outputs": [
    {
     "name": "stdout",
     "output_type": "stream",
     "text": [
      "251\n",
      "208\n",
      "502\n"
     ]
    }
   ],
   "source": [
    "print(df[df['SLOPE']>1].shape[0])\n",
    "print(df[df['SLOPE']<-1].shape[0])\n",
    "print(df.shape[0]-186-139)"
   ]
  },
  {
   "cell_type": "code",
   "execution_count": 115,
   "metadata": {},
   "outputs": [],
   "source": [
    "df['MAX_UP']=0\n",
    "df['MAX_DOWN']=0\n",
    "df['MAX_FLAT']=0    \n",
    "\n",
    "df.loc[df['MAX_SLOPE']>1,'MAX_UP']=1\n",
    "# df.loc[df['MAX_SLOPE']<-1,'MAX_DOWN']=1\n",
    "# df.loc[(df['MAX_SLOPE']>=-1) & (df['MAX_SLOPE']<=1),'MAX_FLAT']=1\n",
    "\n",
    "df['AVG_UP']=0\n",
    "df['AVG_DOWN']=0\n",
    "df['AVG_FLAT']=0\n",
    "\n",
    "df.loc[df['AVG_SLOPE']>1,'AVG_UP']=1\n",
    "df.loc[df['AVG_SLOPE']<-1,'AVG_DOWN']=1\n",
    "df.loc[(df['AVG_SLOPE']>=-1) & (df['AVG_SLOPE']<=1),'AVG_FLAT']=1\n",
    "\n"
   ]
  },
  {
   "cell_type": "code",
   "execution_count": 116,
   "metadata": {},
   "outputs": [],
   "source": [
    "df['UP']=0\n",
    "df['DOWN']=0\n",
    "df['FLAT']=0\n",
    "\n",
    "# if SLOPE is positive then make POS as 1 else 0\n",
    "df.loc[df['SLOPE']>1,'UP']=1\n",
    "df.loc[df['SLOPE']<-1,'DOWN']=1\n",
    "df.loc[(df['SLOPE']>=-1) & (df['SLOPE']<=1),'FLAT']=1\n",
    "\n",
    "df['VEH']=0\n",
    "\n",
    "df['POS']=0\n",
    "\n",
    "# if slope is greater than 0 then POS is 1 else 0\n",
    "df.loc[df['SLOPE']>0,'POS']=1\n",
    "\n",
    "# if CARS or TWO_WHEELER is greater than 1 then mark VEH as 1 else 0\n",
    "df.loc[(df['22a']>1) | (df['22b']>1),'VEH']=1\n",
    "\n",
    "\n",
    "df['SHORT']=0\n",
    "df['MEDIUM']=0\n",
    "df['LONG']=0\n",
    "\n",
    "# if DISTANCE_MAP is less than 1 then make LOW as 1\n",
    "df.loc[df['DISTANCE']<1,'SHORT']=1\n",
    "# if DISTANCE_MAP is greater than 1 and less than 3 then make MEDIUM 1\n",
    "df.loc[(df['DISTANCE']>=1) & (df['DISTANCE']<3),'MEDIUM']=1\n",
    "# if DISTANCE_MAP is greater than 3 then make HIGH as 1\n",
    "df.loc[df['DISTANCE']>=3,'LONG']=1\n",
    "\n",
    "\n",
    "df['AGE1']=0\n",
    "df['AGE2']=0\n",
    "df['AGE3']=0 \n",
    "\n",
    "# if AGE_C is 1 then AGE1 is 1\n",
    "df.loc[df['AGE_C']==1,'AGE1']=1\n",
    "df.loc[df['AGE_C']==2,'AGE2']=1\n",
    "df.loc[df['AGE_C']==3,'AGE3']=1\n",
    "\n",
    "df['O_POP_DEN']=df['O_POP_DEN']/10000\n",
    "df['O_EMP_DEN']=df['O_EMP_DEN']/10000\n",
    "df['M_POP_DEN']=df['M_POP_DEN']/10000\n",
    "df['M_EMP_DEN']=df['M_EMP_DEN']/10000\n",
    "\n",
    "\n",
    "df['d_pop_low']=0\n",
    "df['d_pop_med']=0\n",
    "df['d_pop_high']=0\n",
    "\n",
    "df['d_emp_high']=0\n",
    "df['d_emp_med']=0\n",
    "df['d_emp_low']=0\n",
    "\n",
    "df['m_pop_low']=0\n",
    "df['m_pop_med']=0\n",
    "df['m_pop_high']=0\n",
    "\n",
    "df['m_emp_low']=0\n",
    "df['m_emp_med']=0\n",
    "df['m_emp_high']=0\n",
    "\n",
    "df.loc[df['O_POP_DEN']<1,'d_pop_low']=1\n",
    "df.loc[(df['O_POP_DEN']>=1) & (df['O_POP_DEN']<3),'d_pop_med']=1\n",
    "df.loc[df['O_POP_DEN']>=3,'d_pop_high']=1\n",
    "\n",
    "df.loc[df['O_EMP_DEN']<1,'d_emp_low']=1\n",
    "df.loc[(df['O_EMP_DEN']>=1) & (df['O_EMP_DEN']<3),'d_emp_med']=1\n",
    "df.loc[df['O_EMP_DEN']>=3,'d_emp_high']=1\n",
    "\n",
    "df.loc[df['M_POP_DEN']<1,'m_pop_low']=1\n",
    "df.loc[(df['M_POP_DEN']>=1) & (df['M_POP_DEN']<3),'m_pop_med']=1\n",
    "df.loc[df['M_POP_DEN']>=3,'m_pop_high']=1\n",
    "\n",
    "df.loc[df['M_EMP_DEN']<1,'m_emp_low']=1\n",
    "df.loc[(df['M_EMP_DEN']>=1) & (df['M_EMP_DEN']<3),'m_emp_med']=1\n",
    "df.loc[df['M_EMP_DEN']>=3,'m_emp_high']=1\n",
    "\n",
    "\n",
    "\n",
    "\n",
    "\n"
   ]
  },
  {
   "cell_type": "code",
   "execution_count": 117,
   "metadata": {},
   "outputs": [
    {
     "data": {
      "text/plain": [
       "Index(['ID', 'A_SLOPE_TYPE', '25a', '25b', 'DISTANCE', 'TIME', '28a', '28b',\n",
       "       '28c', '28d',\n",
       "       ...\n",
       "       'd_pop_high', 'd_emp_high', 'd_emp_med', 'd_emp_low', 'm_pop_low',\n",
       "       'm_pop_med', 'm_pop_high', 'm_emp_low', 'm_emp_med', 'm_emp_high'],\n",
       "      dtype='object', length=120)"
      ]
     },
     "execution_count": 117,
     "metadata": {},
     "output_type": "execute_result"
    }
   ],
   "source": [
    "df.columns"
   ]
  },
  {
   "cell_type": "code",
   "execution_count": 118,
   "metadata": {},
   "outputs": [],
   "source": [
    "df['NEW']=df['SEGMENT']/df['DISTANCE']\n",
    "df['PART1']=0\n",
    "df['PART2']=0\n",
    "df['PART3']=0\n",
    "\n",
    "df.loc[df['NEW']<0.25,'PART1']=1\n",
    "df.loc[(df['NEW']>=0.25) & (df['NEW']<0.75),'PART2']=1\n",
    "df.loc[df['NEW']>=0.75,'PART3']=1"
   ]
  },
  {
   "cell_type": "code",
   "execution_count": 119,
   "metadata": {},
   "outputs": [],
   "source": [
    "gender_map= {'Male': 1, 'Female': 0}\n",
    "df['MALE'] = df['MALE'].map(gender_map)"
   ]
  },
  {
   "cell_type": "code",
   "execution_count": 120,
   "metadata": {},
   "outputs": [],
   "source": [
    "df['WORK']=0\n",
    "df.loc[(df['6']=='Work') | (df['6']=='Work'),'WORK']=1\n",
    "\n",
    "df['DEN']=0\n",
    "df['DEN']=df['INTERSECTIONS']/df['DISTANCE']\n",
    "\n",
    "df=df[df['DEN']<30]\n",
    "\n",
    "df['HIGH']=0\n",
    "df['MED']=0\n",
    "\n",
    "# if DEN is greater than 66 percentile of data of DEN then HIGH is 1 for that entry\n",
    "# if DEN is between 33 and 66 percentiles of data of DEN then MED is 1 for that entry\n",
    "df.loc[df['DEN']>df['DEN'].quantile(0.66),'HIGH']=1\n",
    "df.loc[(df['DEN']<=df['DEN'].quantile(0.66)) & (df['DEN']>df['DEN'].quantile(0.33)),'MED']=1\n",
    "\n",
    "\n",
    "\n",
    "df['UNO']=1\n",
    "\n",
    "df['DIST1']=0\n",
    "df['DIST2']=0\n",
    "df['DIST3']=0\n",
    "df['DIST4']=0\n",
    "df['DIST5']=0\n",
    "\n",
    "df.loc[df['DISTANCE']<1,'DIST1']=1\n",
    "df.loc[(df['DISTANCE']>=1) & (df['DISTANCE']<2),'DIST2']=1\n",
    "df.loc[(df['DISTANCE']>=2) & (df['DISTANCE']<3),'DIST3']=1\n",
    "df.loc[(df['DISTANCE']>=3) & (df['DISTANCE']<4),'DIST4']=1\n",
    "df.loc[df['DISTANCE']>=4,'DIST5']=1\n",
    "\n",
    "\n",
    "# drop the rows where DIST1 equals 1\n",
    "# df.drop(df[df['DIST1']==1].index, inplace=True)\n",
    "\n",
    "# df[['ID', 'RENT_BICYCLE','MALE', 'SLOPE', 'DISTANCE', 'AGE1','AGE2','AGE3','AVG_SLOPE','MAX_SLOPE','SEGMENT','PART1','PART2','PART3',\n",
    "#            'TIME','VEH','INTERSECTIONS','WORK','UNO','D_POP_DEN','D_EMP_DEN','M_POP_DEN','M_EMP_DEN','d_pop_med','d_pop_high','d_emp_med','d_emp_high','d_pop_low','m_pop_low',\n",
    "#            'm_pop_low','m_pop_high','m_pop_med','m_emp_low','m_emp_med','m_emp_high','DEN','RENT','MAX_UP','AVG_UP','AVG_DOWN','AVG_FLAT',\n",
    "#            'UP','DOWN','FLAT','LONG','SHORT','MEDIUM','DIST1','DIST2','DIST3','DIST4','DIST5']].to_csv(path+\"new_egress_data_analysis.csv\",index=True)"
   ]
  },
  {
   "cell_type": "code",
   "execution_count": 121,
   "metadata": {},
   "outputs": [
    {
     "name": "stdout",
     "output_type": "stream",
     "text": [
      "485\n",
      "133\n",
      "69\n",
      "33\n",
      "21\n"
     ]
    }
   ],
   "source": [
    "print(df.loc[df['SEGMENT']<=1].shape[0])\n",
    "print(df.loc[(df['SEGMENT']>1) & (df['SEGMENT']<=2)].shape[0])\n",
    "print(df.loc[(df['SEGMENT']>2) & (df['SEGMENT']<=3)].shape[0])\n",
    "print(df.loc[(df['SEGMENT']>3) & (df['SEGMENT']<=4)].shape[0])\n",
    "print(df.loc[(df['SEGMENT']>4) & (df['SEGMENT']<=5)].shape[0])\n",
    "\n"
   ]
  },
  {
   "cell_type": "code",
   "execution_count": 122,
   "metadata": {},
   "outputs": [],
   "source": [
    "df['DIST']=0\n",
    "df.loc[df['DIST1']==1,'DIST']=1\n",
    "df.loc[df['DIST2']==1,'DIST']=2\n",
    "df.loc[df['DIST3']==1,'DIST']=3\n",
    "df.loc[df['DIST4']==1,'DIST']=4\n",
    "df.loc[df['DIST5']==1,'DIST']=5\n",
    "\n",
    "df['PART']=0\n",
    "df.loc[df['PART1']==1,'PART']=1\n",
    "df.loc[df['PART2']==1,'PART']=2\n",
    "df.loc[df['PART3']==1,'PART']=3\n",
    "\n",
    "df['KART']=0\n",
    "\n",
    "df.loc[df['UP']==1,'KART']=1\n",
    "df.loc[df['DOWN']==1,'KART']=2\n",
    "df.loc[df['FLAT']==1,'KART']=3"
   ]
  },
  {
   "cell_type": "code",
   "execution_count": 125,
   "metadata": {},
   "outputs": [
    {
     "data": {
      "text/plain": [
       "DIST  PART\n",
       "1     3       133\n",
       "      1       106\n",
       "      2         6\n",
       "2     3       114\n",
       "      1        82\n",
       "      2        14\n",
       "3     3        71\n",
       "      1        56\n",
       "      2        12\n",
       "4     3        34\n",
       "      1        24\n",
       "      2        10\n",
       "5     3        58\n",
       "      1        43\n",
       "      2        10\n",
       "Name: count, dtype: int64"
      ]
     },
     "execution_count": 125,
     "metadata": {},
     "output_type": "execute_result"
    }
   ],
   "source": [
    "df.groupby('DIST')['PART'].value_counts()"
   ]
  }
 ],
 "metadata": {
  "kernelspec": {
   "display_name": "Python 3",
   "language": "python",
   "name": "python3"
  },
  "language_info": {
   "codemirror_mode": {
    "name": "ipython",
    "version": 3
   },
   "file_extension": ".py",
   "mimetype": "text/x-python",
   "name": "python",
   "nbconvert_exporter": "python",
   "pygments_lexer": "ipython3",
   "version": "3.11.2"
  }
 },
 "nbformat": 4,
 "nbformat_minor": 2
}
