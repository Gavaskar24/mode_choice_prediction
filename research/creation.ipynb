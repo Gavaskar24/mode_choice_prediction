{
 "cells": [
  {
   "cell_type": "code",
   "execution_count": 155,
   "metadata": {},
   "outputs": [],
   "source": [
    "import numpy as np\n",
    "import pandas as pd\n",
    "import seaborn as sns"
   ]
  },
  {
   "cell_type": "code",
   "execution_count": 156,
   "metadata": {},
   "outputs": [],
   "source": [
    "path = r\"E:\\Metro1\\artifacts\\\\\"\n",
    "\n",
    "access_df=pd.read_csv(path+\"access_data.csv\")\n",
    "egress_df=pd.read_csv(path+\"egress_data.csv\")\n",
    "\n"
   ]
  },
  {
   "cell_type": "code",
   "execution_count": 157,
   "metadata": {},
   "outputs": [
    {
     "name": "stdout",
     "output_type": "stream",
     "text": [
      "(831, 74) (715, 76)\n"
     ]
    },
    {
     "data": {
      "text/plain": [
       "RENT_BICYCLE\n",
       "4    388\n",
       "3    233\n",
       "1    161\n",
       "2     49\n",
       "Name: count, dtype: int64"
      ]
     },
     "execution_count": 157,
     "metadata": {},
     "output_type": "execute_result"
    }
   ],
   "source": [
    "# remove duplicate rows with same id column from dataframe\n",
    "access_df.drop_duplicates(subset =\"ID\",inplace = True)\n",
    "egress_df.drop_duplicates(subset =\"ID\",inplace = True)\n",
    "\n",
    "print(access_df.shape,egress_df.shape)\n",
    "\n",
    "# print(access_df.shape,egress_df.shape)\n",
    "access_df['RENT_BICYCLE'].value_counts()"
   ]
  },
  {
   "cell_type": "code",
   "execution_count": 158,
   "metadata": {},
   "outputs": [],
   "source": [
    "dict={'Walk ':'Walk', 'Auto Rickshaw ':'Ride hire', 'Dropped-off by friends/others ':'Ride hire',\n",
    "       'Two-Wheeler ':'Personal vehicle', 'Ola/Uber car ':'Personal vehicle', 'Bicycle ':'Personal vehicle', 'Car ':'Personal vehicle',\n",
    "       'Rapido/Uber moto/Ola App two-wheeler ':'Ride hire', 'Shuttle':'Ride hire',\n",
    "       'Rapido/uber moto/Ola App two-wheeler ':'Ride hire', 'Uber auto ':'Ride hire',\n",
    "       'Company shuttle':'Ride hire', 'Office metro feeder':'Ride hire',\n",
    "       'Dropped-off by friends/family members/others ':'Ride hire',\n",
    "       'Drove and parked a two-Wheeler ':'Personal vehicle', 'Drove and parked a car ':'Personal vehicle',\n",
    "       'Friends two wheeler':'Personal vehicle'}\n",
    "\n",
    "access_df['ACCESS_MODE']=access_df['ACCESS_MODE'].map(dict)"
   ]
  },
  {
   "cell_type": "code",
   "execution_count": 159,
   "metadata": {},
   "outputs": [
    {
     "name": "stdout",
     "output_type": "stream",
     "text": [
      "AGE_C\n",
      "1    660\n",
      "2    108\n",
      "3     63\n",
      "Name: count, dtype: int64 AGE_C\n",
      "1    577\n",
      "2     81\n",
      "3     57\n",
      "Name: count, dtype: int64\n"
     ]
    }
   ],
   "source": [
    "access_df['AGE'].unique()\n",
    "\n",
    "age_mapper={'> 60 yrs ':3, '18-25 yrs ':1, '26-35 yrs ':1, '18-25yrs ':1, '26-35yrs ':1,\n",
    "       '46-60 yrs ':3, '36-45 yrs ':2, '36-45yrs ':2,'46-60yrs ':3,'> 60 yrs ':3, '18-25 yrs ':1, '26-35 yrs ':1, '26-35yrs ':1, '18-25yrs ':1,\n",
    "       '46-60 yrs ':3, '36-45 yrs ':2, '36-45yrs ':2, '46-60yrs ':3}\n",
    "access_df['AGE_C']=access_df['AGE'].map(age_mapper)\n",
    "egress_df['AGE_C']=egress_df['AGE'].map(age_mapper)\n",
    "\n",
    "print(access_df['AGE_C'].value_counts(),egress_df['AGE_C'].value_counts())\n",
    "\n",
    "access_df['AGE1']=0\n",
    "access_df['AGE2']=0\n",
    "access_df['AGE3']=0\n",
    "\n",
    "# if AGE_C is 1 then AGE1 is 1\n",
    "access_df.loc[access_df['AGE_C']==1,'AGE1']=1\n",
    "# if AGE_C is 2 then AGE2 is 1\n",
    "access_df.loc[access_df['AGE_C']==2,'AGE2']=1\n",
    "# if AGE_C is 3 then AGE3 is 1\n",
    "access_df.loc[access_df['AGE_C']==3,'AGE3']=1"
   ]
  },
  {
   "cell_type": "code",
   "execution_count": 160,
   "metadata": {},
   "outputs": [],
   "source": [
    "access_df.columns\n",
    "\n",
    "# rename few columns\n",
    "access_df.rename(columns = {'A_DISTANCE_MAP':'DISTANCE', 'A_TIME_MAP':'TIME','ACCESS_SLOPE':'SLOPE',\n",
    "                            'E_SLOPE_TYPE':'SLOPE_TYPE'}, inplace = True)"
   ]
  },
  {
   "cell_type": "code",
   "execution_count": 161,
   "metadata": {},
   "outputs": [],
   "source": [
    "access_df['UP']=0\n",
    "access_df['DOWN']=0\n",
    "access_df['FLAT']=0\n",
    "\n",
    "# if SLOPE is positive then make POS as 1 else 0\n",
    "access_df.loc[access_df['SLOPE']>1,'UP']=1\n",
    "access_df.loc[access_df['SLOPE']<-1,'DOWN']=1\n",
    "access_df.loc[(access_df['SLOPE']>=-1) & (access_df['SLOPE']<=1),'FLAT']=1\n",
    "\n",
    "access_df['VEH']=0\n",
    "\n",
    "access_df['POS']=0\n",
    "\n",
    "# if slope is greater than 0 then POS is 1 else 0\n",
    "access_df.loc[access_df['SLOPE']>0,'POS']=1\n",
    "\n",
    "# if CARS or TWO_WHEELER is greater than 1 then mark VEH as 1 else 0\n",
    "access_df.loc[(access_df['CARS']>1) | (access_df['TWO_WHEELER']>1),'VEH']=1\n",
    "\n",
    "\n",
    "access_df['SHORT']=0\n",
    "access_df['MEDIUM']=0\n",
    "access_df['LONG']=0\n",
    "\n",
    "# if DISTANCE_MAP is less than 1 then make LOW as 1\n",
    "access_df.loc[access_df['DISTANCE']<1,'SHORT']=1\n",
    "# if DISTANCE_MAP is greater than 1 and less than 3 then make MEDIUM 1\n",
    "access_df.loc[(access_df['DISTANCE']>=1) & (access_df['DISTANCE']<3),'MEDIUM']=1\n",
    "# if DISTANCE_MAP is greater than 3 then make HIGH as 1\n",
    "access_df.loc[access_df['DISTANCE']>=3,'LONG']=1\n",
    "\n",
    "access_df['USE']=1\n",
    "access_df.loc[(access_df['RENT_BICYCLE']==4) | (access_df['RENT_BICYCLE']==2),'USE']=0"
   ]
  },
  {
   "cell_type": "code",
   "execution_count": 162,
   "metadata": {},
   "outputs": [
    {
     "ename": "KeyError",
     "evalue": "\"['DIST3'] not in index\"",
     "output_type": "error",
     "traceback": [
      "\u001b[1;31m---------------------------------------------------------------------------\u001b[0m",
      "\u001b[1;31mKeyError\u001b[0m                                  Traceback (most recent call last)",
      "Cell \u001b[1;32mIn[162], line 41\u001b[0m\n\u001b[0;32m     36\u001b[0m access_df\u001b[38;5;241m.\u001b[39mloc[(access_df[\u001b[38;5;124m'\u001b[39m\u001b[38;5;124mDISTANCE\u001b[39m\u001b[38;5;124m'\u001b[39m]\u001b[38;5;241m>\u001b[39m\u001b[38;5;241m=\u001b[39m\u001b[38;5;241m4\u001b[39m),\u001b[38;5;124m'\u001b[39m\u001b[38;5;124mDIST5\u001b[39m\u001b[38;5;124m'\u001b[39m]\u001b[38;5;241m=\u001b[39m\u001b[38;5;241m1\u001b[39m\n\u001b[0;32m     39\u001b[0m \u001b[38;5;66;03m# output columns ID, RENT_BICYCLE,MALE, ACCESS_SLOPE, A_SLOPE_TYPE, A_DISTANCE_MAP, A_TIME_MAP,O_TYPE,D_TYPE,ACCESS_MODE,AGE_C,N_BICYCLES,CARS,\u001b[39;00m\n\u001b[0;32m     40\u001b[0m \u001b[38;5;66;03m# TWO_WHEELER, OTHERS, A_INTERSECTINS from access_df dataframe to csv file\u001b[39;00m\n\u001b[1;32m---> 41\u001b[0m \u001b[43maccess_df\u001b[49m\u001b[43m[\u001b[49m\u001b[43m[\u001b[49m\u001b[38;5;124;43m'\u001b[39;49m\u001b[38;5;124;43mID\u001b[39;49m\u001b[38;5;124;43m'\u001b[39;49m\u001b[43m,\u001b[49m\u001b[43m \u001b[49m\u001b[38;5;124;43m'\u001b[39;49m\u001b[38;5;124;43mRENT_BICYCLE\u001b[39;49m\u001b[38;5;124;43m'\u001b[39;49m\u001b[43m,\u001b[49m\u001b[43m \u001b[49m\u001b[38;5;124;43m'\u001b[39;49m\u001b[38;5;124;43mMALE\u001b[39;49m\u001b[38;5;124;43m'\u001b[39;49m\u001b[43m,\u001b[49m\u001b[43m \u001b[49m\u001b[38;5;124;43m'\u001b[39;49m\u001b[38;5;124;43mSLOPE\u001b[39;49m\u001b[38;5;124;43m'\u001b[39;49m\u001b[43m,\u001b[49m\u001b[43m \u001b[49m\u001b[38;5;124;43m'\u001b[39;49m\u001b[38;5;124;43mSLOPE_TYPE\u001b[39;49m\u001b[38;5;124;43m'\u001b[39;49m\u001b[43m,\u001b[49m\u001b[43m \u001b[49m\u001b[38;5;124;43m'\u001b[39;49m\u001b[38;5;124;43mDISTANCE\u001b[39;49m\u001b[38;5;124;43m'\u001b[39;49m\u001b[43m,\u001b[49m\u001b[43m \u001b[49m\u001b[38;5;124;43m'\u001b[39;49m\u001b[38;5;124;43mTIME\u001b[39;49m\u001b[38;5;124;43m'\u001b[39;49m\u001b[43m,\u001b[49m\u001b[38;5;124;43m'\u001b[39;49m\u001b[38;5;124;43mO_TYPE\u001b[39;49m\u001b[38;5;124;43m'\u001b[39;49m\u001b[43m,\u001b[49m\u001b[38;5;124;43m'\u001b[39;49m\u001b[38;5;124;43mD_TYPE\u001b[39;49m\u001b[38;5;124;43m'\u001b[39;49m\u001b[43m,\u001b[49m\u001b[38;5;124;43m'\u001b[39;49m\u001b[38;5;124;43mACCESS_MODE\u001b[39;49m\u001b[38;5;124;43m'\u001b[39;49m\u001b[43m,\u001b[49m\n\u001b[0;32m     42\u001b[0m \u001b[43m           \u001b[49m\u001b[38;5;124;43m'\u001b[39;49m\u001b[38;5;124;43mAGE1\u001b[39;49m\u001b[38;5;124;43m'\u001b[39;49m\u001b[43m,\u001b[49m\u001b[38;5;124;43m'\u001b[39;49m\u001b[38;5;124;43mAGE2\u001b[39;49m\u001b[38;5;124;43m'\u001b[39;49m\u001b[43m,\u001b[49m\u001b[38;5;124;43m'\u001b[39;49m\u001b[38;5;124;43mAGE3\u001b[39;49m\u001b[38;5;124;43m'\u001b[39;49m\u001b[43m,\u001b[49m\u001b[38;5;124;43m'\u001b[39;49m\u001b[38;5;124;43mVEH\u001b[39;49m\u001b[38;5;124;43m'\u001b[39;49m\u001b[43m,\u001b[49m\u001b[38;5;124;43m'\u001b[39;49m\u001b[38;5;124;43mWORK\u001b[39;49m\u001b[38;5;124;43m'\u001b[39;49m\u001b[43m,\u001b[49m\u001b[38;5;124;43m'\u001b[39;49m\u001b[38;5;124;43mDEN\u001b[39;49m\u001b[38;5;124;43m'\u001b[39;49m\u001b[43m,\u001b[49m\u001b[38;5;124;43m'\u001b[39;49m\u001b[38;5;124;43mUNO\u001b[39;49m\u001b[38;5;124;43m'\u001b[39;49m\u001b[43m,\u001b[49m\u001b[38;5;124;43m'\u001b[39;49m\u001b[38;5;124;43mSHORT\u001b[39;49m\u001b[38;5;124;43m'\u001b[39;49m\u001b[43m,\u001b[49m\u001b[38;5;124;43m'\u001b[39;49m\u001b[38;5;124;43mLONG\u001b[39;49m\u001b[38;5;124;43m'\u001b[39;49m\u001b[43m,\u001b[49m\u001b[38;5;124;43m'\u001b[39;49m\u001b[38;5;124;43mMEDIUM\u001b[39;49m\u001b[38;5;124;43m'\u001b[39;49m\u001b[43m,\u001b[49m\u001b[38;5;124;43m'\u001b[39;49m\u001b[38;5;124;43mUP\u001b[39;49m\u001b[38;5;124;43m'\u001b[39;49m\u001b[43m,\u001b[49m\u001b[38;5;124;43m'\u001b[39;49m\u001b[38;5;124;43mDOWN\u001b[39;49m\u001b[38;5;124;43m'\u001b[39;49m\u001b[43m,\u001b[49m\u001b[38;5;124;43m'\u001b[39;49m\u001b[38;5;124;43mFLAT\u001b[39;49m\u001b[38;5;124;43m'\u001b[39;49m\u001b[43m,\u001b[49m\u001b[38;5;124;43m'\u001b[39;49m\u001b[38;5;124;43mPOS\u001b[39;49m\u001b[38;5;124;43m'\u001b[39;49m\u001b[43m,\u001b[49m\u001b[38;5;124;43m'\u001b[39;49m\u001b[38;5;124;43mHIGH\u001b[39;49m\u001b[38;5;124;43m'\u001b[39;49m\u001b[43m,\u001b[49m\u001b[38;5;124;43m'\u001b[39;49m\u001b[38;5;124;43mMED\u001b[39;49m\u001b[38;5;124;43m'\u001b[39;49m\u001b[43m,\u001b[49m\n\u001b[0;32m     43\u001b[0m \u001b[43m        \u001b[49m\u001b[38;5;124;43m'\u001b[39;49m\u001b[38;5;124;43mDIST1\u001b[39;49m\u001b[38;5;124;43m'\u001b[39;49m\u001b[43m,\u001b[49m\u001b[38;5;124;43m'\u001b[39;49m\u001b[38;5;124;43mDIST2\u001b[39;49m\u001b[38;5;124;43m'\u001b[39;49m\u001b[43m,\u001b[49m\u001b[38;5;124;43m'\u001b[39;49m\u001b[38;5;124;43mDIST3\u001b[39;49m\u001b[38;5;124;43m'\u001b[39;49m\u001b[43m,\u001b[49m\u001b[38;5;124;43m'\u001b[39;49m\u001b[38;5;124;43mDIST4\u001b[39;49m\u001b[38;5;124;43m'\u001b[39;49m\u001b[43m,\u001b[49m\u001b[38;5;124;43m'\u001b[39;49m\u001b[38;5;124;43mDIST5\u001b[39;49m\u001b[38;5;124;43m'\u001b[39;49m\u001b[43m]\u001b[49m\u001b[43m]\u001b[49m\u001b[38;5;241m.\u001b[39mto_csv(path\u001b[38;5;241m+\u001b[39m\u001b[38;5;124m\"\u001b[39m\u001b[38;5;124maccess_data_analysis.csv\u001b[39m\u001b[38;5;124m\"\u001b[39m,index\u001b[38;5;241m=\u001b[39m\u001b[38;5;28;01mFalse\u001b[39;00m)\n",
      "File \u001b[1;32md:\\Projects\\mode_choice_prediction\\venv\\Lib\\site-packages\\pandas\\core\\frame.py:4108\u001b[0m, in \u001b[0;36mDataFrame.__getitem__\u001b[1;34m(self, key)\u001b[0m\n\u001b[0;32m   4106\u001b[0m     \u001b[38;5;28;01mif\u001b[39;00m is_iterator(key):\n\u001b[0;32m   4107\u001b[0m         key \u001b[38;5;241m=\u001b[39m \u001b[38;5;28mlist\u001b[39m(key)\n\u001b[1;32m-> 4108\u001b[0m     indexer \u001b[38;5;241m=\u001b[39m \u001b[38;5;28;43mself\u001b[39;49m\u001b[38;5;241;43m.\u001b[39;49m\u001b[43mcolumns\u001b[49m\u001b[38;5;241;43m.\u001b[39;49m\u001b[43m_get_indexer_strict\u001b[49m\u001b[43m(\u001b[49m\u001b[43mkey\u001b[49m\u001b[43m,\u001b[49m\u001b[43m \u001b[49m\u001b[38;5;124;43m\"\u001b[39;49m\u001b[38;5;124;43mcolumns\u001b[39;49m\u001b[38;5;124;43m\"\u001b[39;49m\u001b[43m)\u001b[49m[\u001b[38;5;241m1\u001b[39m]\n\u001b[0;32m   4110\u001b[0m \u001b[38;5;66;03m# take() does not accept boolean indexers\u001b[39;00m\n\u001b[0;32m   4111\u001b[0m \u001b[38;5;28;01mif\u001b[39;00m \u001b[38;5;28mgetattr\u001b[39m(indexer, \u001b[38;5;124m\"\u001b[39m\u001b[38;5;124mdtype\u001b[39m\u001b[38;5;124m\"\u001b[39m, \u001b[38;5;28;01mNone\u001b[39;00m) \u001b[38;5;241m==\u001b[39m \u001b[38;5;28mbool\u001b[39m:\n",
      "File \u001b[1;32md:\\Projects\\mode_choice_prediction\\venv\\Lib\\site-packages\\pandas\\core\\indexes\\base.py:6200\u001b[0m, in \u001b[0;36mIndex._get_indexer_strict\u001b[1;34m(self, key, axis_name)\u001b[0m\n\u001b[0;32m   6197\u001b[0m \u001b[38;5;28;01melse\u001b[39;00m:\n\u001b[0;32m   6198\u001b[0m     keyarr, indexer, new_indexer \u001b[38;5;241m=\u001b[39m \u001b[38;5;28mself\u001b[39m\u001b[38;5;241m.\u001b[39m_reindex_non_unique(keyarr)\n\u001b[1;32m-> 6200\u001b[0m \u001b[38;5;28;43mself\u001b[39;49m\u001b[38;5;241;43m.\u001b[39;49m\u001b[43m_raise_if_missing\u001b[49m\u001b[43m(\u001b[49m\u001b[43mkeyarr\u001b[49m\u001b[43m,\u001b[49m\u001b[43m \u001b[49m\u001b[43mindexer\u001b[49m\u001b[43m,\u001b[49m\u001b[43m \u001b[49m\u001b[43maxis_name\u001b[49m\u001b[43m)\u001b[49m\n\u001b[0;32m   6202\u001b[0m keyarr \u001b[38;5;241m=\u001b[39m \u001b[38;5;28mself\u001b[39m\u001b[38;5;241m.\u001b[39mtake(indexer)\n\u001b[0;32m   6203\u001b[0m \u001b[38;5;28;01mif\u001b[39;00m \u001b[38;5;28misinstance\u001b[39m(key, Index):\n\u001b[0;32m   6204\u001b[0m     \u001b[38;5;66;03m# GH 42790 - Preserve name from an Index\u001b[39;00m\n",
      "File \u001b[1;32md:\\Projects\\mode_choice_prediction\\venv\\Lib\\site-packages\\pandas\\core\\indexes\\base.py:6252\u001b[0m, in \u001b[0;36mIndex._raise_if_missing\u001b[1;34m(self, key, indexer, axis_name)\u001b[0m\n\u001b[0;32m   6249\u001b[0m     \u001b[38;5;28;01mraise\u001b[39;00m \u001b[38;5;167;01mKeyError\u001b[39;00m(\u001b[38;5;124mf\u001b[39m\u001b[38;5;124m\"\u001b[39m\u001b[38;5;124mNone of [\u001b[39m\u001b[38;5;132;01m{\u001b[39;00mkey\u001b[38;5;132;01m}\u001b[39;00m\u001b[38;5;124m] are in the [\u001b[39m\u001b[38;5;132;01m{\u001b[39;00maxis_name\u001b[38;5;132;01m}\u001b[39;00m\u001b[38;5;124m]\u001b[39m\u001b[38;5;124m\"\u001b[39m)\n\u001b[0;32m   6251\u001b[0m not_found \u001b[38;5;241m=\u001b[39m \u001b[38;5;28mlist\u001b[39m(ensure_index(key)[missing_mask\u001b[38;5;241m.\u001b[39mnonzero()[\u001b[38;5;241m0\u001b[39m]]\u001b[38;5;241m.\u001b[39munique())\n\u001b[1;32m-> 6252\u001b[0m \u001b[38;5;28;01mraise\u001b[39;00m \u001b[38;5;167;01mKeyError\u001b[39;00m(\u001b[38;5;124mf\u001b[39m\u001b[38;5;124m\"\u001b[39m\u001b[38;5;132;01m{\u001b[39;00mnot_found\u001b[38;5;132;01m}\u001b[39;00m\u001b[38;5;124m not in index\u001b[39m\u001b[38;5;124m\"\u001b[39m)\n",
      "\u001b[1;31mKeyError\u001b[0m: \"['DIST3'] not in index\""
     ]
    }
   ],
   "source": [
    "# convert 2 in RENT_BICYCLE to 4 and 3 to 1 in access_df dataframe\n",
    "access_df['RENT_BICYCLE'] = access_df['RENT_BICYCLE'].replace({4: 2, 3: 1})\n",
    "\n",
    "# create a new column WORK where if O_TYPE or D_TYPE is work then it is 1 else 0\n",
    "access_df['WORK']=0\n",
    "access_df.loc[(access_df['O_TYPE']=='Work') | (access_df['D_TYPE']=='Work'),'WORK']=1\n",
    "\n",
    "access_df['MODE']=0\n",
    "\n",
    "\n",
    "access_df['DEN']=0\n",
    "access_df['DEN']=access_df['A_INTERSECTIONS']/access_df['DISTANCE']\n",
    "\n",
    "access_df=access_df[access_df['DEN']<30]\n",
    "\n",
    "access_df['UNO']=1\n",
    "\n",
    "access_df['HIGH']=0\n",
    "access_df['MED']=0\n",
    "\n",
    "# if DEN is greater than 66 percentile of data of DEN then HIGH is 1 for that entry\n",
    "# if DEN is between 33 and 66 percentiles of data of DEN then MED is 1 for that entry \n",
    "access_df.loc[access_df['DEN']>access_df['DEN'].quantile(0.66),'HIGH']=1\n",
    "access_df.loc[(access_df['DEN']<=access_df['DEN'].quantile(0.66)) & (access_df['DEN']>access_df['DEN'].quantile(0.33)),'MED']=1\n",
    "\n",
    "access_df['DIST1']=0\n",
    "access_df['DIST2']=0\n",
    "# access_df['DIST3']=0\n",
    "access_df['DIST4']=0\n",
    "access_df['DIST5']=0\n",
    "\n",
    "access_df.loc[access_df['DISTANCE']<1,'DIST1']=1\n",
    "access_df.loc[(access_df['DISTANCE']>=1) & (access_df['DISTANCE']<2),'DIST2']=1\n",
    "access_df.loc[(access_df['DISTANCE']>=2) & (access_df['DISTANCE']<3),'DIST2']=1\n",
    "access_df.loc[(access_df['DISTANCE']>=3) & (access_df['DISTANCE']<4),'DIST4']=1\n",
    "access_df.loc[(access_df['DISTANCE']>=4),'DIST5']=1\n",
    "\n",
    "\n",
    "# output columns ID, RENT_BICYCLE,MALE, ACCESS_SLOPE, A_SLOPE_TYPE, A_DISTANCE_MAP, A_TIME_MAP,O_TYPE,D_TYPE,ACCESS_MODE,AGE_C,N_BICYCLES,CARS,\n",
    "# TWO_WHEELER, OTHERS, A_INTERSECTINS from access_df dataframe to csv file\n",
    "access_df[['ID', 'RENT_BICYCLE', 'MALE', 'SLOPE', 'SLOPE_TYPE', 'DISTANCE', 'TIME','O_TYPE','D_TYPE','ACCESS_MODE',\n",
    "           'AGE1','AGE2','AGE3','VEH','WORK','DEN','UNO','SHORT','LONG','MEDIUM','UP','DOWN','FLAT','POS','HIGH','MED',\n",
    "        'DIST1','DIST2','DIST4','DIST5']].to_csv(path+\"access_data_analysis.csv\",index=False)"
   ]
  },
  {
   "cell_type": "code",
   "execution_count": null,
   "metadata": {},
   "outputs": [
    {
     "name": "stdout",
     "output_type": "stream",
     "text": [
      "248\n",
      "203\n",
      "141\n",
      "68\n",
      "115\n"
     ]
    }
   ],
   "source": [
    "print(access_df[access_df['DISTANCE']<1].shape[0])\n",
    "print(access_df[(access_df['DISTANCE']>=1) & (access_df['DISTANCE']<2)].shape[0])\n",
    "print(access_df[(access_df['DISTANCE']>=2) & (access_df['DISTANCE']<3)].shape[0])\n",
    "print(access_df[(access_df['DISTANCE']>=3) & (access_df['DISTANCE']<4)].shape[0])\n",
    "print(access_df[(access_df['DISTANCE']>=4)].shape[0])"
   ]
  },
  {
   "cell_type": "code",
   "execution_count": null,
   "metadata": {},
   "outputs": [
    {
     "data": {
      "text/plain": [
       "RENT_BICYCLE  ACCESS_MODE     \n",
       "1             Walk                167\n",
       "              Personal vehicle    104\n",
       "              Ride hire           103\n",
       "2             Walk                217\n",
       "              Ride hire            94\n",
       "              Personal vehicle     90\n",
       "Name: count, dtype: int64"
      ]
     },
     "execution_count": 150,
     "metadata": {},
     "output_type": "execute_result"
    }
   ],
   "source": [
    "# lets get the value counts of ACCESS_MODE for each unique entry of RENT_BICYCLE\n",
    "access_df.groupby(['RENT_BICYCLE'])['ACCESS_MODE'].value_counts()"
   ]
  },
  {
   "cell_type": "code",
   "execution_count": null,
   "metadata": {},
   "outputs": [],
   "source": [
    "# rename few columns\n",
    "egress_df.rename(columns = {'E_DISTANCE_MAP':'DISTANCE', 'E_TIME_MAP':'TIME','EGRESS_SLOPE':'SLOPE','A_INTERSECTIONS':'INTERSECTIONS'\n",
    "                            ,'E_SLOPE_TYPE':'SLOPE_TYPE'}, inplace = True)"
   ]
  },
  {
   "cell_type": "code",
   "execution_count": null,
   "metadata": {},
   "outputs": [],
   "source": [
    "egress_df['UP']=0\n",
    "egress_df['DOWN']=0\n",
    "egress_df['FLAT']=0\n",
    "\n",
    "# if SLOPE is positive then make POS as 1 else 0\n",
    "egress_df.loc[egress_df['SLOPE']>1,'UP']=1\n",
    "egress_df.loc[egress_df['SLOPE']<-1,'DOWN']=1\n",
    "egress_df.loc[(egress_df['SLOPE']>=-1) & (egress_df['SLOPE']<=1),'FLAT']=1\n",
    "\n",
    "egress_df['VEH']=0\n",
    "\n",
    "egress_df['POS']=0\n",
    "\n",
    "# if slope is greater than 0 then POS is 1 else 0\n",
    "egress_df.loc[egress_df['SLOPE']>0,'POS']=1\n",
    "\n",
    "# if CARS or TWO_WHEELER is greater than 1 then mark VEH as 1 else 0\n",
    "egress_df.loc[(egress_df['CARS']>1) | (egress_df['TWO_WHEELER']>1),'VEH']=1\n",
    "\n",
    "\n",
    "egress_df['SHORT']=0\n",
    "egress_df['MEDIUM']=0\n",
    "egress_df['LONG']=0\n",
    "\n",
    "# if DISTANCE_MAP is less than 1 then make LOW as 1\n",
    "egress_df.loc[egress_df['DISTANCE']<1,'SHORT']=1\n",
    "# if DISTANCE_MAP is greater than 1 and less than 3 then make MEDIUM 1\n",
    "egress_df.loc[(egress_df['DISTANCE']>=1) & (egress_df['DISTANCE']<3),'MEDIUM']=1\n",
    "# if DISTANCE_MAP is greater than 3 then make HIGH as 1\n",
    "egress_df.loc[egress_df['DISTANCE']>=3,'LONG']=1\n",
    "\n",
    "\n",
    "egress_df['AGE1']=0\n",
    "egress_df['AGE2']=0\n",
    "egress_df['AGE3']=0 \n",
    "\n",
    "# if AGE_C is 1 then AGE1 is 1\n",
    "egress_df.loc[egress_df['AGE_C']==1,'AGE1']=1\n",
    "egress_df.loc[egress_df['AGE_C']==2,'AGE2']=1\n",
    "egress_df.loc[egress_df['AGE_C']==3,'AGE3']=1\n",
    "\n"
   ]
  },
  {
   "cell_type": "code",
   "execution_count": null,
   "metadata": {},
   "outputs": [],
   "source": [
    "egress_df['RENT_BICYCLE']=egress_df['RENT_BICYCLE'].replace({4: 1, 3: 2})\n",
    "egress_df['RENT_BICYCLE']=egress_df['RENT_BICYCLE'].replace({2: 3, 1: 2})\n",
    "egress_df['RENT_BICYCLE']=egress_df['RENT_BICYCLE'].replace({3:1})\n",
    "\n",
    "egress_df['WORK']=0\n",
    "egress_df.loc[(egress_df['O_TYPE']=='Work') | (egress_df['D_TYPE']=='Work'),'WORK']=1\n",
    "\n",
    "egress_df['DEN']=0\n",
    "egress_df['DEN']=egress_df['INTERSECTIONS']/egress_df['DISTANCE']\n",
    "\n",
    "egress_df=egress_df[egress_df['DEN']<30]\n",
    "\n",
    "egress_df['HIGH']=0\n",
    "egress_df['MED']=0\n",
    "\n",
    "# if DEN is greater than 66 percentile of data of DEN then HIGH is 1 for that entry\n",
    "# if DEN is between 33 and 66 percentiles of data of DEN then MED is 1 for that entry\n",
    "egress_df.loc[egress_df['DEN']>egress_df['DEN'].quantile(0.66),'HIGH']=1\n",
    "egress_df.loc[(egress_df['DEN']<=egress_df['DEN'].quantile(0.66)) & (egress_df['DEN']>egress_df['DEN'].quantile(0.33)),'MED']=1\n",
    "\n",
    "egress_df['UNO']=1\n",
    "\n",
    "egress_df['FAV']=1\n",
    "egress_df.loc[(egress_df['SLOPE_TYPE']=='rise') | (egress_df['SLOPE_TYPE']=='mixed')| (egress_df['SLOPE_TYPE']=='hydrograph'),'FAV']=0\n",
    "\n",
    "\n",
    "\n",
    "egress_df[['ID', 'RENT_BICYCLE','MALE', 'SLOPE', 'SLOPE_TYPE', 'DISTANCE', 'AGE1','AGE2','AGE3',\n",
    "           'TIME','O_TYPE','D_TYPE','EGRESS_MODE','VEH','INTERSECTIONS','WORK','DEN','UNO',\n",
    "           'UP','DOWN','FLAT','LONG','SHORT','MEDIUM','FAV','HIGH','MED']].to_csv(path+\"egress_data_analysis.csv\",index=True)"
   ]
  },
  {
   "cell_type": "code",
   "execution_count": null,
   "metadata": {},
   "outputs": [
    {
     "name": "stdout",
     "output_type": "stream",
     "text": [
      "304\n",
      "169\n",
      "75\n",
      "26\n",
      "81\n"
     ]
    }
   ],
   "source": [
    "print(egress_df[egress_df['DISTANCE']<1].shape[0])\n",
    "print(egress_df[(egress_df['DISTANCE']>=1) & (egress_df['DISTANCE']<2)].shape[0])\n",
    "print(egress_df[(egress_df['DISTANCE']>=2) & (egress_df['DISTANCE']<3)].shape[0])\n",
    "print(egress_df[(egress_df['DISTANCE']>=3) & (egress_df['DISTANCE']<4)].shape[0])\n",
    "print(egress_df[(egress_df['DISTANCE']>=4)].shape[0])"
   ]
  }
 ],
 "metadata": {
  "kernelspec": {
   "display_name": "Python 3",
   "language": "python",
   "name": "python3"
  },
  "language_info": {
   "codemirror_mode": {
    "name": "ipython",
    "version": 3
   },
   "file_extension": ".py",
   "mimetype": "text/x-python",
   "name": "python",
   "nbconvert_exporter": "python",
   "pygments_lexer": "ipython3",
   "version": "3.11.2"
  }
 },
 "nbformat": 4,
 "nbformat_minor": 2
}
