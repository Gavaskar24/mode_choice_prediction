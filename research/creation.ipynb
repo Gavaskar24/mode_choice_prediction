{
 "cells": [
  {
   "cell_type": "code",
   "execution_count": 34,
   "metadata": {},
   "outputs": [],
   "source": [
    "import numpy as np\n",
    "import pandas as pd\n",
    "import seaborn as sns"
   ]
  },
  {
   "cell_type": "code",
   "execution_count": 35,
   "metadata": {},
   "outputs": [
    {
     "name": "stdout",
     "output_type": "stream",
     "text": [
      "(1048, 74) (715, 76)\n"
     ]
    }
   ],
   "source": [
    "path = r\"E:\\Metro1\\artifacts\\\\\"\n",
    "\n",
    "access_df=pd.read_csv(path+\"access_data.csv\")\n",
    "egress_df=pd.read_csv(path+\"egress_data.csv\")\n",
    "\n",
    "print(access_df.shape, egress_df.shape)"
   ]
  },
  {
   "cell_type": "code",
   "execution_count": 36,
   "metadata": {},
   "outputs": [],
   "source": [
    "# remove duplicate rows with same id column from dataframe\n",
    "access_df.drop_duplicates(subset =\"ID\",inplace = True)\n",
    "egress_df.drop_duplicates(subset =\"ID\",inplace = True)"
   ]
  },
  {
   "cell_type": "code",
   "execution_count": 37,
   "metadata": {},
   "outputs": [],
   "source": [
    "def map_age():\n",
    "    age_mapping = {\n",
    "    \"18-25 yrs\": 21.5,\n",
    "    '> 60 yrs ':65,\n",
    "    '36-45yrs ':40, \n",
    "    '36-45 yrs ':40, \n",
    "    '18-25 yrs ':22,\n",
    "    '26-35 yrs ':30,\n",
    "    '18-25yrs ':22,\n",
    "    '26-35yrs ':30, \n",
    "    '46-60 yrs ':54,\n",
    "      '46-60yrs ':54\n",
    "    }\n",
    "\n",
    "# Map the 'AGE' column to average values\n",
    "    access_df['AGE'] = access_df['AGE'].map(age_mapping)\n",
    "    egress_df['AGE']=egress_df['AGE'].map(age_mapping)\n",
    "\n",
    "    return access_df,egress_df\n",
    "\n",
    "access_df,egress_df=map_age()"
   ]
  },
  {
   "cell_type": "code",
   "execution_count": 38,
   "metadata": {},
   "outputs": [],
   "source": [
    "# convert 2 in RENT_BICYCLE to 4 and 3 to 1 in access_df dataframe\n",
    "access_df['RENT_BICYCLE'] = access_df['RENT_BICYCLE'].replace({4: 2, 3: 1})\n",
    "\n",
    "# create a new column WORK where if O_TYPE or D_TYPE is work then it is 1 else 0\n",
    "access_df['WORK']=0\n",
    "access_df.loc[(access_df['O_TYPE']=='Work') | (access_df['D_TYPE']=='Work'),'WORK']=1\n",
    "\n",
    "access_df['MODE']=0\n",
    "\n",
    "\n",
    "access_df['DEN']=0\n",
    "access_df['DEN']=access_df['A_INTERSECTIONS']/access_df['A_DISTANCE_MAP']\n",
    "\n",
    "access_df=access_df[access_df['DEN']<60]\n",
    "\n",
    "access_df['UNO']=1\n",
    "\n",
    "access_df['INDEX']=range(len(access_df))\n",
    "\n",
    "# output columns ID, RENT_BICYCLE,MALE, ACCESS_SLOPE, A_SLOPE_TYPE, A_DISTANCE_MAP, A_TIME_MAP,O_TYPE,D_TYPE,ACCESS_MODE,AGE_C,N_BICYCLES,CARS,\n",
    "# TWO_WHEELER, OTHERS, A_INTERSECTINS from access_df dataframe to csv file\n",
    "access_df[['INDEX','ID', 'RENT_BICYCLE', 'MALE', 'ACCESS_SLOPE', 'A_SLOPE_TYPE', 'A_DISTANCE_MAP', 'A_TIME_MAP','O_TYPE','D_TYPE','ACCESS_MODE',\n",
    "           'AGE_C','N_BICYCLES','CARS','TWO_WHEELER','OTHERS','A_INTERSECTIONS','WORK','DEN','UNO']].to_csv(path+\"access_data_analysis.csv\",index=False)"
   ]
  },
  {
   "cell_type": "code",
   "execution_count": 39,
   "metadata": {},
   "outputs": [],
   "source": [
    "egress_df['RENT_BICYCLE']=egress_df['RENT_BICYCLE'].replace({4: 1, 3: 2})\n",
    "\n",
    "egress_df['WORK']=0\n",
    "egress_df.loc[(egress_df['O_TYPE']=='Work') | (egress_df['D_TYPE']=='Work'),'WORK']=1\n",
    "\n",
    "egress_df['DEN']=0\n",
    "egress_df['DEN']=egress_df['A_INTERSECTIONS']/egress_df['E_DISTANCE_MAP']\n",
    "\n",
    "egress_df=egress_df[egress_df['DEN']<60]\n",
    "\n",
    "egress_df['UNO']=1\n",
    "\n",
    "egress_df['INDEX']=range(len(access_df),len(access_df)+len(egress_df))\n",
    "# output columns ID, RENT_BICYCLE,MALE, EGRESS_SLOPE, E_SLOPE_TYPE, E_DISTANCE_MAP, \n",
    "# E_TIME_MAP,O_TYPE,D_TYPE,EGRESS_MODE,AGE_C,N_BICYCLES,CARS,\n",
    "# TWO_WHEELER, OTHERS, A_INTERSECTINS from access_df dataframe to csv file\n",
    "egress_df[['INDEX','ID', 'RENT_BICYCLE','MALE', 'EGRESS_SLOPE', 'E_SLOPE_TYPE', 'E_DISTANCE_MAP', \n",
    "           'E_TIME_MAP','O_TYPE','D_TYPE','EGRESS_MODE','AGE_C','N_BICYCLES','CARS','WORK','DEN','UNO']].to_csv(path+\"egress_data_analysis.csv\",index=True)"
   ]
  },
  {
   "cell_type": "code",
   "execution_count": 40,
   "metadata": {},
   "outputs": [],
   "source": [
    "# make the value of RENT_BICYCLE as 1 when it is 2 and 2 when it is 1\n",
    "egress_df['RENT_BICYCLE']=egress_df['RENT_BICYCLE'].replace({2: 1, 1: 2})\n",
    "\n",
    "# rename some columns in both dataframes\n",
    "access_df.rename(columns={'A_INTERSECTIONS':'INTERSECTIONS','A_DISTANCE_MAP':'DISTANCE_MAP','A_TIME_MAP':'TIME_MAP','ACCESS_SLOPE':'SLOPE',\n",
    "                          'ACCESS_MODE':'MODE','A_SLOPE_TYPE':'SLOPE_TYPE',}\n",
    "                 ,inplace=True)\n",
    "\n",
    "egress_df.rename(columns={'A_INTERSECTIONS':'INTERSECTIONS','E_DISTANCE_MAP':'DISTANCE_MAP','E_TIME_MAP':'TIME_MAP','EGRESS_SLOPE':'SLOPE',\n",
    "                            'EGRESS_MODE':'MODE','E_SLOPE_TYPE':'SLOPE_TYPE',}\n",
    "                    ,inplace=True)\n",
    "\n",
    "\n"
   ]
  },
  {
   "cell_type": "code",
   "execution_count": 41,
   "metadata": {},
   "outputs": [],
   "source": [
    "# df=pd.concat([access_df,egress_df])"
   ]
  },
  {
   "cell_type": "code",
   "execution_count": 42,
   "metadata": {},
   "outputs": [
    {
     "data": {
      "text/plain": [
       "Index(['INDEX', 'ID', 'RENT_BICYCLE', 'MALE', 'SLOPE', 'SLOPE_TYPE',\n",
       "       'DISTANCE_MAP', 'TIME_MAP', 'O_TYPE', 'D_TYPE', 'MODE', 'AGE_C',\n",
       "       'N_BICYCLES', 'CARS', 'WORK', 'DEN', 'UNO', 'POS', 'NEG', 'OLD', 'UP',\n",
       "       'DOWN', 'FLAT', 'LOW', 'MEDIUM', 'HIGH'],\n",
       "      dtype='object')"
      ]
     },
     "execution_count": 42,
     "metadata": {},
     "output_type": "execute_result"
    }
   ],
   "source": [
    "df.columns"
   ]
  },
  {
   "cell_type": "code",
   "execution_count": 44,
   "metadata": {},
   "outputs": [],
   "source": [
    "df['INDEX']=df.index+1\n",
    "\n",
    "df[['INDEX','ID', 'RENT_BICYCLE','MALE', 'SLOPE', 'SLOPE_TYPE', 'DISTANCE_MAP', \n",
    "           'TIME_MAP','O_TYPE','D_TYPE','MODE','AGE_C','N_BICYCLES','CARS','WORK','DEN','UNO']]\n",
    "\n",
    "df=pd.read_csv(path+\"data_analysis.csv\")\n",
    "\n",
    "df['UP']=0\n",
    "df['DOWN']=0\n",
    "df['FLAT']=0\n",
    "\n",
    "# if SLOPE is positive then make POS as 1 else 0\n",
    "df.loc[df['SLOPE']>1,'UP']=1\n",
    "df.loc[df['SLOPE']<-1,'DOWN']=1\n",
    "df.loc[(df['SLOPE']>=-1) & (df['SLOPE']<=1),'FLAT']=1\n",
    "\n",
    "\n",
    "df['OLD']=0\n",
    "\n",
    "df.loc[df['AGE_C']>2,'OLD']=1\n",
    "\n",
    "df.to_csv(path+\"data_analysis.csv\",index=False)"
   ]
  },
  {
   "cell_type": "code",
   "execution_count": 45,
   "metadata": {},
   "outputs": [
    {
     "data": {
      "text/plain": [
       "(99, 26)"
      ]
     },
     "execution_count": 45,
     "metadata": {},
     "output_type": "execute_result"
    }
   ],
   "source": [
    "# check the number of rows of df where SLOPE is greater than 2\n",
    "df[df['SLOPE']<=-2].shape"
   ]
  },
  {
   "cell_type": "code",
   "execution_count": 46,
   "metadata": {},
   "outputs": [],
   "source": [
    "df['LOW']=0\n",
    "df['MEDIUM']=0\n",
    "df['HIGH']=0\n",
    "\n",
    "# if DISTANCE_MAP is less than 1 then make LOW as 1\n",
    "df.loc[df['DISTANCE_MAP']<1,'LOW']=1\n",
    "# if DISTANCE_MAP is greater than 1 and less than 3 then make MEDIUM 1\n",
    "df.loc[(df['DISTANCE_MAP']>=1) & (df['DISTANCE_MAP']<3),'MEDIUM']=1\n",
    "# if DISTANCE_MAP is greater than 3 then make HIGH as 1\n",
    "df.loc[df['DISTANCE_MAP']>=3,'HIGH']=1"
   ]
  },
  {
   "cell_type": "code",
   "execution_count": 47,
   "metadata": {},
   "outputs": [],
   "source": [
    "df.to_csv(path+\"data_analysis.csv\",index=False)"
   ]
  }
 ],
 "metadata": {
  "kernelspec": {
   "display_name": "Python 3",
   "language": "python",
   "name": "python3"
  },
  "language_info": {
   "codemirror_mode": {
    "name": "ipython",
    "version": 3
   },
   "file_extension": ".py",
   "mimetype": "text/x-python",
   "name": "python",
   "nbconvert_exporter": "python",
   "pygments_lexer": "ipython3",
   "version": "3.11.2"
  }
 },
 "nbformat": 4,
 "nbformat_minor": 2
}
