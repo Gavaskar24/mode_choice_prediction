{
 "cells": [
  {
   "cell_type": "code",
   "execution_count": 52,
   "metadata": {},
   "outputs": [],
   "source": [
    "import numpy as np\n",
    "import pandas as pd\n",
    "import seaborn as sns"
   ]
  },
  {
   "cell_type": "code",
   "execution_count": 53,
   "metadata": {},
   "outputs": [],
   "source": [
    "path = r\"E:\\Metro1\\artifacts\\\\\"\n",
    "\n",
    "access_df=pd.read_csv(path+\"access_data.csv\")\n",
    "egress_df=pd.read_csv(path+\"egress_data.csv\")\n",
    "\n"
   ]
  },
  {
   "cell_type": "code",
   "execution_count": 54,
   "metadata": {},
   "outputs": [
    {
     "name": "stdout",
     "output_type": "stream",
     "text": [
      "(831, 76) (715, 76)\n",
      "RENT_BICYCLE\n",
      "4    388\n",
      "3    233\n",
      "1    161\n",
      "2     49\n",
      "Name: count, dtype: int64\n",
      "RENT_BICYCLE\n",
      "2    437\n",
      "1    394\n",
      "Name: count, dtype: int64\n"
     ]
    }
   ],
   "source": [
    "# remove duplicate rows with same id column from dataframe\n",
    "access_df.drop_duplicates(subset =\"ID\",inplace = True)\n",
    "egress_df.drop_duplicates(subset =\"ID\",inplace = True)\n",
    "\n",
    "print(access_df.shape,egress_df.shape)\n",
    "\n",
    "# print(access_df.shape,egress_df.shape)\n",
    "old_counts=access_df['RENT_BICYCLE'].value_counts()\n",
    "print(old_counts)\n",
    "\n",
    "replacement_mapping = {4: 2, 3: 1}\n",
    "access_df['RENT_BICYCLE'] = access_df['RENT_BICYCLE'].replace(replacement_mapping)\n",
    "new_counts = access_df['RENT_BICYCLE'].value_counts()\n",
    "print(new_counts)\n",
    "\n"
   ]
  },
  {
   "cell_type": "code",
   "execution_count": 55,
   "metadata": {},
   "outputs": [],
   "source": [
    "dict={'Walk ':'Walk', 'Auto Rickshaw ':'Ride hire', 'Dropped-off by friends/others ':'Ride hire',\n",
    "       'Two-Wheeler ':'Personal vehicle', 'Ola/Uber car ':'Personal vehicle', 'Bicycle ':'Personal vehicle', 'Car ':'Personal vehicle',\n",
    "       'Rapido/Uber moto/Ola App two-wheeler ':'Ride hire', 'Shuttle':'Ride hire',\n",
    "       'Rapido/uber moto/Ola App two-wheeler ':'Ride hire', 'Uber auto ':'Ride hire',\n",
    "       'Company shuttle':'Ride hire', 'Office metro feeder':'Ride hire',\n",
    "       'Dropped-off by friends/family members/others ':'Ride hire',\n",
    "       'Drove and parked a two-Wheeler ':'Personal vehicle', 'Drove and parked a car ':'Personal vehicle',\n",
    "       'Friends two wheeler':'Personal vehicle'}\n",
    "\n",
    "access_df['ACCESS_MODE']=access_df['ACCESS_MODE'].map(dict)"
   ]
  },
  {
   "cell_type": "code",
   "execution_count": 56,
   "metadata": {},
   "outputs": [
    {
     "name": "stdout",
     "output_type": "stream",
     "text": [
      "AGE_C\n",
      "1    660\n",
      "2    108\n",
      "3     63\n",
      "Name: count, dtype: int64 AGE_C\n",
      "1    577\n",
      "2     81\n",
      "3     57\n",
      "Name: count, dtype: int64\n"
     ]
    }
   ],
   "source": [
    "access_df['AGE'].unique()\n",
    "\n",
    "age_mapper={'> 60 yrs ':3, '18-25 yrs ':1, '26-35 yrs ':1, '18-25yrs ':1, '26-35yrs ':1,\n",
    "       '46-60 yrs ':3, '36-45 yrs ':2, '36-45yrs ':2,'46-60yrs ':3,'> 60 yrs ':3, '18-25 yrs ':1, '26-35 yrs ':1, '26-35yrs ':1, '18-25yrs ':1,\n",
    "       '46-60 yrs ':3, '36-45 yrs ':2, '36-45yrs ':2, '46-60yrs ':3}\n",
    "access_df['AGE_C']=access_df['AGE'].map(age_mapper)\n",
    "egress_df['AGE_C']=egress_df['AGE'].map(age_mapper)\n",
    "\n",
    "print(access_df['AGE_C'].value_counts(),egress_df['AGE_C'].value_counts())\n",
    "\n",
    "access_df['AGE1']=0\n",
    "access_df['AGE2']=0\n",
    "access_df['AGE3']=0\n",
    "\n",
    "# if AGE_C is 1 then AGE1 is 1\n",
    "access_df.loc[access_df['AGE_C']==1,'AGE1']=1\n",
    "# if AGE_C is 2 then AGE2 is 1\n",
    "access_df.loc[access_df['AGE_C']==2,'AGE2']=1\n",
    "# if AGE_C is 3 then AGE3 is 1\n",
    "access_df.loc[access_df['AGE_C']==3,'AGE3']=1"
   ]
  },
  {
   "cell_type": "code",
   "execution_count": 57,
   "metadata": {},
   "outputs": [],
   "source": [
    "access_df.columns\n",
    "\n",
    "# rename few columns\n",
    "access_df.rename(columns = {'A_DISTANCE_MAP':'DISTANCE', 'A_TIME_MAP':'TIME','ACCESS_SLOPE':'SLOPE',\n",
    "                            'E_SLOPE_TYPE':'SLOPE_TYPE'}, inplace = True)"
   ]
  },
  {
   "cell_type": "code",
   "execution_count": 58,
   "metadata": {},
   "outputs": [],
   "source": [
    "access_df['UP']=0\n",
    "access_df['DOWN']=0\n",
    "access_df['FLAT']=0\n",
    "\n",
    "# if SLOPE is positive then make POS as 1 else 0\n",
    "access_df.loc[access_df['SLOPE']>1,'UP']=1\n",
    "access_df.loc[access_df['SLOPE']<-1,'DOWN']=1\n",
    "access_df.loc[(access_df['SLOPE']>=-1) & (access_df['SLOPE']<=1),'FLAT']=1\n",
    "\n",
    "access_df['VEH']=0\n",
    "\n",
    "access_df['POS']=0\n",
    "\n",
    "# if slope is greater than 0 then POS is 1 else 0\n",
    "access_df.loc[access_df['SLOPE']>0,'POS']=1\n",
    "\n",
    "# if CARS or TWO_WHEELER is greater than 1 then mark VEH as 1 else 0\n",
    "access_df.loc[(access_df['CARS']>1) | (access_df['TWO_WHEELER']>1),'VEH']=1\n",
    "\n",
    "\n",
    "access_df['SHORT']=0\n",
    "access_df['MEDIUM']=0\n",
    "access_df['LONG']=0\n",
    "\n",
    "# if DISTANCE_MAP is less than 1 then make LOW as 1\n",
    "access_df.loc[access_df['DISTANCE']<1,'SHORT']=1\n",
    "# if DISTANCE_MAP is greater than 1 and less than 3 then make MEDIUM 1\n",
    "access_df.loc[(access_df['DISTANCE']>=1) & (access_df['DISTANCE']<3),'MEDIUM']=1\n",
    "# if DISTANCE_MAP is greater than 3 then make HIGH as 1\n",
    "access_df.loc[access_df['DISTANCE']>=3,'LONG']=1\n"
   ]
  },
  {
   "cell_type": "code",
   "execution_count": 59,
   "metadata": {},
   "outputs": [],
   "source": [
    "# convert 2 in RENT_BICYCLE to 4 and 3 to 1 in access_df dataframe\n",
    "access_df['RENT_BICYCLE'] = access_df['RENT_BICYCLE'].replace({4: 2, 3: 1})\n",
    "\n",
    "# create a new column WORK where if O_TYPE or D_TYPE is work then it is 1 else 0\n",
    "access_df['WORK']=0\n",
    "access_df.loc[(access_df['O_TYPE']=='Work') | (access_df['D_TYPE']=='Work'),'WORK']=1\n",
    "\n",
    "access_df['MODE']=0\n",
    "\n",
    "\n",
    "# access_df['DEN']=0\n",
    "# access_df['DEN']=access_df['A_INTERSECTIONS']/access_df['DISTANCE']\n",
    "\n",
    "# access_df=access_df[access_df['DEN']<30]\n",
    "\n",
    "access_df['UNO']=1\n",
    "\n",
    "# access_df['HIGH']=0\n",
    "# access_df['MED']=0\n",
    "\n",
    "# if DEN is greater than 66 percentile of data of DEN then HIGH is 1 for that entry\n",
    "# if DEN is between 33 and 66 percentiles of data of DEN then MED is 1 for that entry \n",
    "# access_df.loc[access_df['DEN']>access_df['DEN'].quantile(0.66),'HIGH']=1\n",
    "# access_df.loc[(access_df['DEN']<=access_df['DEN'].quantile(0.66)) & (access_df['DEN']>access_df['DEN'].quantile(0.33)),'MED']=1\n",
    "\n",
    "access_df['DIST1']=0\n",
    "access_df['DIST2']=0\n",
    "access_df['DIST3']=0\n",
    "access_df['DIST4']=0\n",
    "\n",
    "access_df.loc[access_df['DISTANCE']<1,'DIST1']=1\n",
    "access_df.loc[(access_df['DISTANCE']>=1) & (access_df['DISTANCE']<3),'DIST2']=1\n",
    "access_df.loc[(access_df['DISTANCE']>=3) & (access_df['DISTANCE']<4),'DIST3']=1\n",
    "access_df.loc[(access_df['DISTANCE']>=4),'DIST4']=1\n",
    "\n",
    "access_df['pop_high']=0\n",
    "access_df['pop_med']=0\n",
    "access_df['pop_low']=0\n",
    "\n",
    "access_df.loc[access_df['population_density']>access_df['population_density'].quantile(0.66),'pop_high']=1\n",
    "access_df.loc[(access_df['population_density']<=access_df['population_density'].quantile(0.66)) & (access_df['population_density']>access_df['population_density'].quantile(0.33)),'pop_med']=1\n",
    "access_df.loc[access_df['population_density']<=access_df['population_density'].quantile(0.33),'pop_low']=1\n",
    "\n",
    "access_df['emp_high']=0\n",
    "access_df['emp_med']=0\n",
    "access_df['emp_low']=0\n",
    "\n",
    "access_df.loc[access_df['employment_density']>access_df['employment_density'].quantile(0.66),'emp_high']=1\n",
    "access_df.loc[(access_df['employment_density']<=access_df['employment_density'].quantile(0.66)) & (access_df['employment_density']>access_df['employment_density'].quantile(0.33)),'emp_med']=1\n",
    "access_df.loc[access_df['employment_density']<=access_df['employment_density'].quantile(0.33),'emp_low']=1\n",
    "\n",
    "\n",
    "# output columns ID, RENT_BICYCLE,MALE, ACCESS_SLOPE, A_SLOPE_TYPE, A_DISTANCE_MAP, A_TIME_MAP,O_TYPE,D_TYPE,ACCESS_MODE,AGE_C,N_BICYCLES,CARS,\n",
    "# TWO_WHEELER, OTHERS, A_INTERSECTINS from access_df dataframe to csv file\n",
    "access_df[['ID', 'RENT_BICYCLE', 'MALE', 'SLOPE', 'SLOPE_TYPE', 'DISTANCE', 'TIME','O_TYPE','D_TYPE','ACCESS_MODE',\n",
    "           'AGE1','AGE2','AGE3','VEH','WORK','UNO','SHORT','LONG','MEDIUM','UP','DOWN','POS','FLAT','DIST2',\n",
    "        'DIST1','DIST3','DIST4','PARK_RENT','pop_high','pop_med','pop_low','emp_high','emp_med','emp_low']].to_csv(path+\"access_data_analysis.csv\",index=False)"
   ]
  },
  {
   "cell_type": "code",
   "execution_count": 60,
   "metadata": {},
   "outputs": [
    {
     "name": "stdout",
     "output_type": "stream",
     "text": [
      "288\n",
      "213\n",
      "146\n",
      "69\n",
      "115\n"
     ]
    }
   ],
   "source": [
    "print(access_df[access_df['DISTANCE']<1].shape[0])\n",
    "print(access_df[(access_df['DISTANCE']>=1) & (access_df['DISTANCE']<2)].shape[0])\n",
    "print(access_df[(access_df['DISTANCE']>=2) & (access_df['DISTANCE']<3)].shape[0])\n",
    "print(access_df[(access_df['DISTANCE']>=3) & (access_df['DISTANCE']<4)].shape[0])\n",
    "print(access_df[(access_df['DISTANCE']>=4)].shape[0])"
   ]
  },
  {
   "cell_type": "code",
   "execution_count": 61,
   "metadata": {},
   "outputs": [],
   "source": [
    "# rename few columns\n",
    "egress_df.rename(columns = {'E_DISTANCE_MAP':'DISTANCE', 'E_TIME_MAP':'TIME','EGRESS_SLOPE':'SLOPE','A_INTERSECTIONS':'INTERSECTIONS'\n",
    "                            ,'E_SLOPE_TYPE':'SLOPE_TYPE'}, inplace = True)"
   ]
  },
  {
   "cell_type": "code",
   "execution_count": 62,
   "metadata": {},
   "outputs": [],
   "source": [
    "first_mapping = {2: 3, 3: 3, 1: 4, 4: 4}\n",
    "egress_df['RENT_BICYCLE'] = egress_df['RENT_BICYCLE'].replace(first_mapping)\n",
    "\n",
    "# Second mapping: intermediate values to final values\n",
    "second_mapping = {3: 1, 4: 2}\n",
    "egress_df['RENT_BICYCLE'] = egress_df['RENT_BICYCLE'].replace(second_mapping)\n",
    "\n",
    "# Verify the new counts\n",
    "new_counts = egress_df['RENT_BICYCLE'].value_counts()"
   ]
  },
  {
   "cell_type": "code",
   "execution_count": 63,
   "metadata": {},
   "outputs": [],
   "source": [
    "egress_df['UP']=0\n",
    "egress_df['DOWN']=0\n",
    "egress_df['FLAT']=0\n",
    "\n",
    "# if SLOPE is positive then make POS as 1 else 0\n",
    "egress_df.loc[egress_df['SLOPE']>1,'UP']=1\n",
    "egress_df.loc[egress_df['SLOPE']<-1,'DOWN']=1\n",
    "egress_df.loc[(egress_df['SLOPE']>=-1) & (egress_df['SLOPE']<=1),'FLAT']=1\n",
    "\n",
    "egress_df['VEH']=0\n",
    "\n",
    "egress_df['POS']=0\n",
    "\n",
    "# if slope is greater than 0 then POS is 1 else 0\n",
    "egress_df.loc[egress_df['SLOPE']>0,'POS']=1\n",
    "\n",
    "# if CARS or TWO_WHEELER is greater than 1 then mark VEH as 1 else 0\n",
    "egress_df.loc[(egress_df['CARS']>1) | (egress_df['TWO_WHEELER']>1),'VEH']=1\n",
    "\n",
    "\n",
    "egress_df['SHORT']=0\n",
    "egress_df['MEDIUM']=0\n",
    "egress_df['LONG']=0\n",
    "\n",
    "# if DISTANCE_MAP is less than 1 then make LOW as 1\n",
    "egress_df.loc[egress_df['DISTANCE']<1,'SHORT']=1\n",
    "# if DISTANCE_MAP is greater than 1 and less than 3 then make MEDIUM 1\n",
    "egress_df.loc[(egress_df['DISTANCE']>=1) & (egress_df['DISTANCE']<3),'MEDIUM']=1\n",
    "# if DISTANCE_MAP is greater than 3 then make HIGH as 1\n",
    "egress_df.loc[egress_df['DISTANCE']>=3,'LONG']=1\n",
    "\n",
    "\n",
    "egress_df['AGE1']=0\n",
    "egress_df['AGE2']=0\n",
    "egress_df['AGE3']=0 \n",
    "\n",
    "# if AGE_C is 1 then AGE1 is 1\n",
    "egress_df.loc[egress_df['AGE_C']==1,'AGE1']=1\n",
    "egress_df.loc[egress_df['AGE_C']==2,'AGE2']=1\n",
    "egress_df.loc[egress_df['AGE_C']==3,'AGE3']=1\n",
    "\n"
   ]
  },
  {
   "cell_type": "code",
   "execution_count": 64,
   "metadata": {},
   "outputs": [],
   "source": [
    "egress_df['WORK']=0\n",
    "egress_df.loc[(egress_df['O_TYPE']=='Work') | (egress_df['D_TYPE']=='Work'),'WORK']=1\n",
    "\n",
    "# egress_df['DEN']=0\n",
    "# egress_df['DEN']=egress_df['INTERSECTIONS']/egress_df['DISTANCE']\n",
    "\n",
    "# egress_df=egress_df[egress_df['DEN']<30]\n",
    "\n",
    "# egress_df['HIGH']=0\n",
    "# egress_df['MED']=0\n",
    "\n",
    "# if DEN is greater than 66 percentile of data of DEN then HIGH is 1 for that entry\n",
    "# if DEN is between 33 and 66 percentiles of data of DEN then MED is 1 for that entry\n",
    "# egress_df.loc[egress_df['DEN']>egress_df['DEN'].quantile(0.66),'HIGH']=1\n",
    "# egress_df.loc[(egress_df['DEN']<=egress_df['DEN'].quantile(0.66)) & (egress_df['DEN']>egress_df['DEN'].quantile(0.33)),'MED']=1\n",
    "\n",
    "egress_df['UNO']=1\n",
    "\n",
    "egress_df['FAV']=1\n",
    "egress_df.loc[(egress_df['SLOPE_TYPE']=='rise') | (egress_df['SLOPE_TYPE']=='mixed')| (egress_df['SLOPE_TYPE']=='hydrograph'),'FAV']=0\n",
    "\n",
    "egress_df['DIST1']=0\n",
    "egress_df['DIST2']=0\n",
    "egress_df['DIST3']=0\n",
    "egress_df['DIST4']=0\n",
    "\n",
    "egress_df.loc[egress_df['DISTANCE']<1,'DIST1']=1\n",
    "egress_df.loc[(egress_df['DISTANCE']>=1) & (egress_df['DISTANCE']<2),'DIST2']=1\n",
    "egress_df.loc[(egress_df['DISTANCE']>=2) & (egress_df['DISTANCE']<4),'DIST3']=1\n",
    "egress_df.loc[(egress_df['DISTANCE']>=4),'DIST4']=1\n",
    "\n",
    "\n",
    "\n",
    "egress_df[['ID', 'RENT_BICYCLE','MALE', 'SLOPE', 'SLOPE_TYPE', 'DISTANCE', 'AGE1','AGE2','AGE3',\n",
    "           'TIME','O_TYPE','D_TYPE','EGRESS_MODE','VEH','INTERSECTIONS','WORK','UNO',\n",
    "           'UP','DOWN','FLAT','LONG','SHORT','MEDIUM','FAV','DIST1','DIST2','DIST3','DIST4','PARK_RENT']].to_csv(path+\"egress_data_analysis.csv\",index=True)"
   ]
  },
  {
   "cell_type": "code",
   "execution_count": 65,
   "metadata": {},
   "outputs": [
    {
     "name": "stdout",
     "output_type": "stream",
     "text": [
      "356\n",
      "176\n",
      "76\n",
      "26\n",
      "81\n"
     ]
    }
   ],
   "source": [
    "print(egress_df[egress_df['DISTANCE']<1].shape[0])\n",
    "print(egress_df[(egress_df['DISTANCE']>=1) & (egress_df['DISTANCE']<2)].shape[0])\n",
    "print(egress_df[(egress_df['DISTANCE']>=2) & (egress_df['DISTANCE']<3)].shape[0])\n",
    "print(egress_df[(egress_df['DISTANCE']>=3) & (egress_df['DISTANCE']<4)].shape[0])\n",
    "print(egress_df[(egress_df['DISTANCE']>=4)].shape[0])"
   ]
  }
 ],
 "metadata": {
  "kernelspec": {
   "display_name": "Python 3",
   "language": "python",
   "name": "python3"
  },
  "language_info": {
   "codemirror_mode": {
    "name": "ipython",
    "version": 3
   },
   "file_extension": ".py",
   "mimetype": "text/x-python",
   "name": "python",
   "nbconvert_exporter": "python",
   "pygments_lexer": "ipython3",
   "version": "3.11.2"
  }
 },
 "nbformat": 4,
 "nbformat_minor": 2
}
