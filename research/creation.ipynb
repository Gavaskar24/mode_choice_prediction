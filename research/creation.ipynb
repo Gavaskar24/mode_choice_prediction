{
 "cells": [
  {
   "cell_type": "code",
   "execution_count": 120,
   "metadata": {},
   "outputs": [],
   "source": [
    "import numpy as np\n",
    "import pandas as pd\n",
    "import seaborn as sns"
   ]
  },
  {
   "cell_type": "code",
   "execution_count": 121,
   "metadata": {},
   "outputs": [],
   "source": [
    "path = r\"E:\\Metro1\\\\\"\n",
    "\n",
    "access_df=pd.read_csv(path+\"access_data.csv\")\n",
    "egress_df=pd.read_csv(path+\"egress_data.csv\")\n",
    "\n"
   ]
  },
  {
   "cell_type": "code",
   "execution_count": 122,
   "metadata": {},
   "outputs": [
    {
     "data": {
      "text/plain": [
       "Index(['ID', 'ACCESS_SLOPE', 'O_LEVEL', 'OM_LEVEL', 'A_LEVEL_DIFF',\n",
       "       'A_SLOPE_TYPE', 'EGRESS_SLOPE', 'DM_LEVEL', 'D_LEVEL', 'E_LEVEL_DIFF',\n",
       "       'E_SLOPE_TYPE', 'M_ORIGIN', 'M_DESTINATION', 'D_LANDMARK', 'D_LAT',\n",
       "       'D_LONG', 'E_DISTANCE_MAP', 'E_TIME_MAP', 'D_TYPE', 'O_LANDMARK',\n",
       "       'O_LAT', 'O_LONG', 'A_DISTANCE_MAP', 'A_TIME_MAP', 'O_TYPE',\n",
       "       'START_TIME', 'TRIP_SEQUENCE', 'TOTAL_TIME', 'ACCESS_MODE',\n",
       "       'ACCESS_TIME', 'ACCESS_DISTANCE', 'WT_FS', 'EGRESS_MODE', 'EGRESS_TIME',\n",
       "       'EGRESS_DISTANCE', 'WT_FIS', 'BICYCLE_USE', 'TRANSFER_TIME',\n",
       "       'WAITING_TIME_SECOND_STOP', 'PASS', 'TOTAL_COST', 'CROWDING', 'GENDER',\n",
       "       'S_1', 'S_2', 'S_3', 'AGE', 'EDUCATION', 'OCCUPATION', 'INCOME', 'CARS',\n",
       "       'TWO_WHEELER', 'N_BICYCLES', 'OTHERS', 'PARKING', 'PARK_RENT', 'PARK',\n",
       "       'DESTINATION', 'ORIGIN', 'TRIP', 'AGE_C', 'ACCESS_DIS', 'EGRESS_DIS',\n",
       "       'RENT_BICYCLE', 'MALE', 'ACCESS_M', 'EGRESS_M', 'ACCESS_DIS_B',\n",
       "       'EGRESS_DIS_B', 'VEHICLE', 'M_ORIGIN_LAT', 'M_ORIGIN_LONG', 'POLYLINE',\n",
       "       'A_INTERSECTIONS', 'O_POP_DEN', 'O_EMP_DEN', 'M_POP_DEN', 'M_EMP_DEN'],\n",
       "      dtype='object')"
      ]
     },
     "execution_count": 122,
     "metadata": {},
     "output_type": "execute_result"
    }
   ],
   "source": [
    "access_df.columns"
   ]
  },
  {
   "cell_type": "code",
   "execution_count": 123,
   "metadata": {},
   "outputs": [],
   "source": [
    "access_df.shape[0]\n",
    "\n",
    "# drop duplicate entries with same ID\n",
    "access_df.drop_duplicates(subset=['ID'], inplace=True)"
   ]
  },
  {
   "cell_type": "code",
   "execution_count": 124,
   "metadata": {},
   "outputs": [],
   "source": [
    "trip_types = {\n",
    "    'Home based work': [('Home', 'Work'), ('Work', 'Home')],\n",
    "    'Home based education': [('Home', 'School'), ('School', 'Home')],\n",
    "    'Home based other': [('Home', 'Other'), ('Other', 'Home'),('Home',  'Restaurant'), ( 'Restaurant', 'Home'),\n",
    "                         ('Home', 'Shopping'), ('Shopping', 'Home'),('Home', 'Social'), ('Social', 'Home'),\n",
    "                         ('Home', 'Friend'), ('Friend', 'Home'),],\n",
    "}\n"
   ]
  },
  {
   "cell_type": "code",
   "execution_count": 125,
   "metadata": {},
   "outputs": [
    {
     "name": "stdout",
     "output_type": "stream",
     "text": [
      "+-------+----------------------+------------+-------------+-------------+------------------+-----------+\n",
      "| Sl No |     Type of trip     |   Origin   | Destination | No of trips | %(type of trips) | %OD based |\n",
      "+-------+----------------------+------------+-------------+-------------+------------------+-----------+\n",
      "|   1   | Home based education |            |             |     141     |      16.97       |           |\n",
      "|       |                      |    Home    |    School   |      73     |                  |    8.78   |\n",
      "|       |                      |   School   |     Home    |      68     |                  |    8.18   |\n",
      "+-------+----------------------+------------+-------------+-------------+------------------+-----------+\n",
      "|   2   |   Home based other   |            |             |     272     |      32.73       |           |\n",
      "|       |                      |    Home    |    Other    |      46     |                  |    5.54   |\n",
      "|       |                      |   Other    |     Home    |      16     |                  |    1.93   |\n",
      "|       |                      |    Home    |  Restaurant |      7      |                  |    0.84   |\n",
      "|       |                      | Restaurant |     Home    |      9      |                  |    1.08   |\n",
      "|       |                      |    Home    |   Shopping  |      64     |                  |    7.7    |\n",
      "|       |                      |  Shopping  |     Home    |      30     |                  |    3.61   |\n",
      "|       |                      |    Home    |    Social   |      23     |                  |    2.77   |\n",
      "|       |                      |   Social   |     Home    |      17     |                  |    2.05   |\n",
      "|       |                      |    Home    |    Friend   |      45     |                  |    5.42   |\n",
      "|       |                      |   Friend   |     Home    |      15     |                  |    1.81   |\n",
      "+-------+----------------------+------------+-------------+-------------+------------------+-----------+\n",
      "|   3   |   Home based work    |            |             |     293     |      35.26       |           |\n",
      "|       |                      |    Home    |     Work    |     216     |                  |   25.99   |\n",
      "|       |                      |    Work    |     Home    |      77     |                  |    9.27   |\n",
      "+-------+----------------------+------------+-------------+-------------+------------------+-----------+\n",
      "|   4   |    Non home based    |            |             |     125     |      15.04       |           |\n",
      "|       |                      |  Non home  |   Non home  |     125     |                  |   15.04   |\n",
      "+-------+----------------------+------------+-------------+-------------+------------------+-----------+\n"
     ]
    }
   ],
   "source": [
    "df=access_df.copy()\n",
    "all_trips = set((row['O_TYPE'], row['D_TYPE']) for _, row in df.iterrows())\n",
    "categorized_trips = set(trip for trips in trip_types.values() for trip in trips)\n",
    "non_home_based_trips = all_trips - categorized_trips\n",
    "trip_types['Non home based'] = list(non_home_based_trips)\n",
    "\n",
    "# Calculate the number of trips and percentages\n",
    "results = []\n",
    "trip_totals = {}\n",
    "trip_percentages = {}\n",
    "\n",
    "for trip_type, pairs in trip_types.items():\n",
    "    if trip_type == 'Non home based':\n",
    "        total_trips = sum(len(df[(df['O_TYPE'] == origin) & (df['D_TYPE'] == destination)]) for origin, destination in non_home_based_trips)\n",
    "        trip_totals[trip_type] = total_trips\n",
    "        trip_percentage = total_trips / len(df) * 100 if len(df) > 0 else 0\n",
    "        trip_percentages[trip_type] = round(trip_percentage,2)\n",
    "        results.append([trip_type, 'Non home', 'Non home', total_trips])\n",
    "    else:\n",
    "        total_trips = sum(len(df[(df['O_TYPE'] == origin) & (df['D_TYPE'] == destination)]) for origin, destination in pairs)\n",
    "        trip_totals[trip_type] = total_trips\n",
    "        trip_percentage = total_trips / len(df) * 100 if len(df) > 0 else 0\n",
    "        trip_percentages[trip_type] = trip_percentage\n",
    "        for origin, destination in pairs:\n",
    "            trip_count = len(df[(df['O_TYPE'] == origin) & (df['D_TYPE'] == destination)])\n",
    "            results.append([trip_type, origin, destination, trip_count])\n",
    "\n",
    "# Convert results to DataFrame\n",
    "results_df = pd.DataFrame(results, columns=['Type of trip', 'Origin', 'Destination', 'No of trips'])\n",
    "\n",
    "# Calculate %OD based\n",
    "total_trips = len(df)\n",
    "results_df['%OD based'] = round(results_df['No of trips'] / total_trips * 100,2)\n",
    "\n",
    "# Adding Sl No\n",
    "results_df.insert(0, 'Sl No', range(1, len(results_df) + 1))\n",
    "\n",
    "# Grouping by 'Type of trip'\n",
    "grouped_df = results_df.groupby('Type of trip')\n",
    "\n",
    "# Function to create a table with solid lines and centered text\n",
    "def print_solid_table(df, trip_totals, trip_percentages):\n",
    "    header = [\"Sl No\", \"Type of trip\", \"Origin\", \"Destination\", \"No of trips\", \"%(type of trips)\", \"%OD based\"]\n",
    "    max_len = {col: max(df[col].astype(str).map(len).max(), len(col)) if col in df else len(col) for col in header}\n",
    "    \n",
    "    def draw_line():\n",
    "        line = \"+\"\n",
    "        for col in header:\n",
    "            line += \"-\" * (max_len[col] + 2) + \"+\"\n",
    "        print(line)\n",
    "\n",
    "    def draw_row(row, show_type, show_sl_no, show_percentage):\n",
    "        line = \"|\"\n",
    "        for col in header:\n",
    "            if col == \"Type of trip\" and not show_type:\n",
    "                line += \" \" * (max_len[col] + 2) + \"|\"\n",
    "            elif col == \"Sl No\" and not show_sl_no:\n",
    "                line += \" \" * (max_len[col] + 2) + \"|\"\n",
    "            elif col == \"%(type of trips)\" and not show_percentage:\n",
    "                line += \" \" * (max_len[col] + 2) + \"|\"\n",
    "            else:\n",
    "                line += \" \" + str(row[col]).center(max_len[col]) + \" |\"\n",
    "        print(line)\n",
    "\n",
    "    def draw_merged_row(index, label, count, percentage):\n",
    "        sl_no = str(index)\n",
    "        line = \"| \" + sl_no.center(max_len[\"Sl No\"]) + \" | \" + label.center(max_len[\"Type of trip\"]) + \" |\"\n",
    "        line += \" \" * (max_len[\"Origin\"] + 2) + \"|\"\n",
    "        line += \" \" * (max_len[\"Destination\"] + 2) + \"|\"\n",
    "        line += str(count).center(max_len[\"No of trips\"] + 2) + \"|\"\n",
    "        line += str(round(percentage, 2)).center(max_len[\"%(type of trips)\"] + 2) + \"|\"\n",
    "        line += \" \" * (max_len[\"%OD based\"] + 2) + \"|\"\n",
    "        print(line)\n",
    "\n",
    "    draw_line()\n",
    "    draw_row({col: col for col in header}, True, True, True)\n",
    "    draw_line()\n",
    "    \n",
    "    sl_no = 1\n",
    "    for trip_type, group in grouped_df:\n",
    "        draw_merged_row(sl_no, trip_type, trip_totals[trip_type], trip_percentages[trip_type])\n",
    "        type_trip_count = len(group)\n",
    "        for i, (_, row) in enumerate(group.iterrows()):\n",
    "            show_type = i < 0\n",
    "            show_sl_no = i == -1\n",
    "            draw_row(row, show_type, show_sl_no, False)\n",
    "            type_trip_count -= 1\n",
    "        draw_line()\n",
    "        sl_no += 1\n",
    "\n",
    "# Print the final table\n",
    "print_solid_table(results_df, trip_totals, trip_percentages)\n",
    "\n",
    "# Print the total number of samples\n",
    "# print(f\"\\nTotal number of samples: {total_trips}\")"
   ]
  },
  {
   "cell_type": "code",
   "execution_count": 126,
   "metadata": {},
   "outputs": [
    {
     "name": "stdout",
     "output_type": "stream",
     "text": [
      "(831, 78) (711, 86)\n",
      "RENT_BICYCLE\n",
      "4    388\n",
      "3    233\n",
      "1    161\n",
      "2     49\n",
      "Name: count, dtype: int64\n",
      "RENT_BICYCLE\n",
      "2    437\n",
      "1    394\n",
      "Name: count, dtype: int64\n"
     ]
    }
   ],
   "source": [
    "# remove duplicate rows with same id column from dataframe\n",
    "access_df.drop_duplicates(subset =\"ID\",inplace = True)\n",
    "egress_df.drop_duplicates(subset =\"ID\",inplace = True)\n",
    "\n",
    "print(access_df.shape,egress_df.shape)\n",
    "\n",
    "# print(access_df.shape,egress_df.shape)\n",
    "old_counts=access_df['RENT_BICYCLE'].value_counts()\n",
    "print(old_counts)\n",
    "\n",
    "replacement_mapping = {4: 2, 3: 1}\n",
    "access_df['RENT_BICYCLE'] = access_df['RENT_BICYCLE'].replace(replacement_mapping)\n",
    "new_counts = access_df['RENT_BICYCLE'].value_counts()\n",
    "print(new_counts)\n",
    "\n"
   ]
  },
  {
   "cell_type": "code",
   "execution_count": 127,
   "metadata": {},
   "outputs": [],
   "source": [
    "dict={'Walk ':'Walk', 'Auto Rickshaw ':'Ride hire', 'Dropped-off by friends/others ':'Ride hire',\n",
    "       'Two-Wheeler ':'Personal vehicle', 'Ola/Uber car ':'Personal vehicle', 'Bicycle ':'Personal vehicle', 'Car ':'Personal vehicle',\n",
    "       'Rapido/Uber moto/Ola App two-wheeler ':'Ride hire', 'Shuttle':'Ride hire',\n",
    "       'Rapido/uber moto/Ola App two-wheeler ':'Ride hire', 'Uber auto ':'Ride hire',\n",
    "       'Company shuttle':'Ride hire', 'Office metro feeder':'Ride hire',\n",
    "       'Dropped-off by friends/family members/others ':'Ride hire',\n",
    "       'Drove and parked a two-Wheeler ':'Personal vehicle', 'Drove and parked a car ':'Personal vehicle',\n",
    "       'Friends two wheeler':'Personal vehicle'}\n",
    "\n",
    "access_df['ACCESS_MODE']=access_df['ACCESS_MODE'].map(dict)"
   ]
  },
  {
   "cell_type": "code",
   "execution_count": 128,
   "metadata": {},
   "outputs": [
    {
     "name": "stdout",
     "output_type": "stream",
     "text": [
      "AGE_C\n",
      "1    660\n",
      "2    108\n",
      "3     63\n",
      "Name: count, dtype: int64 Series([], Name: count, dtype: int64)\n"
     ]
    }
   ],
   "source": [
    "access_df['AGE'].unique()\n",
    "\n",
    "age_mapper={'> 60 yrs ':3, '18-25 yrs ':1, '26-35 yrs ':1, '18-25yrs ':1, '26-35yrs ':1,\n",
    "       '46-60 yrs ':3, '36-45 yrs ':2, '36-45yrs ':2,'46-60yrs ':3,'> 60 yrs ':3, '18-25 yrs ':1, '26-35 yrs ':1, '26-35yrs ':1, '18-25yrs ':1,\n",
    "       '46-60 yrs ':3, '36-45 yrs ':2, '36-45yrs ':2, '46-60yrs ':3}\n",
    "access_df['AGE_C']=access_df['AGE'].map(age_mapper)\n",
    "egress_df['AGE_C']=egress_df['17'].map(age_mapper)\n",
    "\n",
    "print(access_df['AGE_C'].value_counts(),egress_df['AGE_C'].value_counts())\n",
    "\n",
    "access_df['AGE1']=0\n",
    "access_df['AGE2']=0\n",
    "access_df['AGE3']=0\n",
    "\n",
    "# if AGE_C is 1 then AGE1 is 1\n",
    "access_df.loc[access_df['AGE_C']==1,'AGE1']=1\n",
    "# if AGE_C is 2 then AGE2 is 1\n",
    "access_df.loc[access_df['AGE_C']==2,'AGE2']=1\n",
    "# if AGE_C is 3 then AGE3 is 1\n",
    "access_df.loc[access_df['AGE_C']==3,'AGE3']=1"
   ]
  },
  {
   "cell_type": "code",
   "execution_count": 129,
   "metadata": {},
   "outputs": [],
   "source": [
    "access_df.columns\n",
    "\n",
    "# rename few columns\n",
    "access_df.rename(columns = {'A_DISTANCE_MAP':'DISTANCE', 'A_TIME_MAP':'TIME','ACCESS_SLOPE':'SLOPE',\n",
    "                            'E_SLOPE_TYPE':'SLOPE_TYPE'}, inplace = True)"
   ]
  },
  {
   "cell_type": "code",
   "execution_count": 130,
   "metadata": {},
   "outputs": [
    {
     "name": "stdout",
     "output_type": "stream",
     "text": [
      "178\n",
      "284\n",
      "389\n"
     ]
    }
   ],
   "source": [
    "print(access_df[access_df['SLOPE']<-1].shape[0])\n",
    "print(access_df[access_df['SLOPE']>1].shape[0])\n",
    "print(access_df.shape[0]-276-166)"
   ]
  },
  {
   "cell_type": "code",
   "execution_count": 131,
   "metadata": {},
   "outputs": [],
   "source": [
    "access_df['UP']=0\n",
    "access_df['DOWN']=0\n",
    "access_df['FLAT']=0\n",
    "\n",
    "# if SLOPE is positive then make POS as 1 else 0\n",
    "access_df.loc[access_df['SLOPE']>1,'UP']=1\n",
    "access_df.loc[access_df['SLOPE']<-1,'DOWN']=1\n",
    "access_df.loc[(access_df['SLOPE']>=-1) & (access_df['SLOPE']<=1),'FLAT']=1\n",
    "\n",
    "access_df['VEH']=0\n",
    "\n",
    "access_df['POS']=0\n",
    "\n",
    "# if slope is greater than 0 then POS is 1 else 0\n",
    "access_df.loc[access_df['SLOPE']>0,'POS']=1\n",
    "\n",
    "# if CARS or TWO_WHEELER is greater than 1 then mark VEH as 1 else 0\n",
    "access_df.loc[(access_df['CARS']>1) | (access_df['TWO_WHEELER']>1),'VEH']=1\n",
    "\n",
    "\n",
    "access_df['SHORT']=0\n",
    "access_df['MEDIUM']=0\n",
    "access_df['LONG']=0\n",
    "\n",
    "# if DISTANCE_MAP is less than 1 then make LOW as 1\n",
    "access_df.loc[access_df['DISTANCE']<1,'SHORT']=1\n",
    "# if DISTANCE_MAP is greater than 1 and less than 3 then make MEDIUM 1\n",
    "access_df.loc[(access_df['DISTANCE']>=1) & (access_df['DISTANCE']<3),'MEDIUM']=1\n",
    "# if DISTANCE_MAP is greater than 3 then make HIGH as 1\n",
    "access_df.loc[access_df['DISTANCE']>=3,'LONG']=1\n",
    "\n",
    "access_df['O_POP_DEN']=access_df['O_POP_DEN']/10000\n",
    "access_df['O_EMP_DEN']=access_df['O_EMP_DEN']/10000\n",
    "access_df['M_POP_DEN']=access_df['M_POP_DEN']/10000\n",
    "access_df['M_EMP_DEN']=access_df['M_EMP_DEN']/10000\n",
    "\n",
    "\n"
   ]
  },
  {
   "cell_type": "code",
   "execution_count": 132,
   "metadata": {},
   "outputs": [],
   "source": [
    "# convert 2 in RENT_BICYCLE to 4 and 3 to 1 in access_df dataframe\n",
    "access_df['RENT_BICYCLE'] = access_df['RENT_BICYCLE'].replace({4: 2, 3: 1})\n",
    "\n",
    "# create a new column WORK where if O_TYPE or D_TYPE is work then it is 1 else 0\n",
    "access_df['WORK']=0\n",
    "access_df.loc[(access_df['O_TYPE']=='Work') | (access_df['D_TYPE']=='Work'),'WORK']=1\n",
    "\n",
    "access_df['MODE']=0\n",
    "\n",
    "\n",
    "access_df['DEN']=0\n",
    "access_df['DEN']=access_df['A_INTERSECTIONS']/access_df['DISTANCE']\n",
    "\n",
    "access_df=access_df[access_df['DEN']<30]\n",
    "\n",
    "access_df['UNO']=1\n",
    "\n",
    "access_df['HIGH']=0\n",
    "access_df['MED']=0\n",
    "\n",
    "# if DEN is greater than 66 percentile of data of DEN then HIGH is 1 for that entry\n",
    "# if DEN is between 33 and 66 percentiles of data of DEN then MED is 1 for that entry \n",
    "access_df.loc[access_df['DEN']>access_df['DEN'].quantile(0.66),'HIGH']=1\n",
    "access_df.loc[(access_df['DEN']<=access_df['DEN'].quantile(0.66)) & (access_df['DEN']>access_df['DEN'].quantile(0.33)),'MED']=1\n",
    "\n",
    "access_df['DIST1']=0\n",
    "access_df['DIST2']=0\n",
    "access_df['DIST3']=0\n",
    "access_df['DIST4']=0\n",
    "access_df['DIST5']=0\n",
    "\n",
    "access_df.loc[access_df['DISTANCE']<1,'DIST1']=1\n",
    "access_df.loc[(access_df['DISTANCE']>=1) & (access_df['DISTANCE']<2),'DIST2']=1\n",
    "access_df.loc[(access_df['DISTANCE']>=2) & (access_df['DISTANCE']<3),'DIST3']=1\n",
    "access_df.loc[(access_df['DISTANCE']>=3) & (access_df['DISTANCE']<4),'DIST4']=1\n",
    "access_df.loc[(access_df['DISTANCE']>=4),'DIST5']=1\n",
    "\n",
    "access_df['o_pop_high']=0\n",
    "access_df['o_pop_med']=0\n",
    "access_df['o_pop_low']=0\n",
    "\n",
    "access_df.loc[access_df['O_POP_DEN']>access_df['O_POP_DEN'].quantile(0.66),'o_pop_high']=1\n",
    "access_df.loc[(access_df['O_POP_DEN']<=access_df['O_POP_DEN'].quantile(0.66)) & (access_df['O_POP_DEN']>access_df['O_POP_DEN'].quantile(0.33)),'o_pop_med']=1\n",
    "access_df.loc[access_df['O_POP_DEN']<=access_df['O_POP_DEN'].quantile(0.33),'o_pop_low']=1\n",
    "\n",
    "access_df['o_emp_high']=0\n",
    "access_df['o_emp_med']=0\n",
    "access_df['o_emp_low']=0\n",
    "\n",
    "access_df.loc[access_df['O_EMP_DEN']>access_df['O_EMP_DEN'].quantile(0.66),'o_emp_high']=1\n",
    "access_df.loc[(access_df['O_EMP_DEN']<=access_df['O_EMP_DEN'].quantile(0.66)) & (access_df['O_EMP_DEN']>access_df['O_EMP_DEN'].quantile(0.33)),'o_emp_med']=1\n",
    "access_df.loc[access_df['O_EMP_DEN']<=access_df['O_EMP_DEN'].quantile(0.33),'o_emp_low']=1\n",
    "\n",
    "access_df['m_pop_high']=0\n",
    "access_df['m_pop_med']=0\n",
    "access_df['m_pop_low']=0\n",
    "\n",
    "access_df.loc[access_df['M_POP_DEN']>access_df['M_POP_DEN'].quantile(0.66),'m_pop_high']=1\n",
    "access_df.loc[(access_df['M_POP_DEN']<=access_df['M_POP_DEN'].quantile(0.66)) & (access_df['M_POP_DEN']>access_df['M_POP_DEN'].quantile(0.33)),'m_pop_med']=1\n",
    "access_df.loc[access_df['M_POP_DEN']<=access_df['M_POP_DEN'].quantile(0.33),'m_pop_low']=1\n",
    "\n",
    "access_df['m_emp_high']=0\n",
    "access_df['m_emp_med']=0\n",
    "access_df['m_emp_low']=0\n",
    "\n",
    "access_df.loc[access_df['M_EMP_DEN']>access_df['M_EMP_DEN'].quantile(0.66),'m_emp_high']=1\n",
    "access_df.loc[(access_df['M_EMP_DEN']<=access_df['M_EMP_DEN'].quantile(0.66)) & (access_df['M_EMP_DEN']>access_df['M_EMP_DEN'].quantile(0.33)),'m_emp_med']=1\n",
    "access_df.loc[access_df['M_EMP_DEN']<=access_df['M_EMP_DEN'].quantile(0.33),'m_emp_low']=1\n",
    "\n",
    "\n",
    "\n",
    "\n",
    "# output columns ID, RENT_BICYCLE,MALE, ACCESS_SLOPE, A_SLOPE_TYPE, A_DISTANCE_MAP, A_TIME_MAP,O_TYPE,D_TYPE,ACCESS_MODE,AGE_C,N_BICYCLES,CARS,\n",
    "# TWO_WHEELER, OTHERS, A_INTERSECTINS from access_df dataframe to csv file\n",
    "access_df[['ID', 'RENT_BICYCLE', 'MALE', 'SLOPE', 'SLOPE_TYPE', 'DISTANCE', 'TIME','O_TYPE','D_TYPE','ACCESS_MODE',\n",
    "           'AGE1','AGE2','AGE3','VEH','WORK','UNO','SHORT','LONG','MEDIUM','UP','DOWN','POS','FLAT','DIST2','A_INTERSECTIONS',\n",
    "           'o_pop_high','o_pop_med','o_pop_low','o_emp_high','o_emp_med','o_emp_low','m_pop_high','m_pop_med','m_pop_low',\n",
    "             'm_emp_high','m_emp_med','m_emp_low','HIGH','MED','DIST5','DIST2','DEN',\n",
    "        'DIST1','DIST3','DIST4','PARK_RENT','O_POP_DEN', 'O_EMP_DEN', 'M_POP_DEN', 'M_EMP_DEN']].to_csv(path+\"access_data_analysis.csv\",index=False)"
   ]
  },
  {
   "cell_type": "code",
   "execution_count": 133,
   "metadata": {},
   "outputs": [
    {
     "name": "stdout",
     "output_type": "stream",
     "text": [
      "DIST1\n",
      "0    529\n",
      "1    249\n",
      "Name: count, dtype: int64 DIST2\n",
      "0    574\n",
      "1    204\n",
      "Name: count, dtype: int64 DIST3\n",
      "0    636\n",
      "1    142\n",
      "Name: count, dtype: int64 DIST4\n",
      "0    710\n",
      "1     68\n",
      "Name: count, dtype: int64 DIST5\n",
      "0    663\n",
      "1    115\n",
      "Name: count, dtype: int64\n"
     ]
    }
   ],
   "source": [
    "print(access_df['DIST1'].value_counts(),access_df['DIST2'].value_counts(),access_df['DIST3'].value_counts(),access_df['DIST4'].value_counts(),access_df['DIST5'].value_counts())"
   ]
  },
  {
   "cell_type": "code",
   "execution_count": 134,
   "metadata": {},
   "outputs": [
    {
     "name": "stdout",
     "output_type": "stream",
     "text": [
      "PARK_RENT\n",
      "10    355\n",
      "15    221\n",
      "5     202\n",
      "Name: count, dtype: int64 MALE\n",
      "1    435\n",
      "0    343\n",
      "Name: count, dtype: int64 AGE_C\n",
      "1    620\n",
      "2     99\n",
      "3     59\n",
      "Name: count, dtype: int64 WORK\n",
      "0    437\n",
      "1    341\n",
      "Name: count, dtype: int64\n"
     ]
    }
   ],
   "source": [
    "print(access_df['PARK_RENT'].value_counts(),access_df['MALE'].value_counts(),access_df['AGE_C'].value_counts(),access_df['WORK'].value_counts())"
   ]
  },
  {
   "cell_type": "code",
   "execution_count": 135,
   "metadata": {},
   "outputs": [
    {
     "name": "stdout",
     "output_type": "stream",
     "text": [
      "o_emp_high\n",
      "0    513\n",
      "1    265\n",
      "Name: count, dtype: int64 o_emp_med\n",
      "0    522\n",
      "1    256\n",
      "Name: count, dtype: int64 o_emp_low\n",
      "0    521\n",
      "1    257\n",
      "Name: count, dtype: int64\n"
     ]
    }
   ],
   "source": [
    "print(access_df['o_emp_high'].value_counts(),access_df['o_emp_med'].value_counts(),access_df['o_emp_low'].value_counts())"
   ]
  },
  {
   "cell_type": "code",
   "execution_count": 136,
   "metadata": {},
   "outputs": [
    {
     "name": "stdout",
     "output_type": "stream",
     "text": [
      "8151.803773260001 3105.9253120700005\n"
     ]
    }
   ],
   "source": [
    "print(10000*access_df['O_EMP_DEN'].quantile(0.66),10000*access_df['O_EMP_DEN'].quantile(0.33))"
   ]
  },
  {
   "cell_type": "code",
   "execution_count": 21,
   "metadata": {},
   "outputs": [],
   "source": [
    "# rename few columns\n",
    "egress_df.rename(columns = {'E_DISTANCE_MAP':'DISTANCE', 'E_TIME_MAP':'TIME','EGRESS_SLOPE':'SLOPE','A_INTERSECTIONS':'INTERSECTIONS'\n",
    "                            ,'E_SLOPE_TYPE':'SLOPE_TYPE'}, inplace = True)"
   ]
  },
  {
   "cell_type": "code",
   "execution_count": 22,
   "metadata": {},
   "outputs": [
    {
     "ename": "KeyError",
     "evalue": "'SLOPE'",
     "output_type": "error",
     "traceback": [
      "\u001b[1;31m---------------------------------------------------------------------------\u001b[0m",
      "\u001b[1;31mKeyError\u001b[0m                                  Traceback (most recent call last)",
      "File \u001b[1;32md:\\Projects\\mode_choice_prediction\\venv\\Lib\\site-packages\\pandas\\core\\indexes\\base.py:3805\u001b[0m, in \u001b[0;36mIndex.get_loc\u001b[1;34m(self, key)\u001b[0m\n\u001b[0;32m   3804\u001b[0m \u001b[38;5;28;01mtry\u001b[39;00m:\n\u001b[1;32m-> 3805\u001b[0m     \u001b[38;5;28;01mreturn\u001b[39;00m \u001b[38;5;28;43mself\u001b[39;49m\u001b[38;5;241;43m.\u001b[39;49m\u001b[43m_engine\u001b[49m\u001b[38;5;241;43m.\u001b[39;49m\u001b[43mget_loc\u001b[49m\u001b[43m(\u001b[49m\u001b[43mcasted_key\u001b[49m\u001b[43m)\u001b[49m\n\u001b[0;32m   3806\u001b[0m \u001b[38;5;28;01mexcept\u001b[39;00m \u001b[38;5;167;01mKeyError\u001b[39;00m \u001b[38;5;28;01mas\u001b[39;00m err:\n",
      "File \u001b[1;32mindex.pyx:167\u001b[0m, in \u001b[0;36mpandas._libs.index.IndexEngine.get_loc\u001b[1;34m()\u001b[0m\n",
      "File \u001b[1;32mindex.pyx:196\u001b[0m, in \u001b[0;36mpandas._libs.index.IndexEngine.get_loc\u001b[1;34m()\u001b[0m\n",
      "File \u001b[1;32mpandas\\\\_libs\\\\hashtable_class_helper.pxi:7081\u001b[0m, in \u001b[0;36mpandas._libs.hashtable.PyObjectHashTable.get_item\u001b[1;34m()\u001b[0m\n",
      "File \u001b[1;32mpandas\\\\_libs\\\\hashtable_class_helper.pxi:7089\u001b[0m, in \u001b[0;36mpandas._libs.hashtable.PyObjectHashTable.get_item\u001b[1;34m()\u001b[0m\n",
      "\u001b[1;31mKeyError\u001b[0m: 'SLOPE'",
      "\nThe above exception was the direct cause of the following exception:\n",
      "\u001b[1;31mKeyError\u001b[0m                                  Traceback (most recent call last)",
      "Cell \u001b[1;32mIn[22], line 1\u001b[0m\n\u001b[1;32m----> 1\u001b[0m \u001b[38;5;28mprint\u001b[39m(egress_df[\u001b[43megress_df\u001b[49m\u001b[43m[\u001b[49m\u001b[38;5;124;43m'\u001b[39;49m\u001b[38;5;124;43mSLOPE\u001b[39;49m\u001b[38;5;124;43m'\u001b[39;49m\u001b[43m]\u001b[49m\u001b[38;5;241m>\u001b[39m\u001b[38;5;241m1\u001b[39m]\u001b[38;5;241m.\u001b[39mshape[\u001b[38;5;241m0\u001b[39m])\n\u001b[0;32m      2\u001b[0m \u001b[38;5;28mprint\u001b[39m(egress_df[egress_df[\u001b[38;5;124m'\u001b[39m\u001b[38;5;124mSLOPE\u001b[39m\u001b[38;5;124m'\u001b[39m]\u001b[38;5;241m<\u001b[39m\u001b[38;5;241m-\u001b[39m\u001b[38;5;241m1\u001b[39m]\u001b[38;5;241m.\u001b[39mshape[\u001b[38;5;241m0\u001b[39m])\n\u001b[0;32m      3\u001b[0m \u001b[38;5;28mprint\u001b[39m(egress_df\u001b[38;5;241m.\u001b[39mshape[\u001b[38;5;241m0\u001b[39m]\u001b[38;5;241m-\u001b[39m\u001b[38;5;241m166\u001b[39m\u001b[38;5;241m-\u001b[39m\u001b[38;5;241m121\u001b[39m)\n",
      "File \u001b[1;32md:\\Projects\\mode_choice_prediction\\venv\\Lib\\site-packages\\pandas\\core\\frame.py:4102\u001b[0m, in \u001b[0;36mDataFrame.__getitem__\u001b[1;34m(self, key)\u001b[0m\n\u001b[0;32m   4100\u001b[0m \u001b[38;5;28;01mif\u001b[39;00m \u001b[38;5;28mself\u001b[39m\u001b[38;5;241m.\u001b[39mcolumns\u001b[38;5;241m.\u001b[39mnlevels \u001b[38;5;241m>\u001b[39m \u001b[38;5;241m1\u001b[39m:\n\u001b[0;32m   4101\u001b[0m     \u001b[38;5;28;01mreturn\u001b[39;00m \u001b[38;5;28mself\u001b[39m\u001b[38;5;241m.\u001b[39m_getitem_multilevel(key)\n\u001b[1;32m-> 4102\u001b[0m indexer \u001b[38;5;241m=\u001b[39m \u001b[38;5;28;43mself\u001b[39;49m\u001b[38;5;241;43m.\u001b[39;49m\u001b[43mcolumns\u001b[49m\u001b[38;5;241;43m.\u001b[39;49m\u001b[43mget_loc\u001b[49m\u001b[43m(\u001b[49m\u001b[43mkey\u001b[49m\u001b[43m)\u001b[49m\n\u001b[0;32m   4103\u001b[0m \u001b[38;5;28;01mif\u001b[39;00m is_integer(indexer):\n\u001b[0;32m   4104\u001b[0m     indexer \u001b[38;5;241m=\u001b[39m [indexer]\n",
      "File \u001b[1;32md:\\Projects\\mode_choice_prediction\\venv\\Lib\\site-packages\\pandas\\core\\indexes\\base.py:3812\u001b[0m, in \u001b[0;36mIndex.get_loc\u001b[1;34m(self, key)\u001b[0m\n\u001b[0;32m   3807\u001b[0m     \u001b[38;5;28;01mif\u001b[39;00m \u001b[38;5;28misinstance\u001b[39m(casted_key, \u001b[38;5;28mslice\u001b[39m) \u001b[38;5;129;01mor\u001b[39;00m (\n\u001b[0;32m   3808\u001b[0m         \u001b[38;5;28misinstance\u001b[39m(casted_key, abc\u001b[38;5;241m.\u001b[39mIterable)\n\u001b[0;32m   3809\u001b[0m         \u001b[38;5;129;01mand\u001b[39;00m \u001b[38;5;28many\u001b[39m(\u001b[38;5;28misinstance\u001b[39m(x, \u001b[38;5;28mslice\u001b[39m) \u001b[38;5;28;01mfor\u001b[39;00m x \u001b[38;5;129;01min\u001b[39;00m casted_key)\n\u001b[0;32m   3810\u001b[0m     ):\n\u001b[0;32m   3811\u001b[0m         \u001b[38;5;28;01mraise\u001b[39;00m InvalidIndexError(key)\n\u001b[1;32m-> 3812\u001b[0m     \u001b[38;5;28;01mraise\u001b[39;00m \u001b[38;5;167;01mKeyError\u001b[39;00m(key) \u001b[38;5;28;01mfrom\u001b[39;00m \u001b[38;5;21;01merr\u001b[39;00m\n\u001b[0;32m   3813\u001b[0m \u001b[38;5;28;01mexcept\u001b[39;00m \u001b[38;5;167;01mTypeError\u001b[39;00m:\n\u001b[0;32m   3814\u001b[0m     \u001b[38;5;66;03m# If we have a listlike key, _check_indexing_error will raise\u001b[39;00m\n\u001b[0;32m   3815\u001b[0m     \u001b[38;5;66;03m#  InvalidIndexError. Otherwise we fall through and re-raise\u001b[39;00m\n\u001b[0;32m   3816\u001b[0m     \u001b[38;5;66;03m#  the TypeError.\u001b[39;00m\n\u001b[0;32m   3817\u001b[0m     \u001b[38;5;28mself\u001b[39m\u001b[38;5;241m.\u001b[39m_check_indexing_error(key)\n",
      "\u001b[1;31mKeyError\u001b[0m: 'SLOPE'"
     ]
    }
   ],
   "source": [
    "print(egress_df[egress_df['SLOPE']>1].shape[0])\n",
    "print(egress_df[egress_df['SLOPE']<-1].shape[0])\n",
    "print(egress_df.shape[0]-166-121)"
   ]
  },
  {
   "cell_type": "code",
   "execution_count": null,
   "metadata": {},
   "outputs": [],
   "source": [
    "first_mapping = {2: 3, 3: 3, 1: 4, 4: 4}\n",
    "egress_df['RENT_BICYCLE'] = egress_df['RENT_BICYCLE'].replace(first_mapping)\n",
    "\n",
    "# Second mapping: intermediate values to final values\n",
    "second_mapping = {3: 1, 4: 2}\n",
    "egress_df['RENT_BICYCLE'] = egress_df['RENT_BICYCLE'].replace(second_mapping)\n",
    "\n",
    "# Verify the new counts\n",
    "new_counts = egress_df['RENT_BICYCLE'].value_counts()"
   ]
  },
  {
   "cell_type": "code",
   "execution_count": null,
   "metadata": {},
   "outputs": [],
   "source": [
    "egress_df['UP']=0\n",
    "egress_df['DOWN']=0\n",
    "egress_df['FLAT']=0\n",
    "\n",
    "# if SLOPE is positive then make POS as 1 else 0\n",
    "egress_df.loc[egress_df['SLOPE']>1,'UP']=1\n",
    "egress_df.loc[egress_df['SLOPE']<-1,'DOWN']=1\n",
    "egress_df.loc[(egress_df['SLOPE']>=-1) & (egress_df['SLOPE']<=1),'FLAT']=1\n",
    "\n",
    "egress_df['VEH']=0\n",
    "\n",
    "egress_df['POS']=0\n",
    "\n",
    "# if slope is greater than 0 then POS is 1 else 0\n",
    "egress_df.loc[egress_df['SLOPE']>0,'POS']=1\n",
    "\n",
    "# if CARS or TWO_WHEELER is greater than 1 then mark VEH as 1 else 0\n",
    "egress_df.loc[(egress_df['CARS']>1) | (egress_df['TWO_WHEELER']>1),'VEH']=1\n",
    "\n",
    "\n",
    "egress_df['SHORT']=0\n",
    "egress_df['MEDIUM']=0\n",
    "egress_df['LONG']=0\n",
    "\n",
    "# if DISTANCE_MAP is less than 1 then make LOW as 1\n",
    "egress_df.loc[egress_df['DISTANCE']<1,'SHORT']=1\n",
    "# if DISTANCE_MAP is greater than 1 and less than 3 then make MEDIUM 1\n",
    "egress_df.loc[(egress_df['DISTANCE']>=1) & (egress_df['DISTANCE']<3),'MEDIUM']=1\n",
    "# if DISTANCE_MAP is greater than 3 then make HIGH as 1\n",
    "egress_df.loc[egress_df['DISTANCE']>=3,'LONG']=1\n",
    "\n",
    "\n",
    "egress_df['AGE1']=0\n",
    "egress_df['AGE2']=0\n",
    "egress_df['AGE3']=0 \n",
    "\n",
    "# if AGE_C is 1 then AGE1 is 1\n",
    "egress_df.loc[egress_df['AGE_C']==1,'AGE1']=1\n",
    "egress_df.loc[egress_df['AGE_C']==2,'AGE2']=1\n",
    "egress_df.loc[egress_df['AGE_C']==3,'AGE3']=1\n",
    "\n",
    "egress_df['D_POP_DEN']=egress_df['D_POP_DEN']/10000\n",
    "egress_df['D_EMP_DEN']=egress_df['D_EMP_DEN']/10000\n",
    "egress_df['M_POP_DEN']=egress_df['M_POP_DEN']/10000\n",
    "egress_df['M_EMP_DEN']=egress_df['M_EMP_DEN']/10000\n",
    "\n",
    "\n",
    "egress_df['d_pop_low']=0\n",
    "egress_df['d_pop_med']=0\n",
    "egress_df['d_pop_high']=0\n",
    "\n",
    "egress_df['d_emp_high']=0\n",
    "egress_df['d_emp_med']=0\n",
    "egress_df['d_emp_low']=0\n",
    "\n",
    "egress_df['m_pop_low']=0\n",
    "egress_df['m_pop_med']=0\n",
    "egress_df['m_pop_high']=0\n",
    "\n",
    "egress_df['m_emp_low']=0\n",
    "egress_df['m_emp_med']=0\n",
    "egress_df['m_emp_high']=0\n",
    "\n",
    "egress_df.loc[egress_df['D_POP_DEN']>egress_df['D_POP_DEN'].quantile(0.66),'d_pop_high']=1\n",
    "egress_df.loc[(egress_df['D_POP_DEN']<=egress_df['D_POP_DEN'].quantile(0.66)) & (egress_df['D_POP_DEN']>egress_df['D_POP_DEN'].quantile(0.33)),'d_pop_med']=1\n",
    "egress_df.loc[egress_df['D_POP_DEN']<=egress_df['D_POP_DEN'].quantile(0.33),'d_pop_low']=1\n",
    "\n",
    "egress_df.loc[egress_df['D_EMP_DEN']>egress_df['D_EMP_DEN'].quantile(0.66),'d_emp_high']=1\n",
    "egress_df.loc[(egress_df['D_EMP_DEN']<=egress_df['D_EMP_DEN'].quantile(0.66)) & (egress_df['D_EMP_DEN']>egress_df['D_EMP_DEN'].quantile(0.33)),'d_emp_med']=1\n",
    "egress_df.loc[egress_df['D_EMP_DEN']<=egress_df['D_EMP_DEN'].quantile(0.33),'d_emp_low']=1\n",
    "\n",
    "egress_df.loc[egress_df['M_POP_DEN']>egress_df['M_POP_DEN'].quantile(0.66),'m_pop_high']=1\n",
    "egress_df.loc[(egress_df['M_POP_DEN']<=egress_df['M_POP_DEN'].quantile(0.66)) & (egress_df['M_POP_DEN']>egress_df['M_POP_DEN'].quantile(0.33)),'m_pop_med']=1\n",
    "egress_df.loc[egress_df['M_POP_DEN']<=egress_df['M_POP_DEN'].quantile(0.33),'m_pop_low']=1\n",
    "\n",
    "egress_df.loc[egress_df['M_EMP_DEN']>egress_df['M_EMP_DEN'].quantile(0.66),'m_emp_high']=1\n",
    "egress_df.loc[(egress_df['M_EMP_DEN']<=egress_df['M_EMP_DEN'].quantile(0.66)) & (egress_df['M_EMP_DEN']>egress_df['M_EMP_DEN'].quantile(0.33)),'m_emp_med']=1\n",
    "egress_df.loc[egress_df['M_EMP_DEN']<=egress_df['M_EMP_DEN'].quantile(0.33),'m_emp_low']=1\n",
    "\n",
    "\n",
    "\n"
   ]
  },
  {
   "cell_type": "code",
   "execution_count": null,
   "metadata": {},
   "outputs": [],
   "source": [
    "egress_df['WORK']=0\n",
    "egress_df.loc[(egress_df['O_TYPE']=='Work') | (egress_df['D_TYPE']=='Work'),'WORK']=1\n",
    "\n",
    "egress_df['DEN']=0\n",
    "egress_df['DEN']=egress_df['INTERSECTIONS']/egress_df['DISTANCE']\n",
    "\n",
    "egress_df=egress_df[egress_df['DEN']<30]\n",
    "\n",
    "egress_df['HIGH']=0\n",
    "egress_df['MED']=0\n",
    "\n",
    "# if DEN is greater than 66 percentile of data of DEN then HIGH is 1 for that entry\n",
    "# if DEN is between 33 and 66 percentiles of data of DEN then MED is 1 for that entry\n",
    "egress_df.loc[egress_df['DEN']>egress_df['DEN'].quantile(0.66),'HIGH']=1\n",
    "egress_df.loc[(egress_df['DEN']<=egress_df['DEN'].quantile(0.66)) & (egress_df['DEN']>egress_df['DEN'].quantile(0.33)),'MED']=1\n",
    "\n",
    "egress_df['UNO']=1\n",
    "\n",
    "egress_df['FAV']=1\n",
    "egress_df.loc[(egress_df['SLOPE_TYPE']=='rise') | (egress_df['SLOPE_TYPE']=='mixed')| (egress_df['SLOPE_TYPE']=='hydrograph'),'FAV']=0\n",
    "\n",
    "egress_df['DIST1']=0\n",
    "egress_df['DIST2']=0\n",
    "egress_df['DIST3']=0\n",
    "egress_df['DIST4']=0\n",
    "egress_df['DIST5']=0\n",
    "\n",
    "egress_df.loc[egress_df['DISTANCE']<1,'DIST1']=1\n",
    "egress_df.loc[(egress_df['DISTANCE']>=1) & (egress_df['DISTANCE']<2),'DIST2']=1\n",
    "egress_df.loc[(egress_df['DISTANCE']>=2) & (egress_df['DISTANCE']<3),'DIST3']=1\n",
    "egress_df.loc[(egress_df['DISTANCE']>=3) & (egress_df['DISTANCE']<4),'DIST4']=1\n",
    "egress_df.loc[(egress_df['DISTANCE']>=4),'DIST5']=1\n",
    "\n",
    "\n",
    "\n",
    "egress_df[['ID', 'RENT_BICYCLE','MALE', 'SLOPE', 'SLOPE_TYPE', 'DISTANCE', 'AGE1','AGE2','AGE3',\n",
    "           'TIME','O_TYPE','D_TYPE','EGRESS_MODE','VEH','INTERSECTIONS','WORK','UNO','D_POP_DEN','D_EMP_DEN','M_POP_DEN','M_EMP_DEN','d_pop_med','d_pop_high','d_emp_med','d_emp_high','d_pop_low','m_pop_low',\n",
    "           'm_pop_low','m_pop_high','m_pop_med','m_emp_low','m_emp_med','m_emp_high','DEN',\n",
    "           'UP','DOWN','FLAT','LONG','SHORT','MEDIUM','FAV','DIST1','DIST2','DIST3','DIST4','DIST5','PARK_RENT']].to_csv(path+\"egress_data_analysis.csv\",index=True)"
   ]
  },
  {
   "cell_type": "code",
   "execution_count": null,
   "metadata": {},
   "outputs": [
    {
     "name": "stdout",
     "output_type": "stream",
     "text": [
      "AGE_C\n",
      "1    526\n",
      "2     75\n",
      "3     54\n",
      "Name: count, dtype: int64 MALE\n",
      "1    369\n",
      "0    286\n",
      "Name: count, dtype: int64 WORK\n",
      "0    364\n",
      "1    291\n",
      "Name: count, dtype: int64 PARK_RENT\n",
      "10    330\n",
      "5     187\n",
      "15    138\n",
      "Name: count, dtype: int64\n"
     ]
    }
   ],
   "source": [
    "print(egress_df['AGE_C'].value_counts(),egress_df['MALE'].value_counts(),egress_df['WORK'].value_counts(),egress_df['PARK_RENT'].value_counts())"
   ]
  },
  {
   "cell_type": "code",
   "execution_count": null,
   "metadata": {},
   "outputs": [
    {
     "name": "stdout",
     "output_type": "stream",
     "text": [
      "m_emp_high\n",
      "0    447\n",
      "1    208\n",
      "Name: count, dtype: int64 m_emp_med\n",
      "0    437\n",
      "1    218\n",
      "Name: count, dtype: int64 m_emp_low\n",
      "0    426\n",
      "1    229\n",
      "Name: count, dtype: int64\n"
     ]
    }
   ],
   "source": [
    "print(egress_df['m_emp_high'].value_counts(),egress_df['m_emp_med'].value_counts(),egress_df['m_emp_low'].value_counts())"
   ]
  },
  {
   "cell_type": "code",
   "execution_count": null,
   "metadata": {},
   "outputs": [
    {
     "name": "stdout",
     "output_type": "stream",
     "text": [
      "304\n",
      "169\n",
      "75\n",
      "26\n",
      "81\n"
     ]
    }
   ],
   "source": [
    "print(egress_df[egress_df['DISTANCE']<1].shape[0])\n",
    "print(egress_df[(egress_df['DISTANCE']>=1) & (egress_df['DISTANCE']<2)].shape[0])\n",
    "print(egress_df[(egress_df['DISTANCE']>=2) & (egress_df['DISTANCE']<3)].shape[0])\n",
    "print(egress_df[(egress_df['DISTANCE']>=3) & (egress_df['DISTANCE']<4)].shape[0])\n",
    "print(egress_df[(egress_df['DISTANCE']>=4)].shape[0])"
   ]
  }
 ],
 "metadata": {
  "kernelspec": {
   "display_name": "Python 3",
   "language": "python",
   "name": "python3"
  },
  "language_info": {
   "codemirror_mode": {
    "name": "ipython",
    "version": 3
   },
   "file_extension": ".py",
   "mimetype": "text/x-python",
   "name": "python",
   "nbconvert_exporter": "python",
   "pygments_lexer": "ipython3",
   "version": "3.11.2"
  }
 },
 "nbformat": 4,
 "nbformat_minor": 2
}
